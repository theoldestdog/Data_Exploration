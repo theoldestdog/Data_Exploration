{
 "cells": [
  {
   "cell_type": "code",
   "execution_count": 1,
   "metadata": {},
   "outputs": [],
   "source": [
    "import pandas as pd\n",
    "import numpy as np\n",
    "from datetime import datetime as dt\n",
    "pd.options.mode.chained_assignment = None\n",
    "from sklearn.preprocessing import LabelEncoder"
   ]
  },
  {
   "cell_type": "code",
   "execution_count": 2,
   "metadata": {},
   "outputs": [],
   "source": [
    "import seaborn as sns\n",
    "import plotly.graph_objects as go \n",
    "import matplotlib.pyplot as plt"
   ]
  },
  {
   "cell_type": "markdown",
   "metadata": {},
   "source": [
    "Use the online sports gaming data set to perform data analysis and determine preliminary features"
   ]
  },
  {
   "cell_type": "code",
   "execution_count": 3,
   "metadata": {},
   "outputs": [],
   "source": [
    "df_raw = pd.read_csv('Online_sports_DIB.csv')"
   ]
  },
  {
   "cell_type": "markdown",
   "metadata": {},
   "source": [
    "Do basic data gathering in the df\n",
    "1. ReqTimeUTC is type obj so convert to datetime\n",
    "2. 4 columns are 447853 but Status is only 447847 - find out why\n",
    "3. Shorten up the column titles to something more manageable\n",
    "4. The data period ends 2020-02-29 exclude any lines past that date and there are some\n",
    "5. Re-code the Transaction type into shorter and meaningful length\n",
    "6. Strip of 'customer' from the user column leaving only the customer number\n"
   ]
  },
  {
   "cell_type": "code",
   "execution_count": 4,
   "metadata": {},
   "outputs": [],
   "source": [
    "df = df_raw.copy()"
   ]
  },
  {
   "cell_type": "code",
   "execution_count": 5,
   "metadata": {},
   "outputs": [
    {
     "data": {
      "text/html": [
       "<div>\n",
       "<style scoped>\n",
       "    .dataframe tbody tr th:only-of-type {\n",
       "        vertical-align: middle;\n",
       "    }\n",
       "\n",
       "    .dataframe tbody tr th {\n",
       "        vertical-align: top;\n",
       "    }\n",
       "\n",
       "    .dataframe thead th {\n",
       "        text-align: right;\n",
       "    }\n",
       "</style>\n",
       "<table border=\"1\" class=\"dataframe\">\n",
       "  <thead>\n",
       "    <tr style=\"text-align: right;\">\n",
       "      <th></th>\n",
       "      <th>ReqTimeUTC</th>\n",
       "      <th>TransactionType</th>\n",
       "      <th>TransactionAmount</th>\n",
       "      <th>Status</th>\n",
       "      <th>AccountIdentifier</th>\n",
       "    </tr>\n",
       "  </thead>\n",
       "  <tbody>\n",
       "    <tr>\n",
       "      <th>0</th>\n",
       "      <td>2019-12-01T09:29:45+0000</td>\n",
       "      <td>LOYALTYCARDCREDITACH</td>\n",
       "      <td>25.75</td>\n",
       "      <td>APPROVED</td>\n",
       "      <td>customer1607</td>\n",
       "    </tr>\n",
       "    <tr>\n",
       "      <th>1</th>\n",
       "      <td>2020-01-14T08:04:28+0000</td>\n",
       "      <td>LOYALTYCARDCREDITACH</td>\n",
       "      <td>103.00</td>\n",
       "      <td>APPROVED</td>\n",
       "      <td>customer1607</td>\n",
       "    </tr>\n",
       "    <tr>\n",
       "      <th>2</th>\n",
       "      <td>2019-11-07T14:43:36+0000</td>\n",
       "      <td>LOYALTYCARDCREDITACH</td>\n",
       "      <td>20.60</td>\n",
       "      <td>APPROVED</td>\n",
       "      <td>customer1607</td>\n",
       "    </tr>\n",
       "    <tr>\n",
       "      <th>3</th>\n",
       "      <td>2020-01-12T08:30:57+0000</td>\n",
       "      <td>LOYALTYCARDCREDITACH</td>\n",
       "      <td>25.75</td>\n",
       "      <td>APPROVED</td>\n",
       "      <td>customer1607</td>\n",
       "    </tr>\n",
       "    <tr>\n",
       "      <th>4</th>\n",
       "      <td>2020-02-09T06:30:15+0000</td>\n",
       "      <td>LOYALTYCARDCREDITACH</td>\n",
       "      <td>54.58</td>\n",
       "      <td>APPROVED</td>\n",
       "      <td>customer1607</td>\n",
       "    </tr>\n",
       "  </tbody>\n",
       "</table>\n",
       "</div>"
      ],
      "text/plain": [
       "                 ReqTimeUTC       TransactionType  TransactionAmount  \\\n",
       "0  2019-12-01T09:29:45+0000  LOYALTYCARDCREDITACH              25.75   \n",
       "1  2020-01-14T08:04:28+0000  LOYALTYCARDCREDITACH             103.00   \n",
       "2  2019-11-07T14:43:36+0000  LOYALTYCARDCREDITACH              20.60   \n",
       "3  2020-01-12T08:30:57+0000  LOYALTYCARDCREDITACH              25.75   \n",
       "4  2020-02-09T06:30:15+0000  LOYALTYCARDCREDITACH              54.58   \n",
       "\n",
       "     Status AccountIdentifier  \n",
       "0  APPROVED      customer1607  \n",
       "1  APPROVED      customer1607  \n",
       "2  APPROVED      customer1607  \n",
       "3  APPROVED      customer1607  \n",
       "4  APPROVED      customer1607  "
      ]
     },
     "execution_count": 5,
     "metadata": {},
     "output_type": "execute_result"
    }
   ],
   "source": [
    "df.head()"
   ]
  },
  {
   "cell_type": "code",
   "execution_count": 6,
   "metadata": {},
   "outputs": [
    {
     "data": {
      "text/plain": [
       "ReqTimeUTC            object\n",
       "TransactionType       object\n",
       "TransactionAmount    float64\n",
       "Status                object\n",
       "AccountIdentifier     object\n",
       "dtype: object"
      ]
     },
     "execution_count": 6,
     "metadata": {},
     "output_type": "execute_result"
    }
   ],
   "source": [
    "df.dtypes"
   ]
  },
  {
   "cell_type": "code",
   "execution_count": 7,
   "metadata": {},
   "outputs": [
    {
     "name": "stdout",
     "output_type": "stream",
     "text": [
      "<class 'pandas.core.frame.DataFrame'>\n",
      "RangeIndex: 447853 entries, 0 to 447852\n",
      "Data columns (total 5 columns):\n",
      " #   Column             Non-Null Count   Dtype  \n",
      "---  ------             --------------   -----  \n",
      " 0   ReqTimeUTC         447853 non-null  object \n",
      " 1   TransactionType    447853 non-null  object \n",
      " 2   TransactionAmount  447853 non-null  float64\n",
      " 3   Status             447847 non-null  object \n",
      " 4   AccountIdentifier  447853 non-null  object \n",
      "dtypes: float64(1), object(4)\n",
      "memory usage: 17.1+ MB\n"
     ]
    }
   ],
   "source": [
    "df.info()"
   ]
  },
  {
   "cell_type": "code",
   "execution_count": 8,
   "metadata": {},
   "outputs": [
    {
     "data": {
      "text/html": [
       "<div>\n",
       "<style scoped>\n",
       "    .dataframe tbody tr th:only-of-type {\n",
       "        vertical-align: middle;\n",
       "    }\n",
       "\n",
       "    .dataframe tbody tr th {\n",
       "        vertical-align: top;\n",
       "    }\n",
       "\n",
       "    .dataframe thead th {\n",
       "        text-align: right;\n",
       "    }\n",
       "</style>\n",
       "<table border=\"1\" class=\"dataframe\">\n",
       "  <thead>\n",
       "    <tr style=\"text-align: right;\">\n",
       "      <th></th>\n",
       "      <th>TransactionAmount</th>\n",
       "    </tr>\n",
       "  </thead>\n",
       "  <tbody>\n",
       "    <tr>\n",
       "      <th>count</th>\n",
       "      <td>447853.000000</td>\n",
       "    </tr>\n",
       "    <tr>\n",
       "      <th>mean</th>\n",
       "      <td>114.886392</td>\n",
       "    </tr>\n",
       "    <tr>\n",
       "      <th>std</th>\n",
       "      <td>1320.373240</td>\n",
       "    </tr>\n",
       "    <tr>\n",
       "      <th>min</th>\n",
       "      <td>0.010000</td>\n",
       "    </tr>\n",
       "    <tr>\n",
       "      <th>25%</th>\n",
       "      <td>15.440000</td>\n",
       "    </tr>\n",
       "    <tr>\n",
       "      <th>50%</th>\n",
       "      <td>38.000000</td>\n",
       "    </tr>\n",
       "    <tr>\n",
       "      <th>75%</th>\n",
       "      <td>100.000000</td>\n",
       "    </tr>\n",
       "    <tr>\n",
       "      <th>max</th>\n",
       "      <td>545700.000000</td>\n",
       "    </tr>\n",
       "  </tbody>\n",
       "</table>\n",
       "</div>"
      ],
      "text/plain": [
       "       TransactionAmount\n",
       "count      447853.000000\n",
       "mean          114.886392\n",
       "std          1320.373240\n",
       "min             0.010000\n",
       "25%            15.440000\n",
       "50%            38.000000\n",
       "75%           100.000000\n",
       "max        545700.000000"
      ]
     },
     "execution_count": 8,
     "metadata": {},
     "output_type": "execute_result"
    }
   ],
   "source": [
    "df.describe()"
   ]
  },
  {
   "cell_type": "code",
   "execution_count": 9,
   "metadata": {},
   "outputs": [
    {
     "data": {
      "text/html": [
       "<div>\n",
       "<style scoped>\n",
       "    .dataframe tbody tr th:only-of-type {\n",
       "        vertical-align: middle;\n",
       "    }\n",
       "\n",
       "    .dataframe tbody tr th {\n",
       "        vertical-align: top;\n",
       "    }\n",
       "\n",
       "    .dataframe thead th {\n",
       "        text-align: right;\n",
       "    }\n",
       "</style>\n",
       "<table border=\"1\" class=\"dataframe\">\n",
       "  <thead>\n",
       "    <tr style=\"text-align: right;\">\n",
       "      <th></th>\n",
       "      <th>ReqTimeUTC</th>\n",
       "      <th>TransactionType</th>\n",
       "      <th>Status</th>\n",
       "      <th>AccountIdentifier</th>\n",
       "    </tr>\n",
       "  </thead>\n",
       "  <tbody>\n",
       "    <tr>\n",
       "      <th>count</th>\n",
       "      <td>447853</td>\n",
       "      <td>447853</td>\n",
       "      <td>447847</td>\n",
       "      <td>447853</td>\n",
       "    </tr>\n",
       "    <tr>\n",
       "      <th>unique</th>\n",
       "      <td>440021</td>\n",
       "      <td>4</td>\n",
       "      <td>2</td>\n",
       "      <td>5685</td>\n",
       "    </tr>\n",
       "    <tr>\n",
       "      <th>top</th>\n",
       "      <td>2020-01-09T10:28:59+0000</td>\n",
       "      <td>LOYALTYCARDDEBIT</td>\n",
       "      <td>APPROVED</td>\n",
       "      <td>customer40</td>\n",
       "    </tr>\n",
       "    <tr>\n",
       "      <th>freq</th>\n",
       "      <td>6</td>\n",
       "      <td>219715</td>\n",
       "      <td>436908</td>\n",
       "      <td>3662</td>\n",
       "    </tr>\n",
       "  </tbody>\n",
       "</table>\n",
       "</div>"
      ],
      "text/plain": [
       "                      ReqTimeUTC   TransactionType    Status AccountIdentifier\n",
       "count                     447853            447853    447847            447853\n",
       "unique                    440021                 4         2              5685\n",
       "top     2020-01-09T10:28:59+0000  LOYALTYCARDDEBIT  APPROVED        customer40\n",
       "freq                           6            219715    436908              3662"
      ]
     },
     "execution_count": 9,
     "metadata": {},
     "output_type": "execute_result"
    }
   ],
   "source": [
    "df.describe(include='O')"
   ]
  },
  {
   "cell_type": "code",
   "execution_count": 10,
   "metadata": {},
   "outputs": [
    {
     "data": {
      "text/plain": [
       "ReqTimeUTC           datetime64[ns, UTC]\n",
       "TransactionType                   object\n",
       "TransactionAmount                float64\n",
       "Status                            object\n",
       "AccountIdentifier                 object\n",
       "dtype: object"
      ]
     },
     "execution_count": 10,
     "metadata": {},
     "output_type": "execute_result"
    }
   ],
   "source": [
    "# Change dtype\n",
    "\n",
    "df.ReqTimeUTC = pd.to_datetime(df.ReqTimeUTC)\n",
    "df.dtypes"
   ]
  },
  {
   "cell_type": "code",
   "execution_count": 11,
   "metadata": {},
   "outputs": [
    {
     "data": {
      "text/html": [
       "<div>\n",
       "<style scoped>\n",
       "    .dataframe tbody tr th:only-of-type {\n",
       "        vertical-align: middle;\n",
       "    }\n",
       "\n",
       "    .dataframe tbody tr th {\n",
       "        vertical-align: top;\n",
       "    }\n",
       "\n",
       "    .dataframe thead th {\n",
       "        text-align: right;\n",
       "    }\n",
       "</style>\n",
       "<table border=\"1\" class=\"dataframe\">\n",
       "  <thead>\n",
       "    <tr style=\"text-align: right;\">\n",
       "      <th></th>\n",
       "      <th>ReqTimeUTC</th>\n",
       "      <th>TransactionType</th>\n",
       "      <th>TransactionAmount</th>\n",
       "      <th>Status</th>\n",
       "      <th>AccountIdentifier</th>\n",
       "    </tr>\n",
       "  </thead>\n",
       "  <tbody>\n",
       "    <tr>\n",
       "      <th>0</th>\n",
       "      <td>2019-12-01 09:29:45+00:00</td>\n",
       "      <td>LOYALTYCARDCREDITACH</td>\n",
       "      <td>25.75</td>\n",
       "      <td>APPROVED</td>\n",
       "      <td>customer1607</td>\n",
       "    </tr>\n",
       "    <tr>\n",
       "      <th>1</th>\n",
       "      <td>2020-01-14 08:04:28+00:00</td>\n",
       "      <td>LOYALTYCARDCREDITACH</td>\n",
       "      <td>103.00</td>\n",
       "      <td>APPROVED</td>\n",
       "      <td>customer1607</td>\n",
       "    </tr>\n",
       "    <tr>\n",
       "      <th>2</th>\n",
       "      <td>2019-11-07 14:43:36+00:00</td>\n",
       "      <td>LOYALTYCARDCREDITACH</td>\n",
       "      <td>20.60</td>\n",
       "      <td>APPROVED</td>\n",
       "      <td>customer1607</td>\n",
       "    </tr>\n",
       "    <tr>\n",
       "      <th>3</th>\n",
       "      <td>2020-01-12 08:30:57+00:00</td>\n",
       "      <td>LOYALTYCARDCREDITACH</td>\n",
       "      <td>25.75</td>\n",
       "      <td>APPROVED</td>\n",
       "      <td>customer1607</td>\n",
       "    </tr>\n",
       "    <tr>\n",
       "      <th>4</th>\n",
       "      <td>2020-02-09 06:30:15+00:00</td>\n",
       "      <td>LOYALTYCARDCREDITACH</td>\n",
       "      <td>54.58</td>\n",
       "      <td>APPROVED</td>\n",
       "      <td>customer1607</td>\n",
       "    </tr>\n",
       "  </tbody>\n",
       "</table>\n",
       "</div>"
      ],
      "text/plain": [
       "                 ReqTimeUTC       TransactionType  TransactionAmount  \\\n",
       "0 2019-12-01 09:29:45+00:00  LOYALTYCARDCREDITACH              25.75   \n",
       "1 2020-01-14 08:04:28+00:00  LOYALTYCARDCREDITACH             103.00   \n",
       "2 2019-11-07 14:43:36+00:00  LOYALTYCARDCREDITACH              20.60   \n",
       "3 2020-01-12 08:30:57+00:00  LOYALTYCARDCREDITACH              25.75   \n",
       "4 2020-02-09 06:30:15+00:00  LOYALTYCARDCREDITACH              54.58   \n",
       "\n",
       "     Status AccountIdentifier  \n",
       "0  APPROVED      customer1607  \n",
       "1  APPROVED      customer1607  \n",
       "2  APPROVED      customer1607  \n",
       "3  APPROVED      customer1607  \n",
       "4  APPROVED      customer1607  "
      ]
     },
     "execution_count": 11,
     "metadata": {},
     "output_type": "execute_result"
    }
   ],
   "source": [
    "# Remove dates after end of Feb\n",
    "\n",
    "df = df[df.ReqTimeUTC <= '2020-02-29 00:00:00+00:00'].copy()\n",
    "df.head()"
   ]
  },
  {
   "cell_type": "code",
   "execution_count": 12,
   "metadata": {},
   "outputs": [
    {
     "name": "stdout",
     "output_type": "stream",
     "text": [
      "                     ReqTimeUTC      TransactionType  TransactionAmount  \\\n",
      "18552 2020-01-09 10:28:59+00:00  LOYALTYCARDCREDITCL              103.0   \n",
      "18593 2020-01-09 10:28:59+00:00  LOYALTYCARDCREDITCL              103.0   \n",
      "18608 2020-01-09 10:28:59+00:00  LOYALTYCARDCREDITCL              103.0   \n",
      "18620 2020-01-09 10:28:59+00:00  LOYALTYCARDCREDITCL              103.0   \n",
      "18621 2020-01-09 10:28:59+00:00  LOYALTYCARDCREDITCL              103.0   \n",
      "18622 2020-01-09 10:28:59+00:00  LOYALTYCARDCREDITCL              103.0   \n",
      "\n",
      "      Status AccountIdentifier  \n",
      "18552    NaN      customer1191  \n",
      "18593    NaN      customer1191  \n",
      "18608    NaN      customer1191  \n",
      "18620    NaN      customer1191  \n",
      "18621    NaN      customer1191  \n",
      "18622    NaN      customer1191  \n"
     ]
    }
   ],
   "source": [
    "#find missing entries in Status\n",
    "\n",
    "missing_entries = df[df['Status'].isna()]\n",
    "print(missing_entries)"
   ]
  },
  {
   "cell_type": "code",
   "execution_count": 13,
   "metadata": {},
   "outputs": [
    {
     "name": "stdout",
     "output_type": "stream",
     "text": [
      "<class 'pandas.core.frame.DataFrame'>\n",
      "Index: 443186 entries, 0 to 447852\n",
      "Data columns (total 5 columns):\n",
      " #   Column             Non-Null Count   Dtype              \n",
      "---  ------             --------------   -----              \n",
      " 0   ReqTimeUTC         443186 non-null  datetime64[ns, UTC]\n",
      " 1   TransactionType    443186 non-null  object             \n",
      " 2   TransactionAmount  443186 non-null  float64            \n",
      " 3   Status             443186 non-null  object             \n",
      " 4   AccountIdentifier  443186 non-null  object             \n",
      "dtypes: datetime64[ns, UTC](1), float64(1), object(3)\n",
      "memory usage: 20.3+ MB\n"
     ]
    }
   ],
   "source": [
    "# Drop rows with missing values in 'your_column'\n",
    "df = df.dropna(subset=['Status'])\n",
    "df.info()\n"
   ]
  },
  {
   "cell_type": "code",
   "execution_count": 14,
   "metadata": {},
   "outputs": [
    {
     "data": {
      "text/plain": [
       "array(['LOYALTYCARDCREDITACH', 'LOYALTYCARDDEBIT', 'LOYALTYCARDCREDITCL',\n",
       "       'LOYALTYCARDCREDIT'], dtype=object)"
      ]
     },
     "execution_count": 14,
     "metadata": {},
     "output_type": "execute_result"
    }
   ],
   "source": [
    "df.TransactionType.unique()"
   ]
  },
  {
   "cell_type": "markdown",
   "metadata": {},
   "source": [
    "Mapping for TransactionType \n",
    "LOYALTYCARDCREDITACH: L1D, LOYALTYCARDCREDITCL: L1D,\n",
    "LOYALTYCARDDEBIT: L2D,  LOYALTYCARDCREDIT: L2W"
   ]
  },
  {
   "cell_type": "code",
   "execution_count": 15,
   "metadata": {},
   "outputs": [
    {
     "data": {
      "text/html": [
       "<div>\n",
       "<style scoped>\n",
       "    .dataframe tbody tr th:only-of-type {\n",
       "        vertical-align: middle;\n",
       "    }\n",
       "\n",
       "    .dataframe tbody tr th {\n",
       "        vertical-align: top;\n",
       "    }\n",
       "\n",
       "    .dataframe thead th {\n",
       "        text-align: right;\n",
       "    }\n",
       "</style>\n",
       "<table border=\"1\" class=\"dataframe\">\n",
       "  <thead>\n",
       "    <tr style=\"text-align: right;\">\n",
       "      <th></th>\n",
       "      <th>ReqTimeUTC</th>\n",
       "      <th>TransactionType</th>\n",
       "      <th>TransactionAmount</th>\n",
       "      <th>Status</th>\n",
       "      <th>AccountIdentifier</th>\n",
       "    </tr>\n",
       "  </thead>\n",
       "  <tbody>\n",
       "    <tr>\n",
       "      <th>0</th>\n",
       "      <td>2019-12-01 09:29:45+00:00</td>\n",
       "      <td>L1D</td>\n",
       "      <td>25.75</td>\n",
       "      <td>APPROVED</td>\n",
       "      <td>customer1607</td>\n",
       "    </tr>\n",
       "    <tr>\n",
       "      <th>1</th>\n",
       "      <td>2020-01-14 08:04:28+00:00</td>\n",
       "      <td>L1D</td>\n",
       "      <td>103.00</td>\n",
       "      <td>APPROVED</td>\n",
       "      <td>customer1607</td>\n",
       "    </tr>\n",
       "    <tr>\n",
       "      <th>2</th>\n",
       "      <td>2019-11-07 14:43:36+00:00</td>\n",
       "      <td>L1D</td>\n",
       "      <td>20.60</td>\n",
       "      <td>APPROVED</td>\n",
       "      <td>customer1607</td>\n",
       "    </tr>\n",
       "    <tr>\n",
       "      <th>3</th>\n",
       "      <td>2020-01-12 08:30:57+00:00</td>\n",
       "      <td>L1D</td>\n",
       "      <td>25.75</td>\n",
       "      <td>APPROVED</td>\n",
       "      <td>customer1607</td>\n",
       "    </tr>\n",
       "    <tr>\n",
       "      <th>4</th>\n",
       "      <td>2020-02-09 06:30:15+00:00</td>\n",
       "      <td>L1D</td>\n",
       "      <td>54.58</td>\n",
       "      <td>APPROVED</td>\n",
       "      <td>customer1607</td>\n",
       "    </tr>\n",
       "    <tr>\n",
       "      <th>...</th>\n",
       "      <td>...</td>\n",
       "      <td>...</td>\n",
       "      <td>...</td>\n",
       "      <td>...</td>\n",
       "      <td>...</td>\n",
       "    </tr>\n",
       "    <tr>\n",
       "      <th>447848</th>\n",
       "      <td>2020-01-13 05:37:35+00:00</td>\n",
       "      <td>L1D</td>\n",
       "      <td>20.60</td>\n",
       "      <td>APPROVED</td>\n",
       "      <td>customer3787</td>\n",
       "    </tr>\n",
       "    <tr>\n",
       "      <th>447849</th>\n",
       "      <td>2019-12-22 07:07:35+00:00</td>\n",
       "      <td>L2D</td>\n",
       "      <td>25.00</td>\n",
       "      <td>APPROVED</td>\n",
       "      <td>customer3787</td>\n",
       "    </tr>\n",
       "    <tr>\n",
       "      <th>447850</th>\n",
       "      <td>2019-12-22 07:04:58+00:00</td>\n",
       "      <td>L1D</td>\n",
       "      <td>25.75</td>\n",
       "      <td>APPROVED</td>\n",
       "      <td>customer3787</td>\n",
       "    </tr>\n",
       "    <tr>\n",
       "      <th>447851</th>\n",
       "      <td>2020-01-17 00:05:35+00:00</td>\n",
       "      <td>L2D</td>\n",
       "      <td>25.00</td>\n",
       "      <td>APPROVED</td>\n",
       "      <td>customer3787</td>\n",
       "    </tr>\n",
       "    <tr>\n",
       "      <th>447852</th>\n",
       "      <td>2019-12-22 07:16:11+00:00</td>\n",
       "      <td>L2D</td>\n",
       "      <td>25.00</td>\n",
       "      <td>APPROVED</td>\n",
       "      <td>customer3787</td>\n",
       "    </tr>\n",
       "  </tbody>\n",
       "</table>\n",
       "<p>443186 rows × 5 columns</p>\n",
       "</div>"
      ],
      "text/plain": [
       "                      ReqTimeUTC TransactionType  TransactionAmount    Status  \\\n",
       "0      2019-12-01 09:29:45+00:00             L1D              25.75  APPROVED   \n",
       "1      2020-01-14 08:04:28+00:00             L1D             103.00  APPROVED   \n",
       "2      2019-11-07 14:43:36+00:00             L1D              20.60  APPROVED   \n",
       "3      2020-01-12 08:30:57+00:00             L1D              25.75  APPROVED   \n",
       "4      2020-02-09 06:30:15+00:00             L1D              54.58  APPROVED   \n",
       "...                          ...             ...                ...       ...   \n",
       "447848 2020-01-13 05:37:35+00:00             L1D              20.60  APPROVED   \n",
       "447849 2019-12-22 07:07:35+00:00             L2D              25.00  APPROVED   \n",
       "447850 2019-12-22 07:04:58+00:00             L1D              25.75  APPROVED   \n",
       "447851 2020-01-17 00:05:35+00:00             L2D              25.00  APPROVED   \n",
       "447852 2019-12-22 07:16:11+00:00             L2D              25.00  APPROVED   \n",
       "\n",
       "       AccountIdentifier  \n",
       "0           customer1607  \n",
       "1           customer1607  \n",
       "2           customer1607  \n",
       "3           customer1607  \n",
       "4           customer1607  \n",
       "...                  ...  \n",
       "447848      customer3787  \n",
       "447849      customer3787  \n",
       "447850      customer3787  \n",
       "447851      customer3787  \n",
       "447852      customer3787  \n",
       "\n",
       "[443186 rows x 5 columns]"
      ]
     },
     "execution_count": 15,
     "metadata": {},
     "output_type": "execute_result"
    }
   ],
   "source": [
    "df.TransactionType = df.TransactionType.map({'LOYALTYCARDCREDITACH':'L1D', 'LOYALTYCARDCREDITCL':'L1D',\n",
    "'LOYALTYCARDDEBIT':'L2D', 'LOYALTYCARDCREDIT':'L2W'})\n",
    "\n",
    "df"
   ]
  },
  {
   "cell_type": "code",
   "execution_count": 16,
   "metadata": {},
   "outputs": [
    {
     "data": {
      "text/html": [
       "<div>\n",
       "<style scoped>\n",
       "    .dataframe tbody tr th:only-of-type {\n",
       "        vertical-align: middle;\n",
       "    }\n",
       "\n",
       "    .dataframe tbody tr th {\n",
       "        vertical-align: top;\n",
       "    }\n",
       "\n",
       "    .dataframe thead th {\n",
       "        text-align: right;\n",
       "    }\n",
       "</style>\n",
       "<table border=\"1\" class=\"dataframe\">\n",
       "  <thead>\n",
       "    <tr style=\"text-align: right;\">\n",
       "      <th></th>\n",
       "      <th>date</th>\n",
       "      <th>type</th>\n",
       "      <th>amount</th>\n",
       "      <th>status</th>\n",
       "      <th>user</th>\n",
       "    </tr>\n",
       "  </thead>\n",
       "  <tbody>\n",
       "    <tr>\n",
       "      <th>0</th>\n",
       "      <td>2019-12-01 09:29:45+00:00</td>\n",
       "      <td>L1D</td>\n",
       "      <td>25.75</td>\n",
       "      <td>APPROVED</td>\n",
       "      <td>customer1607</td>\n",
       "    </tr>\n",
       "    <tr>\n",
       "      <th>1</th>\n",
       "      <td>2020-01-14 08:04:28+00:00</td>\n",
       "      <td>L1D</td>\n",
       "      <td>103.00</td>\n",
       "      <td>APPROVED</td>\n",
       "      <td>customer1607</td>\n",
       "    </tr>\n",
       "    <tr>\n",
       "      <th>2</th>\n",
       "      <td>2019-11-07 14:43:36+00:00</td>\n",
       "      <td>L1D</td>\n",
       "      <td>20.60</td>\n",
       "      <td>APPROVED</td>\n",
       "      <td>customer1607</td>\n",
       "    </tr>\n",
       "    <tr>\n",
       "      <th>3</th>\n",
       "      <td>2020-01-12 08:30:57+00:00</td>\n",
       "      <td>L1D</td>\n",
       "      <td>25.75</td>\n",
       "      <td>APPROVED</td>\n",
       "      <td>customer1607</td>\n",
       "    </tr>\n",
       "    <tr>\n",
       "      <th>4</th>\n",
       "      <td>2020-02-09 06:30:15+00:00</td>\n",
       "      <td>L1D</td>\n",
       "      <td>54.58</td>\n",
       "      <td>APPROVED</td>\n",
       "      <td>customer1607</td>\n",
       "    </tr>\n",
       "    <tr>\n",
       "      <th>...</th>\n",
       "      <td>...</td>\n",
       "      <td>...</td>\n",
       "      <td>...</td>\n",
       "      <td>...</td>\n",
       "      <td>...</td>\n",
       "    </tr>\n",
       "    <tr>\n",
       "      <th>447848</th>\n",
       "      <td>2020-01-13 05:37:35+00:00</td>\n",
       "      <td>L1D</td>\n",
       "      <td>20.60</td>\n",
       "      <td>APPROVED</td>\n",
       "      <td>customer3787</td>\n",
       "    </tr>\n",
       "    <tr>\n",
       "      <th>447849</th>\n",
       "      <td>2019-12-22 07:07:35+00:00</td>\n",
       "      <td>L2D</td>\n",
       "      <td>25.00</td>\n",
       "      <td>APPROVED</td>\n",
       "      <td>customer3787</td>\n",
       "    </tr>\n",
       "    <tr>\n",
       "      <th>447850</th>\n",
       "      <td>2019-12-22 07:04:58+00:00</td>\n",
       "      <td>L1D</td>\n",
       "      <td>25.75</td>\n",
       "      <td>APPROVED</td>\n",
       "      <td>customer3787</td>\n",
       "    </tr>\n",
       "    <tr>\n",
       "      <th>447851</th>\n",
       "      <td>2020-01-17 00:05:35+00:00</td>\n",
       "      <td>L2D</td>\n",
       "      <td>25.00</td>\n",
       "      <td>APPROVED</td>\n",
       "      <td>customer3787</td>\n",
       "    </tr>\n",
       "    <tr>\n",
       "      <th>447852</th>\n",
       "      <td>2019-12-22 07:16:11+00:00</td>\n",
       "      <td>L2D</td>\n",
       "      <td>25.00</td>\n",
       "      <td>APPROVED</td>\n",
       "      <td>customer3787</td>\n",
       "    </tr>\n",
       "  </tbody>\n",
       "</table>\n",
       "<p>443186 rows × 5 columns</p>\n",
       "</div>"
      ],
      "text/plain": [
       "                            date type  amount    status          user\n",
       "0      2019-12-01 09:29:45+00:00  L1D   25.75  APPROVED  customer1607\n",
       "1      2020-01-14 08:04:28+00:00  L1D  103.00  APPROVED  customer1607\n",
       "2      2019-11-07 14:43:36+00:00  L1D   20.60  APPROVED  customer1607\n",
       "3      2020-01-12 08:30:57+00:00  L1D   25.75  APPROVED  customer1607\n",
       "4      2020-02-09 06:30:15+00:00  L1D   54.58  APPROVED  customer1607\n",
       "...                          ...  ...     ...       ...           ...\n",
       "447848 2020-01-13 05:37:35+00:00  L1D   20.60  APPROVED  customer3787\n",
       "447849 2019-12-22 07:07:35+00:00  L2D   25.00  APPROVED  customer3787\n",
       "447850 2019-12-22 07:04:58+00:00  L1D   25.75  APPROVED  customer3787\n",
       "447851 2020-01-17 00:05:35+00:00  L2D   25.00  APPROVED  customer3787\n",
       "447852 2019-12-22 07:16:11+00:00  L2D   25.00  APPROVED  customer3787\n",
       "\n",
       "[443186 rows x 5 columns]"
      ]
     },
     "execution_count": 16,
     "metadata": {},
     "output_type": "execute_result"
    }
   ],
   "source": [
    "# Rename the columns\n",
    "\n",
    "df.rename(columns= {'AccountIdentifier':'user', 'ReqTimeUTC':'date', 'Status':'status',\n",
    "                     'TransactionType':'type', 'TransactionAmount':'amount'}, inplace=True)\n",
    "\n",
    "df"
   ]
  },
  {
   "cell_type": "code",
   "execution_count": 17,
   "metadata": {},
   "outputs": [
    {
     "data": {
      "text/html": [
       "<div>\n",
       "<style scoped>\n",
       "    .dataframe tbody tr th:only-of-type {\n",
       "        vertical-align: middle;\n",
       "    }\n",
       "\n",
       "    .dataframe tbody tr th {\n",
       "        vertical-align: top;\n",
       "    }\n",
       "\n",
       "    .dataframe thead th {\n",
       "        text-align: right;\n",
       "    }\n",
       "</style>\n",
       "<table border=\"1\" class=\"dataframe\">\n",
       "  <thead>\n",
       "    <tr style=\"text-align: right;\">\n",
       "      <th></th>\n",
       "      <th>date</th>\n",
       "      <th>type</th>\n",
       "      <th>amount</th>\n",
       "      <th>status</th>\n",
       "      <th>user</th>\n",
       "    </tr>\n",
       "  </thead>\n",
       "  <tbody>\n",
       "    <tr>\n",
       "      <th>0</th>\n",
       "      <td>2019-12-01 09:29:45+00:00</td>\n",
       "      <td>L1D</td>\n",
       "      <td>25.75</td>\n",
       "      <td>APPROVED</td>\n",
       "      <td>1607</td>\n",
       "    </tr>\n",
       "    <tr>\n",
       "      <th>1</th>\n",
       "      <td>2020-01-14 08:04:28+00:00</td>\n",
       "      <td>L1D</td>\n",
       "      <td>103.00</td>\n",
       "      <td>APPROVED</td>\n",
       "      <td>1607</td>\n",
       "    </tr>\n",
       "    <tr>\n",
       "      <th>2</th>\n",
       "      <td>2019-11-07 14:43:36+00:00</td>\n",
       "      <td>L1D</td>\n",
       "      <td>20.60</td>\n",
       "      <td>APPROVED</td>\n",
       "      <td>1607</td>\n",
       "    </tr>\n",
       "    <tr>\n",
       "      <th>3</th>\n",
       "      <td>2020-01-12 08:30:57+00:00</td>\n",
       "      <td>L1D</td>\n",
       "      <td>25.75</td>\n",
       "      <td>APPROVED</td>\n",
       "      <td>1607</td>\n",
       "    </tr>\n",
       "    <tr>\n",
       "      <th>4</th>\n",
       "      <td>2020-02-09 06:30:15+00:00</td>\n",
       "      <td>L1D</td>\n",
       "      <td>54.58</td>\n",
       "      <td>APPROVED</td>\n",
       "      <td>1607</td>\n",
       "    </tr>\n",
       "    <tr>\n",
       "      <th>...</th>\n",
       "      <td>...</td>\n",
       "      <td>...</td>\n",
       "      <td>...</td>\n",
       "      <td>...</td>\n",
       "      <td>...</td>\n",
       "    </tr>\n",
       "    <tr>\n",
       "      <th>447848</th>\n",
       "      <td>2020-01-13 05:37:35+00:00</td>\n",
       "      <td>L1D</td>\n",
       "      <td>20.60</td>\n",
       "      <td>APPROVED</td>\n",
       "      <td>3787</td>\n",
       "    </tr>\n",
       "    <tr>\n",
       "      <th>447849</th>\n",
       "      <td>2019-12-22 07:07:35+00:00</td>\n",
       "      <td>L2D</td>\n",
       "      <td>25.00</td>\n",
       "      <td>APPROVED</td>\n",
       "      <td>3787</td>\n",
       "    </tr>\n",
       "    <tr>\n",
       "      <th>447850</th>\n",
       "      <td>2019-12-22 07:04:58+00:00</td>\n",
       "      <td>L1D</td>\n",
       "      <td>25.75</td>\n",
       "      <td>APPROVED</td>\n",
       "      <td>3787</td>\n",
       "    </tr>\n",
       "    <tr>\n",
       "      <th>447851</th>\n",
       "      <td>2020-01-17 00:05:35+00:00</td>\n",
       "      <td>L2D</td>\n",
       "      <td>25.00</td>\n",
       "      <td>APPROVED</td>\n",
       "      <td>3787</td>\n",
       "    </tr>\n",
       "    <tr>\n",
       "      <th>447852</th>\n",
       "      <td>2019-12-22 07:16:11+00:00</td>\n",
       "      <td>L2D</td>\n",
       "      <td>25.00</td>\n",
       "      <td>APPROVED</td>\n",
       "      <td>3787</td>\n",
       "    </tr>\n",
       "  </tbody>\n",
       "</table>\n",
       "<p>443186 rows × 5 columns</p>\n",
       "</div>"
      ],
      "text/plain": [
       "                            date type  amount    status  user\n",
       "0      2019-12-01 09:29:45+00:00  L1D   25.75  APPROVED  1607\n",
       "1      2020-01-14 08:04:28+00:00  L1D  103.00  APPROVED  1607\n",
       "2      2019-11-07 14:43:36+00:00  L1D   20.60  APPROVED  1607\n",
       "3      2020-01-12 08:30:57+00:00  L1D   25.75  APPROVED  1607\n",
       "4      2020-02-09 06:30:15+00:00  L1D   54.58  APPROVED  1607\n",
       "...                          ...  ...     ...       ...   ...\n",
       "447848 2020-01-13 05:37:35+00:00  L1D   20.60  APPROVED  3787\n",
       "447849 2019-12-22 07:07:35+00:00  L2D   25.00  APPROVED  3787\n",
       "447850 2019-12-22 07:04:58+00:00  L1D   25.75  APPROVED  3787\n",
       "447851 2020-01-17 00:05:35+00:00  L2D   25.00  APPROVED  3787\n",
       "447852 2019-12-22 07:16:11+00:00  L2D   25.00  APPROVED  3787\n",
       "\n",
       "[443186 rows x 5 columns]"
      ]
     },
     "execution_count": 17,
     "metadata": {},
     "output_type": "execute_result"
    }
   ],
   "source": [
    "# Strip off the 'Customer' prefix in the user column. Leave just the id number\n",
    "\n",
    "df['user'] = df['user'].str.replace('customer', '', regex=True)\n",
    "\n",
    "df"
   ]
  },
  {
   "cell_type": "code",
   "execution_count": 18,
   "metadata": {},
   "outputs": [],
   "source": [
    "# Group the df by user and type to see what we've got"
   ]
  },
  {
   "cell_type": "code",
   "execution_count": 19,
   "metadata": {},
   "outputs": [
    {
     "data": {
      "text/html": [
       "<div>\n",
       "<style scoped>\n",
       "    .dataframe tbody tr th:only-of-type {\n",
       "        vertical-align: middle;\n",
       "    }\n",
       "\n",
       "    .dataframe tbody tr th {\n",
       "        vertical-align: top;\n",
       "    }\n",
       "\n",
       "    .dataframe thead th {\n",
       "        text-align: right;\n",
       "    }\n",
       "</style>\n",
       "<table border=\"1\" class=\"dataframe\">\n",
       "  <thead>\n",
       "    <tr style=\"text-align: right;\">\n",
       "      <th></th>\n",
       "      <th>user</th>\n",
       "      <th>type</th>\n",
       "      <th>date</th>\n",
       "      <th>amount</th>\n",
       "      <th>status</th>\n",
       "    </tr>\n",
       "  </thead>\n",
       "  <tbody>\n",
       "    <tr>\n",
       "      <th>0</th>\n",
       "      <td>1</td>\n",
       "      <td>L1D</td>\n",
       "      <td>102</td>\n",
       "      <td>102</td>\n",
       "      <td>102</td>\n",
       "    </tr>\n",
       "    <tr>\n",
       "      <th>1</th>\n",
       "      <td>1</td>\n",
       "      <td>L2D</td>\n",
       "      <td>102</td>\n",
       "      <td>102</td>\n",
       "      <td>102</td>\n",
       "    </tr>\n",
       "    <tr>\n",
       "      <th>2</th>\n",
       "      <td>1</td>\n",
       "      <td>L2W</td>\n",
       "      <td>2</td>\n",
       "      <td>2</td>\n",
       "      <td>2</td>\n",
       "    </tr>\n",
       "    <tr>\n",
       "      <th>3</th>\n",
       "      <td>10</td>\n",
       "      <td>L1D</td>\n",
       "      <td>382</td>\n",
       "      <td>382</td>\n",
       "      <td>382</td>\n",
       "    </tr>\n",
       "    <tr>\n",
       "      <th>4</th>\n",
       "      <td>10</td>\n",
       "      <td>L2D</td>\n",
       "      <td>386</td>\n",
       "      <td>386</td>\n",
       "      <td>386</td>\n",
       "    </tr>\n",
       "    <tr>\n",
       "      <th>...</th>\n",
       "      <td>...</td>\n",
       "      <td>...</td>\n",
       "      <td>...</td>\n",
       "      <td>...</td>\n",
       "      <td>...</td>\n",
       "    </tr>\n",
       "    <tr>\n",
       "      <th>12882</th>\n",
       "      <td>998</td>\n",
       "      <td>L1D</td>\n",
       "      <td>8</td>\n",
       "      <td>8</td>\n",
       "      <td>8</td>\n",
       "    </tr>\n",
       "    <tr>\n",
       "      <th>12883</th>\n",
       "      <td>998</td>\n",
       "      <td>L2D</td>\n",
       "      <td>8</td>\n",
       "      <td>8</td>\n",
       "      <td>8</td>\n",
       "    </tr>\n",
       "    <tr>\n",
       "      <th>12884</th>\n",
       "      <td>999</td>\n",
       "      <td>L1D</td>\n",
       "      <td>168</td>\n",
       "      <td>168</td>\n",
       "      <td>168</td>\n",
       "    </tr>\n",
       "    <tr>\n",
       "      <th>12885</th>\n",
       "      <td>999</td>\n",
       "      <td>L2D</td>\n",
       "      <td>164</td>\n",
       "      <td>164</td>\n",
       "      <td>164</td>\n",
       "    </tr>\n",
       "    <tr>\n",
       "      <th>12886</th>\n",
       "      <td>999</td>\n",
       "      <td>L2W</td>\n",
       "      <td>36</td>\n",
       "      <td>36</td>\n",
       "      <td>36</td>\n",
       "    </tr>\n",
       "  </tbody>\n",
       "</table>\n",
       "<p>12887 rows × 5 columns</p>\n",
       "</div>"
      ],
      "text/plain": [
       "      user type  date  amount  status\n",
       "0        1  L1D   102     102     102\n",
       "1        1  L2D   102     102     102\n",
       "2        1  L2W     2       2       2\n",
       "3       10  L1D   382     382     382\n",
       "4       10  L2D   386     386     386\n",
       "...    ...  ...   ...     ...     ...\n",
       "12882  998  L1D     8       8       8\n",
       "12883  998  L2D     8       8       8\n",
       "12884  999  L1D   168     168     168\n",
       "12885  999  L2D   164     164     164\n",
       "12886  999  L2W    36      36      36\n",
       "\n",
       "[12887 rows x 5 columns]"
      ]
     },
     "execution_count": 19,
     "metadata": {},
     "output_type": "execute_result"
    }
   ],
   "source": [
    "df.groupby(['user', 'type']).count().reset_index()"
   ]
  },
  {
   "cell_type": "code",
   "execution_count": 20,
   "metadata": {},
   "outputs": [],
   "source": [
    "user_type_ =df.groupby(['user', 'type']).count().reset_index()"
   ]
  },
  {
   "cell_type": "markdown",
   "metadata": {},
   "source": [
    "Plot the result using a cumulative "
   ]
  },
  {
   "cell_type": "code",
   "execution_count": 21,
   "metadata": {},
   "outputs": [
    {
     "data": {
      "text/plain": [
       "<Axes: xlabel='date', ylabel='Density'>"
      ]
     },
     "execution_count": 21,
     "metadata": {},
     "output_type": "execute_result"
    },
    {
     "data": {
      "image/png": "[encoded data removed]",
      "text/plain": [
       "<Figure size 640x480 with 1 Axes>"
      ]
     },
     "metadata": {},
     "output_type": "display_data"
    }
   ],
   "source": [
    "sns.histplot(data=user_type_, x='date', hue='type',\n",
    "             cumulative=True, stat='density',\n",
    "             element='step', fill=False)"
   ]
  },
  {
   "cell_type": "markdown",
   "metadata": {},
   "source": [
    "As for the casino data the L1D and L2D map closely together and the L2W plot is closer than the casino plot\n",
    "but still not useful.\n",
    "Drop the L1D data and keep the L1D APPROVED data for analysis"
   ]
  },
  {
   "cell_type": "code",
   "execution_count": 22,
   "metadata": {},
   "outputs": [
    {
     "data": {
      "text/html": [
       "<div>\n",
       "<style scoped>\n",
       "    .dataframe tbody tr th:only-of-type {\n",
       "        vertical-align: middle;\n",
       "    }\n",
       "\n",
       "    .dataframe tbody tr th {\n",
       "        vertical-align: top;\n",
       "    }\n",
       "\n",
       "    .dataframe thead th {\n",
       "        text-align: right;\n",
       "    }\n",
       "</style>\n",
       "<table border=\"1\" class=\"dataframe\">\n",
       "  <thead>\n",
       "    <tr style=\"text-align: right;\">\n",
       "      <th></th>\n",
       "      <th>date</th>\n",
       "      <th>type</th>\n",
       "      <th>amount</th>\n",
       "      <th>status</th>\n",
       "      <th>user</th>\n",
       "    </tr>\n",
       "  </thead>\n",
       "  <tbody>\n",
       "    <tr>\n",
       "      <th>0</th>\n",
       "      <td>2019-12-01 09:29:45+00:00</td>\n",
       "      <td>L1D</td>\n",
       "      <td>25.75</td>\n",
       "      <td>APPROVED</td>\n",
       "      <td>1607</td>\n",
       "    </tr>\n",
       "    <tr>\n",
       "      <th>1</th>\n",
       "      <td>2020-01-14 08:04:28+00:00</td>\n",
       "      <td>L1D</td>\n",
       "      <td>103.00</td>\n",
       "      <td>APPROVED</td>\n",
       "      <td>1607</td>\n",
       "    </tr>\n",
       "  </tbody>\n",
       "</table>\n",
       "</div>"
      ],
      "text/plain": [
       "                       date type  amount    status  user\n",
       "0 2019-12-01 09:29:45+00:00  L1D   25.75  APPROVED  1607\n",
       "1 2020-01-14 08:04:28+00:00  L1D  103.00  APPROVED  1607"
      ]
     },
     "execution_count": 22,
     "metadata": {},
     "output_type": "execute_result"
    }
   ],
   "source": [
    "df_working = df.copy()\n",
    "df_working.head(2)"
   ]
  },
  {
   "cell_type": "code",
   "execution_count": 23,
   "metadata": {},
   "outputs": [
    {
     "data": {
      "text/html": [
       "<div>\n",
       "<style scoped>\n",
       "    .dataframe tbody tr th:only-of-type {\n",
       "        vertical-align: middle;\n",
       "    }\n",
       "\n",
       "    .dataframe tbody tr th {\n",
       "        vertical-align: top;\n",
       "    }\n",
       "\n",
       "    .dataframe thead th {\n",
       "        text-align: right;\n",
       "    }\n",
       "</style>\n",
       "<table border=\"1\" class=\"dataframe\">\n",
       "  <thead>\n",
       "    <tr style=\"text-align: right;\">\n",
       "      <th></th>\n",
       "      <th>date</th>\n",
       "      <th>type</th>\n",
       "      <th>amount</th>\n",
       "      <th>status</th>\n",
       "      <th>user</th>\n",
       "    </tr>\n",
       "  </thead>\n",
       "  <tbody>\n",
       "    <tr>\n",
       "      <th>0</th>\n",
       "      <td>2020-01-12 08:31:34+00:00</td>\n",
       "      <td>L2D</td>\n",
       "      <td>25.0</td>\n",
       "      <td>APPROVED</td>\n",
       "      <td>1607</td>\n",
       "    </tr>\n",
       "    <tr>\n",
       "      <th>1</th>\n",
       "      <td>2019-11-07 14:44:21+00:00</td>\n",
       "      <td>L2D</td>\n",
       "      <td>20.0</td>\n",
       "      <td>APPROVED</td>\n",
       "      <td>1607</td>\n",
       "    </tr>\n",
       "  </tbody>\n",
       "</table>\n",
       "</div>"
      ],
      "text/plain": [
       "                       date type  amount    status  user\n",
       "0 2020-01-12 08:31:34+00:00  L2D    25.0  APPROVED  1607\n",
       "1 2019-11-07 14:44:21+00:00  L2D    20.0  APPROVED  1607"
      ]
     },
     "execution_count": 23,
     "metadata": {},
     "output_type": "execute_result"
    }
   ],
   "source": [
    "df_working = df_working[(df_working['type'] == 'L2D') & \\\n",
    "                        (df_working['status'] == 'APPROVED')].reset_index(drop=True)\n",
    "df_working.head(2)"
   ]
  },
  {
   "cell_type": "code",
   "execution_count": 24,
   "metadata": {},
   "outputs": [
    {
     "data": {
      "text/html": [
       "<div>\n",
       "<style scoped>\n",
       "    .dataframe tbody tr th:only-of-type {\n",
       "        vertical-align: middle;\n",
       "    }\n",
       "\n",
       "    .dataframe tbody tr th {\n",
       "        vertical-align: top;\n",
       "    }\n",
       "\n",
       "    .dataframe thead th {\n",
       "        text-align: right;\n",
       "    }\n",
       "</style>\n",
       "<table border=\"1\" class=\"dataframe\">\n",
       "  <thead>\n",
       "    <tr style=\"text-align: right;\">\n",
       "      <th></th>\n",
       "      <th>user</th>\n",
       "      <th>date</th>\n",
       "      <th>type</th>\n",
       "      <th>amount</th>\n",
       "    </tr>\n",
       "  </thead>\n",
       "  <tbody>\n",
       "    <tr>\n",
       "      <th>0</th>\n",
       "      <td>1</td>\n",
       "      <td>2019-03-01 08:47:07+00:00</td>\n",
       "      <td>L2D</td>\n",
       "      <td>97.0</td>\n",
       "    </tr>\n",
       "    <tr>\n",
       "      <th>1</th>\n",
       "      <td>1</td>\n",
       "      <td>2019-03-01 11:21:31+00:00</td>\n",
       "      <td>L2D</td>\n",
       "      <td>97.0</td>\n",
       "    </tr>\n",
       "    <tr>\n",
       "      <th>2</th>\n",
       "      <td>1</td>\n",
       "      <td>2019-03-02 07:36:10+00:00</td>\n",
       "      <td>L2D</td>\n",
       "      <td>291.0</td>\n",
       "    </tr>\n",
       "    <tr>\n",
       "      <th>3</th>\n",
       "      <td>1</td>\n",
       "      <td>2019-03-05 07:49:28+00:00</td>\n",
       "      <td>L2D</td>\n",
       "      <td>145.5</td>\n",
       "    </tr>\n",
       "    <tr>\n",
       "      <th>4</th>\n",
       "      <td>1</td>\n",
       "      <td>2019-03-05 09:58:21+00:00</td>\n",
       "      <td>L2D</td>\n",
       "      <td>58.2</td>\n",
       "    </tr>\n",
       "  </tbody>\n",
       "</table>\n",
       "</div>"
      ],
      "text/plain": [
       "  user                      date type  amount\n",
       "0    1 2019-03-01 08:47:07+00:00  L2D    97.0\n",
       "1    1 2019-03-01 11:21:31+00:00  L2D    97.0\n",
       "2    1 2019-03-02 07:36:10+00:00  L2D   291.0\n",
       "3    1 2019-03-05 07:49:28+00:00  L2D   145.5\n",
       "4    1 2019-03-05 09:58:21+00:00  L2D    58.2"
      ]
     },
     "execution_count": 24,
     "metadata": {},
     "output_type": "execute_result"
    }
   ],
   "source": [
    "df_working = df_working[['user', 'date', 'type', 'amount']]\n",
    "df_working = df_working.sort_values(['user', 'date']) \\\n",
    ".reset_index(drop=True)\n",
    "\n",
    "df_working.head()"
   ]
  },
  {
   "cell_type": "markdown",
   "metadata": {},
   "source": [
    "Find the top 20 dollar depositors and the top most frequent depositors\n",
    "1. get a frequency count\n",
    "2. reset indices\n",
    "3. select first 2 cols\n",
    "4. sort by date, reverse the sort and take top 20 values\n",
    "5. put the top 20 in a new df and clean it up"
   ]
  },
  {
   "cell_type": "code",
   "execution_count": 25,
   "metadata": {},
   "outputs": [
    {
     "data": {
      "text/html": [
       "<div>\n",
       "<style scoped>\n",
       "    .dataframe tbody tr th:only-of-type {\n",
       "        vertical-align: middle;\n",
       "    }\n",
       "\n",
       "    .dataframe tbody tr th {\n",
       "        vertical-align: top;\n",
       "    }\n",
       "\n",
       "    .dataframe thead th {\n",
       "        text-align: right;\n",
       "    }\n",
       "</style>\n",
       "<table border=\"1\" class=\"dataframe\">\n",
       "  <thead>\n",
       "    <tr style=\"text-align: right;\">\n",
       "      <th></th>\n",
       "      <th>date</th>\n",
       "      <th>type</th>\n",
       "      <th>amount</th>\n",
       "    </tr>\n",
       "    <tr>\n",
       "      <th>user</th>\n",
       "      <th></th>\n",
       "      <th></th>\n",
       "      <th></th>\n",
       "    </tr>\n",
       "  </thead>\n",
       "  <tbody>\n",
       "    <tr>\n",
       "      <th>1</th>\n",
       "      <td>102</td>\n",
       "      <td>102</td>\n",
       "      <td>102</td>\n",
       "    </tr>\n",
       "    <tr>\n",
       "      <th>10</th>\n",
       "      <td>383</td>\n",
       "      <td>383</td>\n",
       "      <td>383</td>\n",
       "    </tr>\n",
       "    <tr>\n",
       "      <th>100</th>\n",
       "      <td>106</td>\n",
       "      <td>106</td>\n",
       "      <td>106</td>\n",
       "    </tr>\n",
       "    <tr>\n",
       "      <th>1000</th>\n",
       "      <td>142</td>\n",
       "      <td>142</td>\n",
       "      <td>142</td>\n",
       "    </tr>\n",
       "    <tr>\n",
       "      <th>1001</th>\n",
       "      <td>45</td>\n",
       "      <td>45</td>\n",
       "      <td>45</td>\n",
       "    </tr>\n",
       "    <tr>\n",
       "      <th>...</th>\n",
       "      <td>...</td>\n",
       "      <td>...</td>\n",
       "      <td>...</td>\n",
       "    </tr>\n",
       "    <tr>\n",
       "      <th>995</th>\n",
       "      <td>86</td>\n",
       "      <td>86</td>\n",
       "      <td>86</td>\n",
       "    </tr>\n",
       "    <tr>\n",
       "      <th>996</th>\n",
       "      <td>372</td>\n",
       "      <td>372</td>\n",
       "      <td>372</td>\n",
       "    </tr>\n",
       "    <tr>\n",
       "      <th>997</th>\n",
       "      <td>106</td>\n",
       "      <td>106</td>\n",
       "      <td>106</td>\n",
       "    </tr>\n",
       "    <tr>\n",
       "      <th>998</th>\n",
       "      <td>8</td>\n",
       "      <td>8</td>\n",
       "      <td>8</td>\n",
       "    </tr>\n",
       "    <tr>\n",
       "      <th>999</th>\n",
       "      <td>164</td>\n",
       "      <td>164</td>\n",
       "      <td>164</td>\n",
       "    </tr>\n",
       "  </tbody>\n",
       "</table>\n",
       "<p>5572 rows × 3 columns</p>\n",
       "</div>"
      ],
      "text/plain": [
       "      date  type  amount\n",
       "user                    \n",
       "1      102   102     102\n",
       "10     383   383     383\n",
       "100    106   106     106\n",
       "1000   142   142     142\n",
       "1001    45    45      45\n",
       "...    ...   ...     ...\n",
       "995     86    86      86\n",
       "996    372   372     372\n",
       "997    106   106     106\n",
       "998      8     8       8\n",
       "999    164   164     164\n",
       "\n",
       "[5572 rows x 3 columns]"
      ]
     },
     "execution_count": 25,
     "metadata": {},
     "output_type": "execute_result"
    }
   ],
   "source": [
    "df_working.groupby('user').count()"
   ]
  },
  {
   "cell_type": "code",
   "execution_count": 26,
   "metadata": {},
   "outputs": [
    {
     "data": {
      "text/html": [
       "<div>\n",
       "<style scoped>\n",
       "    .dataframe tbody tr th:only-of-type {\n",
       "        vertical-align: middle;\n",
       "    }\n",
       "\n",
       "    .dataframe tbody tr th {\n",
       "        vertical-align: top;\n",
       "    }\n",
       "\n",
       "    .dataframe thead th {\n",
       "        text-align: right;\n",
       "    }\n",
       "</style>\n",
       "<table border=\"1\" class=\"dataframe\">\n",
       "  <thead>\n",
       "    <tr style=\"text-align: right;\">\n",
       "      <th></th>\n",
       "      <th>user</th>\n",
       "      <th>date</th>\n",
       "      <th>type</th>\n",
       "      <th>amount</th>\n",
       "    </tr>\n",
       "  </thead>\n",
       "  <tbody>\n",
       "    <tr>\n",
       "      <th>0</th>\n",
       "      <td>1</td>\n",
       "      <td>102</td>\n",
       "      <td>102</td>\n",
       "      <td>102</td>\n",
       "    </tr>\n",
       "    <tr>\n",
       "      <th>1</th>\n",
       "      <td>10</td>\n",
       "      <td>383</td>\n",
       "      <td>383</td>\n",
       "      <td>383</td>\n",
       "    </tr>\n",
       "    <tr>\n",
       "      <th>2</th>\n",
       "      <td>100</td>\n",
       "      <td>106</td>\n",
       "      <td>106</td>\n",
       "      <td>106</td>\n",
       "    </tr>\n",
       "    <tr>\n",
       "      <th>3</th>\n",
       "      <td>1000</td>\n",
       "      <td>142</td>\n",
       "      <td>142</td>\n",
       "      <td>142</td>\n",
       "    </tr>\n",
       "    <tr>\n",
       "      <th>4</th>\n",
       "      <td>1001</td>\n",
       "      <td>45</td>\n",
       "      <td>45</td>\n",
       "      <td>45</td>\n",
       "    </tr>\n",
       "    <tr>\n",
       "      <th>...</th>\n",
       "      <td>...</td>\n",
       "      <td>...</td>\n",
       "      <td>...</td>\n",
       "      <td>...</td>\n",
       "    </tr>\n",
       "    <tr>\n",
       "      <th>5567</th>\n",
       "      <td>995</td>\n",
       "      <td>86</td>\n",
       "      <td>86</td>\n",
       "      <td>86</td>\n",
       "    </tr>\n",
       "    <tr>\n",
       "      <th>5568</th>\n",
       "      <td>996</td>\n",
       "      <td>372</td>\n",
       "      <td>372</td>\n",
       "      <td>372</td>\n",
       "    </tr>\n",
       "    <tr>\n",
       "      <th>5569</th>\n",
       "      <td>997</td>\n",
       "      <td>106</td>\n",
       "      <td>106</td>\n",
       "      <td>106</td>\n",
       "    </tr>\n",
       "    <tr>\n",
       "      <th>5570</th>\n",
       "      <td>998</td>\n",
       "      <td>8</td>\n",
       "      <td>8</td>\n",
       "      <td>8</td>\n",
       "    </tr>\n",
       "    <tr>\n",
       "      <th>5571</th>\n",
       "      <td>999</td>\n",
       "      <td>164</td>\n",
       "      <td>164</td>\n",
       "      <td>164</td>\n",
       "    </tr>\n",
       "  </tbody>\n",
       "</table>\n",
       "<p>5572 rows × 4 columns</p>\n",
       "</div>"
      ],
      "text/plain": [
       "      user  date  type  amount\n",
       "0        1   102   102     102\n",
       "1       10   383   383     383\n",
       "2      100   106   106     106\n",
       "3     1000   142   142     142\n",
       "4     1001    45    45      45\n",
       "...    ...   ...   ...     ...\n",
       "5567   995    86    86      86\n",
       "5568   996   372   372     372\n",
       "5569   997   106   106     106\n",
       "5570   998     8     8       8\n",
       "5571   999   164   164     164\n",
       "\n",
       "[5572 rows x 4 columns]"
      ]
     },
     "execution_count": 26,
     "metadata": {},
     "output_type": "execute_result"
    }
   ],
   "source": [
    "df_working.groupby('user').count().reset_index()"
   ]
  },
  {
   "cell_type": "code",
   "execution_count": 27,
   "metadata": {},
   "outputs": [
    {
     "data": {
      "text/html": [
       "<div>\n",
       "<style scoped>\n",
       "    .dataframe tbody tr th:only-of-type {\n",
       "        vertical-align: middle;\n",
       "    }\n",
       "\n",
       "    .dataframe tbody tr th {\n",
       "        vertical-align: top;\n",
       "    }\n",
       "\n",
       "    .dataframe thead th {\n",
       "        text-align: right;\n",
       "    }\n",
       "</style>\n",
       "<table border=\"1\" class=\"dataframe\">\n",
       "  <thead>\n",
       "    <tr style=\"text-align: right;\">\n",
       "      <th></th>\n",
       "      <th>user</th>\n",
       "      <th>date</th>\n",
       "    </tr>\n",
       "  </thead>\n",
       "  <tbody>\n",
       "    <tr>\n",
       "      <th>0</th>\n",
       "      <td>1</td>\n",
       "      <td>102</td>\n",
       "    </tr>\n",
       "    <tr>\n",
       "      <th>1</th>\n",
       "      <td>10</td>\n",
       "      <td>383</td>\n",
       "    </tr>\n",
       "    <tr>\n",
       "      <th>2</th>\n",
       "      <td>100</td>\n",
       "      <td>106</td>\n",
       "    </tr>\n",
       "    <tr>\n",
       "      <th>3</th>\n",
       "      <td>1000</td>\n",
       "      <td>142</td>\n",
       "    </tr>\n",
       "    <tr>\n",
       "      <th>4</th>\n",
       "      <td>1001</td>\n",
       "      <td>45</td>\n",
       "    </tr>\n",
       "    <tr>\n",
       "      <th>...</th>\n",
       "      <td>...</td>\n",
       "      <td>...</td>\n",
       "    </tr>\n",
       "    <tr>\n",
       "      <th>5567</th>\n",
       "      <td>995</td>\n",
       "      <td>86</td>\n",
       "    </tr>\n",
       "    <tr>\n",
       "      <th>5568</th>\n",
       "      <td>996</td>\n",
       "      <td>372</td>\n",
       "    </tr>\n",
       "    <tr>\n",
       "      <th>5569</th>\n",
       "      <td>997</td>\n",
       "      <td>106</td>\n",
       "    </tr>\n",
       "    <tr>\n",
       "      <th>5570</th>\n",
       "      <td>998</td>\n",
       "      <td>8</td>\n",
       "    </tr>\n",
       "    <tr>\n",
       "      <th>5571</th>\n",
       "      <td>999</td>\n",
       "      <td>164</td>\n",
       "    </tr>\n",
       "  </tbody>\n",
       "</table>\n",
       "<p>5572 rows × 2 columns</p>\n",
       "</div>"
      ],
      "text/plain": [
       "      user  date\n",
       "0        1   102\n",
       "1       10   383\n",
       "2      100   106\n",
       "3     1000   142\n",
       "4     1001    45\n",
       "...    ...   ...\n",
       "5567   995    86\n",
       "5568   996   372\n",
       "5569   997   106\n",
       "5570   998     8\n",
       "5571   999   164\n",
       "\n",
       "[5572 rows x 2 columns]"
      ]
     },
     "execution_count": 27,
     "metadata": {},
     "output_type": "execute_result"
    }
   ],
   "source": [
    "# add iloc :=all rows, 0:2 cols 0 and 1 to isolate user and date\n",
    "\n",
    "df_working.groupby('user').count().reset_index()\\\n",
    "    .iloc[:,0:2]\n"
   ]
  },
  {
   "cell_type": "code",
   "execution_count": 28,
   "metadata": {},
   "outputs": [
    {
     "data": {
      "text/html": [
       "<div>\n",
       "<style scoped>\n",
       "    .dataframe tbody tr th:only-of-type {\n",
       "        vertical-align: middle;\n",
       "    }\n",
       "\n",
       "    .dataframe tbody tr th {\n",
       "        vertical-align: top;\n",
       "    }\n",
       "\n",
       "    .dataframe thead th {\n",
       "        text-align: right;\n",
       "    }\n",
       "</style>\n",
       "<table border=\"1\" class=\"dataframe\">\n",
       "  <thead>\n",
       "    <tr style=\"text-align: right;\">\n",
       "      <th></th>\n",
       "      <th>user</th>\n",
       "      <th>date</th>\n",
       "    </tr>\n",
       "  </thead>\n",
       "  <tbody>\n",
       "    <tr>\n",
       "      <th>3319</th>\n",
       "      <td>40</td>\n",
       "      <td>1745</td>\n",
       "    </tr>\n",
       "    <tr>\n",
       "      <th>1134</th>\n",
       "      <td>202</td>\n",
       "      <td>1261</td>\n",
       "    </tr>\n",
       "    <tr>\n",
       "      <th>5195</th>\n",
       "      <td>66</td>\n",
       "      <td>1209</td>\n",
       "    </tr>\n",
       "    <tr>\n",
       "      <th>5217</th>\n",
       "      <td>68</td>\n",
       "      <td>1120</td>\n",
       "    </tr>\n",
       "    <tr>\n",
       "      <th>1112</th>\n",
       "      <td>200</td>\n",
       "      <td>1061</td>\n",
       "    </tr>\n",
       "    <tr>\n",
       "      <th>2575</th>\n",
       "      <td>332</td>\n",
       "      <td>774</td>\n",
       "    </tr>\n",
       "    <tr>\n",
       "      <th>4618</th>\n",
       "      <td>52</td>\n",
       "      <td>774</td>\n",
       "    </tr>\n",
       "    <tr>\n",
       "      <th>534</th>\n",
       "      <td>148</td>\n",
       "      <td>760</td>\n",
       "    </tr>\n",
       "    <tr>\n",
       "      <th>135</th>\n",
       "      <td>112</td>\n",
       "      <td>757</td>\n",
       "    </tr>\n",
       "    <tr>\n",
       "      <th>3101</th>\n",
       "      <td>380</td>\n",
       "      <td>682</td>\n",
       "    </tr>\n",
       "    <tr>\n",
       "      <th>3822</th>\n",
       "      <td>446</td>\n",
       "      <td>678</td>\n",
       "    </tr>\n",
       "    <tr>\n",
       "      <th>1832</th>\n",
       "      <td>265</td>\n",
       "      <td>672</td>\n",
       "    </tr>\n",
       "    <tr>\n",
       "      <th>5495</th>\n",
       "      <td>93</td>\n",
       "      <td>666</td>\n",
       "    </tr>\n",
       "    <tr>\n",
       "      <th>1600</th>\n",
       "      <td>244</td>\n",
       "      <td>660</td>\n",
       "    </tr>\n",
       "    <tr>\n",
       "      <th>2219</th>\n",
       "      <td>3</td>\n",
       "      <td>657</td>\n",
       "    </tr>\n",
       "    <tr>\n",
       "      <th>856</th>\n",
       "      <td>177</td>\n",
       "      <td>648</td>\n",
       "    </tr>\n",
       "    <tr>\n",
       "      <th>1776</th>\n",
       "      <td>26</td>\n",
       "      <td>630</td>\n",
       "    </tr>\n",
       "    <tr>\n",
       "      <th>5140</th>\n",
       "      <td>61</td>\n",
       "      <td>607</td>\n",
       "    </tr>\n",
       "    <tr>\n",
       "      <th>1688</th>\n",
       "      <td>252</td>\n",
       "      <td>603</td>\n",
       "    </tr>\n",
       "    <tr>\n",
       "      <th>5037</th>\n",
       "      <td>56</td>\n",
       "      <td>586</td>\n",
       "    </tr>\n",
       "  </tbody>\n",
       "</table>\n",
       "</div>"
      ],
      "text/plain": [
       "     user  date\n",
       "3319   40  1745\n",
       "1134  202  1261\n",
       "5195   66  1209\n",
       "5217   68  1120\n",
       "1112  200  1061\n",
       "2575  332   774\n",
       "4618   52   774\n",
       "534   148   760\n",
       "135   112   757\n",
       "3101  380   682\n",
       "3822  446   678\n",
       "1832  265   672\n",
       "5495   93   666\n",
       "1600  244   660\n",
       "2219    3   657\n",
       "856   177   648\n",
       "1776   26   630\n",
       "5140   61   607\n",
       "1688  252   603\n",
       "5037   56   586"
      ]
     },
     "execution_count": 28,
     "metadata": {},
     "output_type": "execute_result"
    }
   ],
   "source": [
    "# sort the value -1 is high to low, then pick top 20 rows\n",
    "\n",
    "df_working.groupby('user').count().reset_index()\\\n",
    "    .iloc[:,0:2].sort_values('date')[::-1][0:20]\n"
   ]
  },
  {
   "cell_type": "code",
   "execution_count": 29,
   "metadata": {},
   "outputs": [
    {
     "data": {
      "text/html": [
       "<div>\n",
       "<style scoped>\n",
       "    .dataframe tbody tr th:only-of-type {\n",
       "        vertical-align: middle;\n",
       "    }\n",
       "\n",
       "    .dataframe tbody tr th {\n",
       "        vertical-align: top;\n",
       "    }\n",
       "\n",
       "    .dataframe thead th {\n",
       "        text-align: right;\n",
       "    }\n",
       "</style>\n",
       "<table border=\"1\" class=\"dataframe\">\n",
       "  <thead>\n",
       "    <tr style=\"text-align: right;\">\n",
       "      <th></th>\n",
       "      <th>user</th>\n",
       "      <th>date</th>\n",
       "    </tr>\n",
       "  </thead>\n",
       "  <tbody>\n",
       "    <tr>\n",
       "      <th>3319</th>\n",
       "      <td>40</td>\n",
       "      <td>1745</td>\n",
       "    </tr>\n",
       "    <tr>\n",
       "      <th>1134</th>\n",
       "      <td>202</td>\n",
       "      <td>1261</td>\n",
       "    </tr>\n",
       "    <tr>\n",
       "      <th>5195</th>\n",
       "      <td>66</td>\n",
       "      <td>1209</td>\n",
       "    </tr>\n",
       "    <tr>\n",
       "      <th>5217</th>\n",
       "      <td>68</td>\n",
       "      <td>1120</td>\n",
       "    </tr>\n",
       "    <tr>\n",
       "      <th>1112</th>\n",
       "      <td>200</td>\n",
       "      <td>1061</td>\n",
       "    </tr>\n",
       "    <tr>\n",
       "      <th>2575</th>\n",
       "      <td>332</td>\n",
       "      <td>774</td>\n",
       "    </tr>\n",
       "    <tr>\n",
       "      <th>4618</th>\n",
       "      <td>52</td>\n",
       "      <td>774</td>\n",
       "    </tr>\n",
       "    <tr>\n",
       "      <th>534</th>\n",
       "      <td>148</td>\n",
       "      <td>760</td>\n",
       "    </tr>\n",
       "    <tr>\n",
       "      <th>135</th>\n",
       "      <td>112</td>\n",
       "      <td>757</td>\n",
       "    </tr>\n",
       "    <tr>\n",
       "      <th>3101</th>\n",
       "      <td>380</td>\n",
       "      <td>682</td>\n",
       "    </tr>\n",
       "    <tr>\n",
       "      <th>3822</th>\n",
       "      <td>446</td>\n",
       "      <td>678</td>\n",
       "    </tr>\n",
       "    <tr>\n",
       "      <th>1832</th>\n",
       "      <td>265</td>\n",
       "      <td>672</td>\n",
       "    </tr>\n",
       "    <tr>\n",
       "      <th>5495</th>\n",
       "      <td>93</td>\n",
       "      <td>666</td>\n",
       "    </tr>\n",
       "    <tr>\n",
       "      <th>1600</th>\n",
       "      <td>244</td>\n",
       "      <td>660</td>\n",
       "    </tr>\n",
       "    <tr>\n",
       "      <th>2219</th>\n",
       "      <td>3</td>\n",
       "      <td>657</td>\n",
       "    </tr>\n",
       "    <tr>\n",
       "      <th>856</th>\n",
       "      <td>177</td>\n",
       "      <td>648</td>\n",
       "    </tr>\n",
       "    <tr>\n",
       "      <th>1776</th>\n",
       "      <td>26</td>\n",
       "      <td>630</td>\n",
       "    </tr>\n",
       "    <tr>\n",
       "      <th>5140</th>\n",
       "      <td>61</td>\n",
       "      <td>607</td>\n",
       "    </tr>\n",
       "    <tr>\n",
       "      <th>1688</th>\n",
       "      <td>252</td>\n",
       "      <td>603</td>\n",
       "    </tr>\n",
       "    <tr>\n",
       "      <th>5037</th>\n",
       "      <td>56</td>\n",
       "      <td>586</td>\n",
       "    </tr>\n",
       "  </tbody>\n",
       "</table>\n",
       "</div>"
      ],
      "text/plain": [
       "     user  date\n",
       "3319   40  1745\n",
       "1134  202  1261\n",
       "5195   66  1209\n",
       "5217   68  1120\n",
       "1112  200  1061\n",
       "2575  332   774\n",
       "4618   52   774\n",
       "534   148   760\n",
       "135   112   757\n",
       "3101  380   682\n",
       "3822  446   678\n",
       "1832  265   672\n",
       "5495   93   666\n",
       "1600  244   660\n",
       "2219    3   657\n",
       "856   177   648\n",
       "1776   26   630\n",
       "5140   61   607\n",
       "1688  252   603\n",
       "5037   56   586"
      ]
     },
     "execution_count": 29,
     "metadata": {},
     "output_type": "execute_result"
    }
   ],
   "source": [
    "top_20freq_df = df_working.groupby('user').count().reset_index()\\\n",
    "    .iloc[:,0:2].sort_values('date')[::-1][0:20]\n",
    "\n",
    "top_20freq_df"
   ]
  },
  {
   "cell_type": "markdown",
   "metadata": {},
   "source": [
    "Repeat for the top 20 dollar value depositors"
   ]
  },
  {
   "cell_type": "code",
   "execution_count": 30,
   "metadata": {},
   "outputs": [
    {
     "data": {
      "text/html": [
       "<div>\n",
       "<style scoped>\n",
       "    .dataframe tbody tr th:only-of-type {\n",
       "        vertical-align: middle;\n",
       "    }\n",
       "\n",
       "    .dataframe tbody tr th {\n",
       "        vertical-align: top;\n",
       "    }\n",
       "\n",
       "    .dataframe thead th {\n",
       "        text-align: right;\n",
       "    }\n",
       "</style>\n",
       "<table border=\"1\" class=\"dataframe\">\n",
       "  <thead>\n",
       "    <tr style=\"text-align: right;\">\n",
       "      <th></th>\n",
       "      <th>user</th>\n",
       "      <th>amount</th>\n",
       "    </tr>\n",
       "  </thead>\n",
       "  <tbody>\n",
       "    <tr>\n",
       "      <th>357</th>\n",
       "      <td>132</td>\n",
       "      <td>211502.74</td>\n",
       "    </tr>\n",
       "    <tr>\n",
       "      <th>319</th>\n",
       "      <td>1286</td>\n",
       "      <td>103276.84</td>\n",
       "    </tr>\n",
       "    <tr>\n",
       "      <th>5366</th>\n",
       "      <td>813</td>\n",
       "      <td>102237.55</td>\n",
       "    </tr>\n",
       "    <tr>\n",
       "      <th>917</th>\n",
       "      <td>1824</td>\n",
       "      <td>94333.86</td>\n",
       "    </tr>\n",
       "    <tr>\n",
       "      <th>1134</th>\n",
       "      <td>202</td>\n",
       "      <td>92685.81</td>\n",
       "    </tr>\n",
       "    <tr>\n",
       "      <th>5217</th>\n",
       "      <td>68</td>\n",
       "      <td>90420.55</td>\n",
       "    </tr>\n",
       "    <tr>\n",
       "      <th>120</th>\n",
       "      <td>1106</td>\n",
       "      <td>87973.13</td>\n",
       "    </tr>\n",
       "    <tr>\n",
       "      <th>3756</th>\n",
       "      <td>44</td>\n",
       "      <td>84311.03</td>\n",
       "    </tr>\n",
       "    <tr>\n",
       "      <th>5416</th>\n",
       "      <td>859</td>\n",
       "      <td>81924.22</td>\n",
       "    </tr>\n",
       "    <tr>\n",
       "      <th>856</th>\n",
       "      <td>177</td>\n",
       "      <td>73829.85</td>\n",
       "    </tr>\n",
       "    <tr>\n",
       "      <th>5422</th>\n",
       "      <td>864</td>\n",
       "      <td>73389.43</td>\n",
       "    </tr>\n",
       "    <tr>\n",
       "      <th>2197</th>\n",
       "      <td>298</td>\n",
       "      <td>72901.71</td>\n",
       "    </tr>\n",
       "    <tr>\n",
       "      <th>5101</th>\n",
       "      <td>575</td>\n",
       "      <td>72872.20</td>\n",
       "    </tr>\n",
       "    <tr>\n",
       "      <th>5179</th>\n",
       "      <td>645</td>\n",
       "      <td>71950.87</td>\n",
       "    </tr>\n",
       "    <tr>\n",
       "      <th>545</th>\n",
       "      <td>149</td>\n",
       "      <td>71359.62</td>\n",
       "    </tr>\n",
       "    <tr>\n",
       "      <th>1821</th>\n",
       "      <td>264</td>\n",
       "      <td>70564.71</td>\n",
       "    </tr>\n",
       "    <tr>\n",
       "      <th>5274</th>\n",
       "      <td>730</td>\n",
       "      <td>70106.81</td>\n",
       "    </tr>\n",
       "    <tr>\n",
       "      <th>1089</th>\n",
       "      <td>198</td>\n",
       "      <td>69567.30</td>\n",
       "    </tr>\n",
       "    <tr>\n",
       "      <th>60</th>\n",
       "      <td>1052</td>\n",
       "      <td>69541.96</td>\n",
       "    </tr>\n",
       "    <tr>\n",
       "      <th>3101</th>\n",
       "      <td>380</td>\n",
       "      <td>67414.62</td>\n",
       "    </tr>\n",
       "  </tbody>\n",
       "</table>\n",
       "</div>"
      ],
      "text/plain": [
       "      user     amount\n",
       "357    132  211502.74\n",
       "319   1286  103276.84\n",
       "5366   813  102237.55\n",
       "917   1824   94333.86\n",
       "1134   202   92685.81\n",
       "5217    68   90420.55\n",
       "120   1106   87973.13\n",
       "3756    44   84311.03\n",
       "5416   859   81924.22\n",
       "856    177   73829.85\n",
       "5422   864   73389.43\n",
       "2197   298   72901.71\n",
       "5101   575   72872.20\n",
       "5179   645   71950.87\n",
       "545    149   71359.62\n",
       "1821   264   70564.71\n",
       "5274   730   70106.81\n",
       "1089   198   69567.30\n",
       "60    1052   69541.96\n",
       "3101   380   67414.62"
      ]
     },
     "execution_count": 30,
     "metadata": {},
     "output_type": "execute_result"
    }
   ],
   "source": [
    "top_20dep_df = df_working[['user', 'amount']] \\\n",
    "    .groupby('user').sum().reset_index() \\\n",
    "    .sort_values('amount')[::-1][0:20]\n",
    "\n",
    "top_20dep_df"
   ]
  },
  {
   "cell_type": "markdown",
   "metadata": {},
   "source": [
    "Plot freq and dep df's side by side to see how they match up"
   ]
  },
  {
   "cell_type": "code",
   "execution_count": 31,
   "metadata": {},
   "outputs": [
    {
     "data": {
      "text/plain": [
       "<Axes: xlabel='amount', ylabel='user'>"
      ]
     },
     "execution_count": 31,
     "metadata": {},
     "output_type": "execute_result"
    },
    {
     "data": {
      "image/png": "[encoded data removed]",
      "text/plain": [
       "<Figure size 1500x500 with 2 Axes>"
      ]
     },
     "metadata": {},
     "output_type": "display_data"
    }
   ],
   "source": [
    "fig, ax = plt.subplots(ncols=2, figsize=(15, 5))\n",
    "\n",
    "sns.barplot(top_20freq_df, x='date', y='user',\n",
    "            ax = ax[0])\n",
    "sns.barplot(top_20dep_df, x='amount', y='user',\n",
    "            ax = ax[1])\n"
   ]
  },
  {
   "cell_type": "markdown",
   "metadata": {},
   "source": [
    "Use pd.merge to find the common user in both the frequency and deposit value df's and print them out"
   ]
  },
  {
   "cell_type": "code",
   "execution_count": 32,
   "metadata": {},
   "outputs": [
    {
     "name": "stdout",
     "output_type": "stream",
     "text": [
      "  user  date    amount\n",
      "0  202  1261  92685.81\n",
      "1   68  1120  90420.55\n",
      "2  380   682  67414.62\n",
      "3  177   648  73829.85\n"
     ]
    }
   ],
   "source": [
    "common_customers = pd.merge(top_20freq_df, top_20dep_df, on='user') \n",
    "print(common_customers)"
   ]
  },
  {
   "cell_type": "markdown",
   "metadata": {},
   "source": [
    "There are only four customers who appear as top-20' on both lists. The suggests that the relationship\n",
    "between number of deposits and the value of those deposits is not strong"
   ]
  },
  {
   "cell_type": "markdown",
   "metadata": {},
   "source": [
    "The data contains date/time information on the transactions.\n",
    "Use this data to see if there is a  disceranble pattern to patron activity using a heatmap"
   ]
  },
  {
   "cell_type": "code",
   "execution_count": 33,
   "metadata": {},
   "outputs": [],
   "source": [
    "# extract 'hour' from the datetime group\n",
    "\n",
    "df_working.date.dt.hour\n",
    "df_working['hour'] = df_working.date.dt.hour"
   ]
  },
  {
   "cell_type": "code",
   "execution_count": 34,
   "metadata": {},
   "outputs": [
    {
     "data": {
      "text/html": [
       "<div>\n",
       "<style scoped>\n",
       "    .dataframe tbody tr th:only-of-type {\n",
       "        vertical-align: middle;\n",
       "    }\n",
       "\n",
       "    .dataframe tbody tr th {\n",
       "        vertical-align: top;\n",
       "    }\n",
       "\n",
       "    .dataframe thead th {\n",
       "        text-align: right;\n",
       "    }\n",
       "</style>\n",
       "<table border=\"1\" class=\"dataframe\">\n",
       "  <thead>\n",
       "    <tr style=\"text-align: right;\">\n",
       "      <th></th>\n",
       "      <th>user</th>\n",
       "      <th>date</th>\n",
       "      <th>type</th>\n",
       "      <th>amount</th>\n",
       "      <th>hour</th>\n",
       "      <th>day_of_week</th>\n",
       "    </tr>\n",
       "  </thead>\n",
       "  <tbody>\n",
       "    <tr>\n",
       "      <th>0</th>\n",
       "      <td>1</td>\n",
       "      <td>2019-03-01 08:47:07+00:00</td>\n",
       "      <td>L2D</td>\n",
       "      <td>97.0</td>\n",
       "      <td>8</td>\n",
       "      <td>4</td>\n",
       "    </tr>\n",
       "    <tr>\n",
       "      <th>1</th>\n",
       "      <td>1</td>\n",
       "      <td>2019-03-01 11:21:31+00:00</td>\n",
       "      <td>L2D</td>\n",
       "      <td>97.0</td>\n",
       "      <td>11</td>\n",
       "      <td>4</td>\n",
       "    </tr>\n",
       "    <tr>\n",
       "      <th>2</th>\n",
       "      <td>1</td>\n",
       "      <td>2019-03-02 07:36:10+00:00</td>\n",
       "      <td>L2D</td>\n",
       "      <td>291.0</td>\n",
       "      <td>7</td>\n",
       "      <td>5</td>\n",
       "    </tr>\n",
       "    <tr>\n",
       "      <th>3</th>\n",
       "      <td>1</td>\n",
       "      <td>2019-03-05 07:49:28+00:00</td>\n",
       "      <td>L2D</td>\n",
       "      <td>145.5</td>\n",
       "      <td>7</td>\n",
       "      <td>1</td>\n",
       "    </tr>\n",
       "    <tr>\n",
       "      <th>4</th>\n",
       "      <td>1</td>\n",
       "      <td>2019-03-05 09:58:21+00:00</td>\n",
       "      <td>L2D</td>\n",
       "      <td>58.2</td>\n",
       "      <td>9</td>\n",
       "      <td>1</td>\n",
       "    </tr>\n",
       "    <tr>\n",
       "      <th>...</th>\n",
       "      <td>...</td>\n",
       "      <td>...</td>\n",
       "      <td>...</td>\n",
       "      <td>...</td>\n",
       "      <td>...</td>\n",
       "      <td>...</td>\n",
       "    </tr>\n",
       "    <tr>\n",
       "      <th>212786</th>\n",
       "      <td>999</td>\n",
       "      <td>2020-02-23 05:51:36+00:00</td>\n",
       "      <td>L2D</td>\n",
       "      <td>40.0</td>\n",
       "      <td>5</td>\n",
       "      <td>6</td>\n",
       "    </tr>\n",
       "    <tr>\n",
       "      <th>212787</th>\n",
       "      <td>999</td>\n",
       "      <td>2020-02-23 07:58:25+00:00</td>\n",
       "      <td>L2D</td>\n",
       "      <td>40.0</td>\n",
       "      <td>7</td>\n",
       "      <td>6</td>\n",
       "    </tr>\n",
       "    <tr>\n",
       "      <th>212788</th>\n",
       "      <td>999</td>\n",
       "      <td>2020-02-24 00:38:59+00:00</td>\n",
       "      <td>L2D</td>\n",
       "      <td>60.0</td>\n",
       "      <td>0</td>\n",
       "      <td>0</td>\n",
       "    </tr>\n",
       "    <tr>\n",
       "      <th>212789</th>\n",
       "      <td>999</td>\n",
       "      <td>2020-02-24 05:05:11+00:00</td>\n",
       "      <td>L2D</td>\n",
       "      <td>40.0</td>\n",
       "      <td>5</td>\n",
       "      <td>0</td>\n",
       "    </tr>\n",
       "    <tr>\n",
       "      <th>212790</th>\n",
       "      <td>999</td>\n",
       "      <td>2020-02-25 07:55:24+00:00</td>\n",
       "      <td>L2D</td>\n",
       "      <td>3.0</td>\n",
       "      <td>7</td>\n",
       "      <td>1</td>\n",
       "    </tr>\n",
       "  </tbody>\n",
       "</table>\n",
       "<p>212791 rows × 6 columns</p>\n",
       "</div>"
      ],
      "text/plain": [
       "       user                      date type  amount  hour  day_of_week\n",
       "0         1 2019-03-01 08:47:07+00:00  L2D    97.0     8            4\n",
       "1         1 2019-03-01 11:21:31+00:00  L2D    97.0    11            4\n",
       "2         1 2019-03-02 07:36:10+00:00  L2D   291.0     7            5\n",
       "3         1 2019-03-05 07:49:28+00:00  L2D   145.5     7            1\n",
       "4         1 2019-03-05 09:58:21+00:00  L2D    58.2     9            1\n",
       "...     ...                       ...  ...     ...   ...          ...\n",
       "212786  999 2020-02-23 05:51:36+00:00  L2D    40.0     5            6\n",
       "212787  999 2020-02-23 07:58:25+00:00  L2D    40.0     7            6\n",
       "212788  999 2020-02-24 00:38:59+00:00  L2D    60.0     0            0\n",
       "212789  999 2020-02-24 05:05:11+00:00  L2D    40.0     5            0\n",
       "212790  999 2020-02-25 07:55:24+00:00  L2D     3.0     7            1\n",
       "\n",
       "[212791 rows x 6 columns]"
      ]
     },
     "execution_count": 34,
     "metadata": {},
     "output_type": "execute_result"
    }
   ],
   "source": [
    "# extract the day of the week\n",
    "\n",
    "df_working.date.dt.day_of_week\n",
    "df_working['day_of_week'] = df_working.date.dt \\\n",
    "    .day_of_week\n",
    "\n",
    "df_working"
   ]
  },
  {
   "cell_type": "code",
   "execution_count": 35,
   "metadata": {},
   "outputs": [
    {
     "data": {
      "text/html": [
       "<div>\n",
       "<style scoped>\n",
       "    .dataframe tbody tr th:only-of-type {\n",
       "        vertical-align: middle;\n",
       "    }\n",
       "\n",
       "    .dataframe tbody tr th {\n",
       "        vertical-align: top;\n",
       "    }\n",
       "\n",
       "    .dataframe thead th {\n",
       "        text-align: right;\n",
       "    }\n",
       "</style>\n",
       "<table border=\"1\" class=\"dataframe\">\n",
       "  <thead>\n",
       "    <tr style=\"text-align: right;\">\n",
       "      <th></th>\n",
       "      <th>user</th>\n",
       "      <th>date</th>\n",
       "      <th>type</th>\n",
       "      <th>amount</th>\n",
       "      <th>hour</th>\n",
       "      <th>day_of_week</th>\n",
       "    </tr>\n",
       "  </thead>\n",
       "  <tbody>\n",
       "    <tr>\n",
       "      <th>0</th>\n",
       "      <td>1</td>\n",
       "      <td>2019-03-01 08:47:07+00:00</td>\n",
       "      <td>L2D</td>\n",
       "      <td>97.0</td>\n",
       "      <td>8</td>\n",
       "      <td>Friday</td>\n",
       "    </tr>\n",
       "    <tr>\n",
       "      <th>1</th>\n",
       "      <td>1</td>\n",
       "      <td>2019-03-01 11:21:31+00:00</td>\n",
       "      <td>L2D</td>\n",
       "      <td>97.0</td>\n",
       "      <td>11</td>\n",
       "      <td>Friday</td>\n",
       "    </tr>\n",
       "    <tr>\n",
       "      <th>2</th>\n",
       "      <td>1</td>\n",
       "      <td>2019-03-02 07:36:10+00:00</td>\n",
       "      <td>L2D</td>\n",
       "      <td>291.0</td>\n",
       "      <td>7</td>\n",
       "      <td>Saturday</td>\n",
       "    </tr>\n",
       "    <tr>\n",
       "      <th>3</th>\n",
       "      <td>1</td>\n",
       "      <td>2019-03-05 07:49:28+00:00</td>\n",
       "      <td>L2D</td>\n",
       "      <td>145.5</td>\n",
       "      <td>7</td>\n",
       "      <td>Tuesday</td>\n",
       "    </tr>\n",
       "    <tr>\n",
       "      <th>4</th>\n",
       "      <td>1</td>\n",
       "      <td>2019-03-05 09:58:21+00:00</td>\n",
       "      <td>L2D</td>\n",
       "      <td>58.2</td>\n",
       "      <td>9</td>\n",
       "      <td>Tuesday</td>\n",
       "    </tr>\n",
       "    <tr>\n",
       "      <th>...</th>\n",
       "      <td>...</td>\n",
       "      <td>...</td>\n",
       "      <td>...</td>\n",
       "      <td>...</td>\n",
       "      <td>...</td>\n",
       "      <td>...</td>\n",
       "    </tr>\n",
       "    <tr>\n",
       "      <th>212786</th>\n",
       "      <td>999</td>\n",
       "      <td>2020-02-23 05:51:36+00:00</td>\n",
       "      <td>L2D</td>\n",
       "      <td>40.0</td>\n",
       "      <td>5</td>\n",
       "      <td>Sunday</td>\n",
       "    </tr>\n",
       "    <tr>\n",
       "      <th>212787</th>\n",
       "      <td>999</td>\n",
       "      <td>2020-02-23 07:58:25+00:00</td>\n",
       "      <td>L2D</td>\n",
       "      <td>40.0</td>\n",
       "      <td>7</td>\n",
       "      <td>Sunday</td>\n",
       "    </tr>\n",
       "    <tr>\n",
       "      <th>212788</th>\n",
       "      <td>999</td>\n",
       "      <td>2020-02-24 00:38:59+00:00</td>\n",
       "      <td>L2D</td>\n",
       "      <td>60.0</td>\n",
       "      <td>0</td>\n",
       "      <td>Monday</td>\n",
       "    </tr>\n",
       "    <tr>\n",
       "      <th>212789</th>\n",
       "      <td>999</td>\n",
       "      <td>2020-02-24 05:05:11+00:00</td>\n",
       "      <td>L2D</td>\n",
       "      <td>40.0</td>\n",
       "      <td>5</td>\n",
       "      <td>Monday</td>\n",
       "    </tr>\n",
       "    <tr>\n",
       "      <th>212790</th>\n",
       "      <td>999</td>\n",
       "      <td>2020-02-25 07:55:24+00:00</td>\n",
       "      <td>L2D</td>\n",
       "      <td>3.0</td>\n",
       "      <td>7</td>\n",
       "      <td>Tuesday</td>\n",
       "    </tr>\n",
       "  </tbody>\n",
       "</table>\n",
       "<p>212791 rows × 6 columns</p>\n",
       "</div>"
      ],
      "text/plain": [
       "       user                      date type  amount  hour day_of_week\n",
       "0         1 2019-03-01 08:47:07+00:00  L2D    97.0     8      Friday\n",
       "1         1 2019-03-01 11:21:31+00:00  L2D    97.0    11      Friday\n",
       "2         1 2019-03-02 07:36:10+00:00  L2D   291.0     7    Saturday\n",
       "3         1 2019-03-05 07:49:28+00:00  L2D   145.5     7     Tuesday\n",
       "4         1 2019-03-05 09:58:21+00:00  L2D    58.2     9     Tuesday\n",
       "...     ...                       ...  ...     ...   ...         ...\n",
       "212786  999 2020-02-23 05:51:36+00:00  L2D    40.0     5      Sunday\n",
       "212787  999 2020-02-23 07:58:25+00:00  L2D    40.0     7      Sunday\n",
       "212788  999 2020-02-24 00:38:59+00:00  L2D    60.0     0      Monday\n",
       "212789  999 2020-02-24 05:05:11+00:00  L2D    40.0     5      Monday\n",
       "212790  999 2020-02-25 07:55:24+00:00  L2D     3.0     7     Tuesday\n",
       "\n",
       "[212791 rows x 6 columns]"
      ]
     },
     "execution_count": 35,
     "metadata": {},
     "output_type": "execute_result"
    }
   ],
   "source": [
    "# the day of the week is presented as an integer.\n",
    "#create a dictionary to map names to the integers\n",
    "\n",
    "day_of_the_week_dict = {0: 'Monday',\n",
    "                        1: 'Tuesday',\n",
    "                        2: 'Wednesday',\n",
    "                        3: 'Thursday',\n",
    "                        4: 'Friday',\n",
    "                        5: 'Saturday',\n",
    "                        6: 'Sunday',\n",
    "                        }\n",
    "\n",
    "df_working.day_of_week = df_working['day_of_week']\\\n",
    "    .map(day_of_the_week_dict)\n",
    "\n",
    "df_working"
   ]
  },
  {
   "cell_type": "markdown",
   "metadata": {},
   "source": [
    "Create the data for the heatmap.\n",
    "Need a confusion matrix with day of the week as index and hours of the day as the cols.\n",
    "Panda pivot_table to organize the data"
   ]
  },
  {
   "cell_type": "code",
   "execution_count": 36,
   "metadata": {},
   "outputs": [
    {
     "data": {
      "text/html": [
       "<div>\n",
       "<style scoped>\n",
       "    .dataframe tbody tr th:only-of-type {\n",
       "        vertical-align: middle;\n",
       "    }\n",
       "\n",
       "    .dataframe tbody tr th {\n",
       "        vertical-align: top;\n",
       "    }\n",
       "\n",
       "    .dataframe thead th {\n",
       "        text-align: right;\n",
       "    }\n",
       "</style>\n",
       "<table border=\"1\" class=\"dataframe\">\n",
       "  <thead>\n",
       "    <tr style=\"text-align: right;\">\n",
       "      <th></th>\n",
       "      <th>hour</th>\n",
       "      <th>day_of_week</th>\n",
       "      <th>type</th>\n",
       "    </tr>\n",
       "  </thead>\n",
       "  <tbody>\n",
       "    <tr>\n",
       "      <th>0</th>\n",
       "      <td>0</td>\n",
       "      <td>Friday</td>\n",
       "      <td>1318</td>\n",
       "    </tr>\n",
       "    <tr>\n",
       "      <th>1</th>\n",
       "      <td>0</td>\n",
       "      <td>Monday</td>\n",
       "      <td>3055</td>\n",
       "    </tr>\n",
       "    <tr>\n",
       "      <th>2</th>\n",
       "      <td>0</td>\n",
       "      <td>Saturday</td>\n",
       "      <td>1202</td>\n",
       "    </tr>\n",
       "    <tr>\n",
       "      <th>3</th>\n",
       "      <td>0</td>\n",
       "      <td>Sunday</td>\n",
       "      <td>3527</td>\n",
       "    </tr>\n",
       "    <tr>\n",
       "      <th>4</th>\n",
       "      <td>0</td>\n",
       "      <td>Thursday</td>\n",
       "      <td>1097</td>\n",
       "    </tr>\n",
       "    <tr>\n",
       "      <th>...</th>\n",
       "      <td>...</td>\n",
       "      <td>...</td>\n",
       "      <td>...</td>\n",
       "    </tr>\n",
       "    <tr>\n",
       "      <th>163</th>\n",
       "      <td>23</td>\n",
       "      <td>Saturday</td>\n",
       "      <td>2256</td>\n",
       "    </tr>\n",
       "    <tr>\n",
       "      <th>164</th>\n",
       "      <td>23</td>\n",
       "      <td>Sunday</td>\n",
       "      <td>4188</td>\n",
       "    </tr>\n",
       "    <tr>\n",
       "      <th>165</th>\n",
       "      <td>23</td>\n",
       "      <td>Thursday</td>\n",
       "      <td>1430</td>\n",
       "    </tr>\n",
       "    <tr>\n",
       "      <th>166</th>\n",
       "      <td>23</td>\n",
       "      <td>Tuesday</td>\n",
       "      <td>647</td>\n",
       "    </tr>\n",
       "    <tr>\n",
       "      <th>167</th>\n",
       "      <td>23</td>\n",
       "      <td>Wednesday</td>\n",
       "      <td>1166</td>\n",
       "    </tr>\n",
       "  </tbody>\n",
       "</table>\n",
       "<p>168 rows × 3 columns</p>\n",
       "</div>"
      ],
      "text/plain": [
       "     hour day_of_week  type\n",
       "0       0      Friday  1318\n",
       "1       0      Monday  3055\n",
       "2       0    Saturday  1202\n",
       "3       0      Sunday  3527\n",
       "4       0    Thursday  1097\n",
       "..    ...         ...   ...\n",
       "163    23    Saturday  2256\n",
       "164    23      Sunday  4188\n",
       "165    23    Thursday  1430\n",
       "166    23     Tuesday   647\n",
       "167    23   Wednesday  1166\n",
       "\n",
       "[168 rows x 3 columns]"
      ]
     },
     "execution_count": 36,
     "metadata": {},
     "output_type": "execute_result"
    }
   ],
   "source": [
    "df_working[['hour', 'day_of_week', 'type']] \\\n",
    ".groupby(['hour', 'day_of_week']).count().reset_index()"
   ]
  },
  {
   "cell_type": "code",
   "execution_count": 37,
   "metadata": {},
   "outputs": [
    {
     "data": {
      "text/html": [
       "<div>\n",
       "<style scoped>\n",
       "    .dataframe tbody tr th:only-of-type {\n",
       "        vertical-align: middle;\n",
       "    }\n",
       "\n",
       "    .dataframe tbody tr th {\n",
       "        vertical-align: top;\n",
       "    }\n",
       "\n",
       "    .dataframe thead th {\n",
       "        text-align: right;\n",
       "    }\n",
       "</style>\n",
       "<table border=\"1\" class=\"dataframe\">\n",
       "  <thead>\n",
       "    <tr style=\"text-align: right;\">\n",
       "      <th></th>\n",
       "      <th>hour</th>\n",
       "      <th>day_of_week</th>\n",
       "      <th>type</th>\n",
       "    </tr>\n",
       "  </thead>\n",
       "  <tbody>\n",
       "    <tr>\n",
       "      <th>0</th>\n",
       "      <td>0</td>\n",
       "      <td>Friday</td>\n",
       "      <td>1318</td>\n",
       "    </tr>\n",
       "    <tr>\n",
       "      <th>1</th>\n",
       "      <td>0</td>\n",
       "      <td>Monday</td>\n",
       "      <td>3055</td>\n",
       "    </tr>\n",
       "    <tr>\n",
       "      <th>2</th>\n",
       "      <td>0</td>\n",
       "      <td>Saturday</td>\n",
       "      <td>1202</td>\n",
       "    </tr>\n",
       "    <tr>\n",
       "      <th>3</th>\n",
       "      <td>0</td>\n",
       "      <td>Sunday</td>\n",
       "      <td>3527</td>\n",
       "    </tr>\n",
       "    <tr>\n",
       "      <th>4</th>\n",
       "      <td>0</td>\n",
       "      <td>Thursday</td>\n",
       "      <td>1097</td>\n",
       "    </tr>\n",
       "    <tr>\n",
       "      <th>...</th>\n",
       "      <td>...</td>\n",
       "      <td>...</td>\n",
       "      <td>...</td>\n",
       "    </tr>\n",
       "    <tr>\n",
       "      <th>163</th>\n",
       "      <td>23</td>\n",
       "      <td>Saturday</td>\n",
       "      <td>2256</td>\n",
       "    </tr>\n",
       "    <tr>\n",
       "      <th>164</th>\n",
       "      <td>23</td>\n",
       "      <td>Sunday</td>\n",
       "      <td>4188</td>\n",
       "    </tr>\n",
       "    <tr>\n",
       "      <th>165</th>\n",
       "      <td>23</td>\n",
       "      <td>Thursday</td>\n",
       "      <td>1430</td>\n",
       "    </tr>\n",
       "    <tr>\n",
       "      <th>166</th>\n",
       "      <td>23</td>\n",
       "      <td>Tuesday</td>\n",
       "      <td>647</td>\n",
       "    </tr>\n",
       "    <tr>\n",
       "      <th>167</th>\n",
       "      <td>23</td>\n",
       "      <td>Wednesday</td>\n",
       "      <td>1166</td>\n",
       "    </tr>\n",
       "  </tbody>\n",
       "</table>\n",
       "<p>168 rows × 3 columns</p>\n",
       "</div>"
      ],
      "text/plain": [
       "     hour day_of_week  type\n",
       "0       0      Friday  1318\n",
       "1       0      Monday  3055\n",
       "2       0    Saturday  1202\n",
       "3       0      Sunday  3527\n",
       "4       0    Thursday  1097\n",
       "..    ...         ...   ...\n",
       "163    23    Saturday  2256\n",
       "164    23      Sunday  4188\n",
       "165    23    Thursday  1430\n",
       "166    23     Tuesday   647\n",
       "167    23   Wednesday  1166\n",
       "\n",
       "[168 rows x 3 columns]"
      ]
     },
     "execution_count": 37,
     "metadata": {},
     "output_type": "execute_result"
    }
   ],
   "source": [
    "h_d_g = df_working[['hour', 'day_of_week', 'type']] \\\n",
    ".groupby(['hour', 'day_of_week']).count().reset_index()\n",
    "\n",
    "h_d_g"
   ]
  },
  {
   "cell_type": "code",
   "execution_count": 38,
   "metadata": {},
   "outputs": [],
   "source": [
    "df_heatmap = pd.pivot_table(h_d_g, values='type', index='day_of_week',\n",
    "                                columns='hour')"
   ]
  },
  {
   "cell_type": "code",
   "execution_count": 39,
   "metadata": {},
   "outputs": [
    {
     "data": {
      "text/plain": [
       "<Axes: xlabel='hour', ylabel='day_of_week'>"
      ]
     },
     "execution_count": 39,
     "metadata": {},
     "output_type": "execute_result"
    },
    {
     "data": {
      "image/png": "[encoded data removed]",
      "text/plain": [
       "<Figure size 640x480 with 2 Axes>"
      ]
     },
     "metadata": {},
     "output_type": "display_data"
    }
   ],
   "source": [
    "sns.heatmap(df_heatmap)"
   ]
  },
  {
   "cell_type": "markdown",
   "metadata": {},
   "source": [
    "The heatmap shows that deposit activity is concentrated in the am and diminishes significantly in the pm. \n",
    "This is consistent with patrons replenishing their accounts before gaming.\n",
    "\n",
    "Consider developing the data for a heatmap of L2W to see if that shows similar patterns"
   ]
  },
  {
   "cell_type": "markdown",
   "metadata": {},
   "source": [
    "We can look at patron daily activity but there are likely gaps that will prevent plotting this.\n",
    "Confirm on one patron and fill in gaps as necessary"
   ]
  },
  {
   "cell_type": "code",
   "execution_count": 40,
   "metadata": {},
   "outputs": [
    {
     "data": {
      "text/plain": [
       "Index(['user', 'date', 'type', 'amount', 'hour', 'day_of_week'], dtype='object')"
      ]
     },
     "execution_count": 40,
     "metadata": {},
     "output_type": "execute_result"
    }
   ],
   "source": [
    "df_working.columns"
   ]
  },
  {
   "cell_type": "code",
   "execution_count": 41,
   "metadata": {},
   "outputs": [
    {
     "data": {
      "text/html": [
       "<div>\n",
       "<style scoped>\n",
       "    .dataframe tbody tr th:only-of-type {\n",
       "        vertical-align: middle;\n",
       "    }\n",
       "\n",
       "    .dataframe tbody tr th {\n",
       "        vertical-align: top;\n",
       "    }\n",
       "\n",
       "    .dataframe thead th {\n",
       "        text-align: right;\n",
       "    }\n",
       "</style>\n",
       "<table border=\"1\" class=\"dataframe\">\n",
       "  <thead>\n",
       "    <tr style=\"text-align: right;\">\n",
       "      <th></th>\n",
       "      <th>user</th>\n",
       "      <th>date</th>\n",
       "      <th>amount</th>\n",
       "      <th>type</th>\n",
       "    </tr>\n",
       "  </thead>\n",
       "  <tbody>\n",
       "    <tr>\n",
       "      <th>0</th>\n",
       "      <td>1</td>\n",
       "      <td>2019-03-01 08:47:07+00:00</td>\n",
       "      <td>97.0</td>\n",
       "      <td>1</td>\n",
       "    </tr>\n",
       "    <tr>\n",
       "      <th>1</th>\n",
       "      <td>1</td>\n",
       "      <td>2019-03-01 11:21:31+00:00</td>\n",
       "      <td>97.0</td>\n",
       "      <td>1</td>\n",
       "    </tr>\n",
       "    <tr>\n",
       "      <th>2</th>\n",
       "      <td>1</td>\n",
       "      <td>2019-03-02 07:36:10+00:00</td>\n",
       "      <td>291.0</td>\n",
       "      <td>1</td>\n",
       "    </tr>\n",
       "    <tr>\n",
       "      <th>3</th>\n",
       "      <td>1</td>\n",
       "      <td>2019-03-05 07:49:28+00:00</td>\n",
       "      <td>145.5</td>\n",
       "      <td>1</td>\n",
       "    </tr>\n",
       "    <tr>\n",
       "      <th>4</th>\n",
       "      <td>1</td>\n",
       "      <td>2019-03-05 09:58:21+00:00</td>\n",
       "      <td>58.2</td>\n",
       "      <td>1</td>\n",
       "    </tr>\n",
       "    <tr>\n",
       "      <th>...</th>\n",
       "      <td>...</td>\n",
       "      <td>...</td>\n",
       "      <td>...</td>\n",
       "      <td>...</td>\n",
       "    </tr>\n",
       "    <tr>\n",
       "      <th>212785</th>\n",
       "      <td>999</td>\n",
       "      <td>2020-02-23 05:51:36+00:00</td>\n",
       "      <td>40.0</td>\n",
       "      <td>1</td>\n",
       "    </tr>\n",
       "    <tr>\n",
       "      <th>212786</th>\n",
       "      <td>999</td>\n",
       "      <td>2020-02-23 07:58:25+00:00</td>\n",
       "      <td>40.0</td>\n",
       "      <td>1</td>\n",
       "    </tr>\n",
       "    <tr>\n",
       "      <th>212787</th>\n",
       "      <td>999</td>\n",
       "      <td>2020-02-24 00:38:59+00:00</td>\n",
       "      <td>60.0</td>\n",
       "      <td>1</td>\n",
       "    </tr>\n",
       "    <tr>\n",
       "      <th>212788</th>\n",
       "      <td>999</td>\n",
       "      <td>2020-02-24 05:05:11+00:00</td>\n",
       "      <td>40.0</td>\n",
       "      <td>1</td>\n",
       "    </tr>\n",
       "    <tr>\n",
       "      <th>212789</th>\n",
       "      <td>999</td>\n",
       "      <td>2020-02-25 07:55:24+00:00</td>\n",
       "      <td>3.0</td>\n",
       "      <td>1</td>\n",
       "    </tr>\n",
       "  </tbody>\n",
       "</table>\n",
       "<p>212790 rows × 4 columns</p>\n",
       "</div>"
      ],
      "text/plain": [
       "       user                      date  amount  type\n",
       "0         1 2019-03-01 08:47:07+00:00    97.0     1\n",
       "1         1 2019-03-01 11:21:31+00:00    97.0     1\n",
       "2         1 2019-03-02 07:36:10+00:00   291.0     1\n",
       "3         1 2019-03-05 07:49:28+00:00   145.5     1\n",
       "4         1 2019-03-05 09:58:21+00:00    58.2     1\n",
       "...     ...                       ...     ...   ...\n",
       "212785  999 2020-02-23 05:51:36+00:00    40.0     1\n",
       "212786  999 2020-02-23 07:58:25+00:00    40.0     1\n",
       "212787  999 2020-02-24 00:38:59+00:00    60.0     1\n",
       "212788  999 2020-02-24 05:05:11+00:00    40.0     1\n",
       "212789  999 2020-02-25 07:55:24+00:00     3.0     1\n",
       "\n",
       "[212790 rows x 4 columns]"
      ]
     },
     "execution_count": 41,
     "metadata": {},
     "output_type": "execute_result"
    }
   ],
   "source": [
    "daily_activity = df_working.groupby(['user', 'date']) \\\n",
    ".agg({'amount':'sum', 'type':'count'}) \\\n",
    ".reset_index()\n",
    "\n",
    "daily_activity"
   ]
  },
  {
   "cell_type": "code",
   "execution_count": 42,
   "metadata": {},
   "outputs": [
    {
     "data": {
      "text/html": [
       "<div>\n",
       "<style scoped>\n",
       "    .dataframe tbody tr th:only-of-type {\n",
       "        vertical-align: middle;\n",
       "    }\n",
       "\n",
       "    .dataframe tbody tr th {\n",
       "        vertical-align: top;\n",
       "    }\n",
       "\n",
       "    .dataframe thead th {\n",
       "        text-align: right;\n",
       "    }\n",
       "</style>\n",
       "<table border=\"1\" class=\"dataframe\">\n",
       "  <thead>\n",
       "    <tr style=\"text-align: right;\">\n",
       "      <th></th>\n",
       "      <th>user</th>\n",
       "      <th>date</th>\n",
       "      <th>amount</th>\n",
       "      <th>type</th>\n",
       "    </tr>\n",
       "  </thead>\n",
       "  <tbody>\n",
       "    <tr>\n",
       "      <th>136262</th>\n",
       "      <td>4</td>\n",
       "      <td>2019-03-04 00:07:10+00:00</td>\n",
       "      <td>10.50</td>\n",
       "      <td>1</td>\n",
       "    </tr>\n",
       "    <tr>\n",
       "      <th>136263</th>\n",
       "      <td>4</td>\n",
       "      <td>2019-03-07 07:06:12+00:00</td>\n",
       "      <td>8.73</td>\n",
       "      <td>1</td>\n",
       "    </tr>\n",
       "    <tr>\n",
       "      <th>136264</th>\n",
       "      <td>4</td>\n",
       "      <td>2019-03-09 02:46:09+00:00</td>\n",
       "      <td>20.38</td>\n",
       "      <td>1</td>\n",
       "    </tr>\n",
       "    <tr>\n",
       "      <th>136265</th>\n",
       "      <td>4</td>\n",
       "      <td>2019-03-12 21:51:34+00:00</td>\n",
       "      <td>20.37</td>\n",
       "      <td>1</td>\n",
       "    </tr>\n",
       "    <tr>\n",
       "      <th>136266</th>\n",
       "      <td>4</td>\n",
       "      <td>2019-03-16 00:02:07+00:00</td>\n",
       "      <td>21.34</td>\n",
       "      <td>1</td>\n",
       "    </tr>\n",
       "    <tr>\n",
       "      <th>136267</th>\n",
       "      <td>4</td>\n",
       "      <td>2019-03-24 01:29:44+00:00</td>\n",
       "      <td>20.37</td>\n",
       "      <td>1</td>\n",
       "    </tr>\n",
       "    <tr>\n",
       "      <th>136268</th>\n",
       "      <td>4</td>\n",
       "      <td>2019-03-26 22:17:52+00:00</td>\n",
       "      <td>20.37</td>\n",
       "      <td>1</td>\n",
       "    </tr>\n",
       "    <tr>\n",
       "      <th>136269</th>\n",
       "      <td>4</td>\n",
       "      <td>2019-03-29 06:10:56+00:00</td>\n",
       "      <td>20.37</td>\n",
       "      <td>1</td>\n",
       "    </tr>\n",
       "    <tr>\n",
       "      <th>136270</th>\n",
       "      <td>4</td>\n",
       "      <td>2019-03-31 20:54:57+00:00</td>\n",
       "      <td>20.37</td>\n",
       "      <td>1</td>\n",
       "    </tr>\n",
       "    <tr>\n",
       "      <th>136271</th>\n",
       "      <td>4</td>\n",
       "      <td>2019-04-03 23:09:11+00:00</td>\n",
       "      <td>6.79</td>\n",
       "      <td>1</td>\n",
       "    </tr>\n",
       "    <tr>\n",
       "      <th>136272</th>\n",
       "      <td>4</td>\n",
       "      <td>2019-04-04 22:30:46+00:00</td>\n",
       "      <td>29.10</td>\n",
       "      <td>1</td>\n",
       "    </tr>\n",
       "    <tr>\n",
       "      <th>136273</th>\n",
       "      <td>4</td>\n",
       "      <td>2019-04-06 05:53:33+00:00</td>\n",
       "      <td>30.07</td>\n",
       "      <td>1</td>\n",
       "    </tr>\n",
       "    <tr>\n",
       "      <th>136274</th>\n",
       "      <td>4</td>\n",
       "      <td>2019-04-11 05:38:07+00:00</td>\n",
       "      <td>24.25</td>\n",
       "      <td>1</td>\n",
       "    </tr>\n",
       "    <tr>\n",
       "      <th>136275</th>\n",
       "      <td>4</td>\n",
       "      <td>2019-04-11 21:55:07+00:00</td>\n",
       "      <td>26.19</td>\n",
       "      <td>1</td>\n",
       "    </tr>\n",
       "    <tr>\n",
       "      <th>136276</th>\n",
       "      <td>4</td>\n",
       "      <td>2019-04-12 03:14:12+00:00</td>\n",
       "      <td>24.25</td>\n",
       "      <td>1</td>\n",
       "    </tr>\n",
       "    <tr>\n",
       "      <th>136277</th>\n",
       "      <td>4</td>\n",
       "      <td>2019-04-16 21:54:55+00:00</td>\n",
       "      <td>21.34</td>\n",
       "      <td>1</td>\n",
       "    </tr>\n",
       "    <tr>\n",
       "      <th>136278</th>\n",
       "      <td>4</td>\n",
       "      <td>2019-04-21 00:56:20+00:00</td>\n",
       "      <td>21.34</td>\n",
       "      <td>1</td>\n",
       "    </tr>\n",
       "    <tr>\n",
       "      <th>136279</th>\n",
       "      <td>4</td>\n",
       "      <td>2019-04-22 02:41:52+00:00</td>\n",
       "      <td>10.67</td>\n",
       "      <td>1</td>\n",
       "    </tr>\n",
       "    <tr>\n",
       "      <th>136280</th>\n",
       "      <td>4</td>\n",
       "      <td>2019-04-22 06:54:54+00:00</td>\n",
       "      <td>38.80</td>\n",
       "      <td>1</td>\n",
       "    </tr>\n",
       "    <tr>\n",
       "      <th>136281</th>\n",
       "      <td>4</td>\n",
       "      <td>2019-05-02 19:04:33+00:00</td>\n",
       "      <td>29.10</td>\n",
       "      <td>1</td>\n",
       "    </tr>\n",
       "  </tbody>\n",
       "</table>\n",
       "</div>"
      ],
      "text/plain": [
       "       user                      date  amount  type\n",
       "136262    4 2019-03-04 00:07:10+00:00   10.50     1\n",
       "136263    4 2019-03-07 07:06:12+00:00    8.73     1\n",
       "136264    4 2019-03-09 02:46:09+00:00   20.38     1\n",
       "136265    4 2019-03-12 21:51:34+00:00   20.37     1\n",
       "136266    4 2019-03-16 00:02:07+00:00   21.34     1\n",
       "136267    4 2019-03-24 01:29:44+00:00   20.37     1\n",
       "136268    4 2019-03-26 22:17:52+00:00   20.37     1\n",
       "136269    4 2019-03-29 06:10:56+00:00   20.37     1\n",
       "136270    4 2019-03-31 20:54:57+00:00   20.37     1\n",
       "136271    4 2019-04-03 23:09:11+00:00    6.79     1\n",
       "136272    4 2019-04-04 22:30:46+00:00   29.10     1\n",
       "136273    4 2019-04-06 05:53:33+00:00   30.07     1\n",
       "136274    4 2019-04-11 05:38:07+00:00   24.25     1\n",
       "136275    4 2019-04-11 21:55:07+00:00   26.19     1\n",
       "136276    4 2019-04-12 03:14:12+00:00   24.25     1\n",
       "136277    4 2019-04-16 21:54:55+00:00   21.34     1\n",
       "136278    4 2019-04-21 00:56:20+00:00   21.34     1\n",
       "136279    4 2019-04-22 02:41:52+00:00   10.67     1\n",
       "136280    4 2019-04-22 06:54:54+00:00   38.80     1\n",
       "136281    4 2019-05-02 19:04:33+00:00   29.10     1"
      ]
     },
     "execution_count": 42,
     "metadata": {},
     "output_type": "execute_result"
    }
   ],
   "source": [
    "# change the digit to whatever patron you want from 0-20\n",
    "\n",
    "c4 = daily_activity[daily_activity.user == '4'][0:20]\n",
    "c4"
   ]
  },
  {
   "cell_type": "markdown",
   "metadata": {},
   "source": [
    "Fill the gaps in the dates"
   ]
  },
  {
   "cell_type": "code",
   "execution_count": 43,
   "metadata": {},
   "outputs": [],
   "source": [
    "full_customer_df = pd.DataFrame()\n",
    "\n",
    "for customer_id in daily_activity.user.unique():\n",
    "    customer_df = daily_activity[daily_activity.user == customer_id]\n",
    "\n",
    "    full_range = pd.date_range(customer_df.date.min(),customer_df.date.max(), freq='D')\n",
    "\n",
    "    customer_df = customer_df.set_index(keys='date')\n",
    "\n",
    "    customer_df = customer_df.reindex(list(full_range), fill_value=0)\n",
    "\n",
    "    customer_df.user = [customer_id] * len(customer_df)\n",
    "\n",
    "    customer_df = customer_df.reset_index()\n",
    "\n",
    "    full_customer_df = pd.concat([full_customer_df, customer_df])\n",
    "\n",
    "full_customer_df = full_customer_df.reset_index(drop=True)"
   ]
  },
  {
   "cell_type": "code",
   "execution_count": 44,
   "metadata": {},
   "outputs": [
    {
     "name": "stdout",
     "output_type": "stream",
     "text": [
      "date      0\n",
      "user      0\n",
      "amount    0\n",
      "type      0\n",
      "dtype: int64\n"
     ]
    }
   ],
   "source": [
    "print(full_customer_df.isnull().sum())"
   ]
  },
  {
   "cell_type": "markdown",
   "metadata": {},
   "source": [
    "Try the Sankey plot again. Lots of checks on the way"
   ]
  },
  {
   "cell_type": "code",
   "execution_count": 45,
   "metadata": {},
   "outputs": [
    {
     "name": "stderr",
     "output_type": "stream",
     "text": [
      "/tmp/ipykernel_28723/1411071777.py:1: UserWarning: Converting to PeriodArray/Index representation will drop timezone information.\n",
      "  full_customer_df['month'] = full_customer_df.date.dt.to_period('M')\n"
     ]
    }
   ],
   "source": [
    "full_customer_df['month'] = full_customer_df.date.dt.to_period('M')"
   ]
  },
  {
   "cell_type": "code",
   "execution_count": 46,
   "metadata": {},
   "outputs": [],
   "source": [
    "customer_month = full_customer_df.groupby(['month', 'user']).count().reset_index().iloc[:, :2]"
   ]
  },
  {
   "cell_type": "code",
   "execution_count": 47,
   "metadata": {},
   "outputs": [],
   "source": [
    "start_ = customer_month.groupby('user').min().reset_index()"
   ]
  },
  {
   "cell_type": "code",
   "execution_count": 48,
   "metadata": {},
   "outputs": [],
   "source": [
    "end_ = customer_month.groupby('user').max().reset_index()"
   ]
  },
  {
   "cell_type": "code",
   "execution_count": 49,
   "metadata": {},
   "outputs": [],
   "source": [
    "start_end_df = pd.merge(start_, end_, on='user')"
   ]
  },
  {
   "cell_type": "code",
   "execution_count": 50,
   "metadata": {},
   "outputs": [],
   "source": [
    "source_target_value = start_end_df.groupby(['month_x', 'month_y']).count().reset_index()"
   ]
  },
  {
   "cell_type": "code",
   "execution_count": 51,
   "metadata": {},
   "outputs": [
    {
     "data": {
      "text/html": [
       "<div>\n",
       "<style scoped>\n",
       "    .dataframe tbody tr th:only-of-type {\n",
       "        vertical-align: middle;\n",
       "    }\n",
       "\n",
       "    .dataframe tbody tr th {\n",
       "        vertical-align: top;\n",
       "    }\n",
       "\n",
       "    .dataframe thead th {\n",
       "        text-align: right;\n",
       "    }\n",
       "</style>\n",
       "<table border=\"1\" class=\"dataframe\">\n",
       "  <thead>\n",
       "    <tr style=\"text-align: right;\">\n",
       "      <th></th>\n",
       "      <th>month_x</th>\n",
       "      <th>month_y</th>\n",
       "      <th>user</th>\n",
       "    </tr>\n",
       "  </thead>\n",
       "  <tbody>\n",
       "    <tr>\n",
       "      <th>0</th>\n",
       "      <td>2019-03</td>\n",
       "      <td>2019-03</td>\n",
       "      <td>166</td>\n",
       "    </tr>\n",
       "    <tr>\n",
       "      <th>1</th>\n",
       "      <td>2019-03</td>\n",
       "      <td>2019-04</td>\n",
       "      <td>71</td>\n",
       "    </tr>\n",
       "    <tr>\n",
       "      <th>2</th>\n",
       "      <td>2019-03</td>\n",
       "      <td>2019-05</td>\n",
       "      <td>49</td>\n",
       "    </tr>\n",
       "    <tr>\n",
       "      <th>3</th>\n",
       "      <td>2019-03</td>\n",
       "      <td>2019-06</td>\n",
       "      <td>41</td>\n",
       "    </tr>\n",
       "    <tr>\n",
       "      <th>4</th>\n",
       "      <td>2019-03</td>\n",
       "      <td>2019-07</td>\n",
       "      <td>30</td>\n",
       "    </tr>\n",
       "    <tr>\n",
       "      <th>...</th>\n",
       "      <td>...</td>\n",
       "      <td>...</td>\n",
       "      <td>...</td>\n",
       "    </tr>\n",
       "    <tr>\n",
       "      <th>73</th>\n",
       "      <td>2019-12</td>\n",
       "      <td>2020-01</td>\n",
       "      <td>77</td>\n",
       "    </tr>\n",
       "    <tr>\n",
       "      <th>74</th>\n",
       "      <td>2019-12</td>\n",
       "      <td>2020-02</td>\n",
       "      <td>181</td>\n",
       "    </tr>\n",
       "    <tr>\n",
       "      <th>75</th>\n",
       "      <td>2020-01</td>\n",
       "      <td>2020-01</td>\n",
       "      <td>156</td>\n",
       "    </tr>\n",
       "    <tr>\n",
       "      <th>76</th>\n",
       "      <td>2020-01</td>\n",
       "      <td>2020-02</td>\n",
       "      <td>148</td>\n",
       "    </tr>\n",
       "    <tr>\n",
       "      <th>77</th>\n",
       "      <td>2020-02</td>\n",
       "      <td>2020-02</td>\n",
       "      <td>233</td>\n",
       "    </tr>\n",
       "  </tbody>\n",
       "</table>\n",
       "<p>78 rows × 3 columns</p>\n",
       "</div>"
      ],
      "text/plain": [
       "    month_x  month_y  user\n",
       "0   2019-03  2019-03   166\n",
       "1   2019-03  2019-04    71\n",
       "2   2019-03  2019-05    49\n",
       "3   2019-03  2019-06    41\n",
       "4   2019-03  2019-07    30\n",
       "..      ...      ...   ...\n",
       "73  2019-12  2020-01    77\n",
       "74  2019-12  2020-02   181\n",
       "75  2020-01  2020-01   156\n",
       "76  2020-01  2020-02   148\n",
       "77  2020-02  2020-02   233\n",
       "\n",
       "[78 rows x 3 columns]"
      ]
     },
     "execution_count": 51,
     "metadata": {},
     "output_type": "execute_result"
    }
   ],
   "source": [
    "source_target_value"
   ]
  },
  {
   "cell_type": "markdown",
   "metadata": {},
   "source": [
    "Use LabelEncoder to set up the Sankey data"
   ]
  },
  {
   "cell_type": "code",
   "execution_count": 52,
   "metadata": {},
   "outputs": [
    {
     "data": {
      "text/plain": [
       "array([ 0,  1,  2,  3,  4,  5,  6,  7,  8,  9, 10, 11])"
      ]
     },
     "execution_count": 52,
     "metadata": {},
     "output_type": "execute_result"
    }
   ],
   "source": [
    "le = LabelEncoder()\n",
    "le.fit_transform(source_target_value.month_x.unique())"
   ]
  },
  {
   "cell_type": "code",
   "execution_count": 53,
   "metadata": {},
   "outputs": [
    {
     "data": {
      "application/vnd.plotly.v1+json": {
       "config": {
        "plotlyServerURL": "https://plot.ly"
       },
       "data": [
        {
         "link": {
          "source": [
           0,
           0,
           0,
           0,
           0,
           0,
           0,
           0,
           0,
           0,
           0,
           0,
           1,
           1,
           1,
           1,
           1,
           1,
           1,
           1,
           1,
           1,
           1,
           2,
           2,
           2,
           2,
           2,
           2,
           2,
           2,
           2,
           2,
           3,
           3,
           3,
           3,
           3,
           3,
           3,
           3,
           3,
           4,
           4,
           4,
           4,
           4,
           4,
           4,
           4,
           5,
           5,
           5,
           5,
           5,
           5,
           5,
           6,
           6,
           6,
           6,
           6,
           6,
           7,
           7,
           7,
           7,
           7,
           8,
           8,
           8,
           8,
           9,
           9,
           9,
           10,
           10,
           11
          ],
          "target": [
           0,
           1,
           2,
           3,
           4,
           5,
           6,
           7,
           8,
           9,
           10,
           11,
           1,
           2,
           3,
           4,
           5,
           6,
           7,
           8,
           9,
           10,
           11,
           2,
           3,
           4,
           5,
           6,
           7,
           8,
           9,
           10,
           11,
           3,
           4,
           5,
           6,
           7,
           8,
           9,
           10,
           11,
           4,
           5,
           6,
           7,
           8,
           9,
           10,
           11,
           5,
           6,
           7,
           8,
           9,
           10,
           11,
           6,
           7,
           8,
           9,
           10,
           11,
           7,
           8,
           9,
           10,
           11,
           8,
           9,
           10,
           11,
           9,
           10,
           11,
           10,
           11,
           11
          ],
          "value": [
           166,
           71,
           49,
           41,
           30,
           45,
           81,
           469,
           64,
           77,
           150,
           700,
           53,
           19,
           10,
           9,
           4,
           22,
           52,
           11,
           20,
           40,
           97,
           34,
           14,
           11,
           9,
           16,
           31,
           10,
           8,
           22,
           50,
           35,
           6,
           5,
           9,
           25,
           6,
           9,
           17,
           42,
           25,
           7,
           11,
           21,
           2,
           7,
           13,
           26,
           34,
           15,
           52,
           12,
           18,
           26,
           54,
           83,
           115,
           27,
           37,
           60,
           134,
           133,
           19,
           23,
           35,
           106,
           130,
           102,
           157,
           532,
           122,
           77,
           181,
           156,
           148,
           233
          ]
         },
         "node": {
          "color": "orange",
          "label": [
           "Mar",
           "Apr",
           "May",
           "Jun",
           "Jul",
           "Aug",
           "Sep",
           "Oct",
           "Nov",
           "Dec",
           "Jan",
           "Feb"
          ],
          "line": {
           "color": "gray",
           "width": 0.5
          },
          "pad": 100,
          "thickness": 10
         },
         "type": "sankey"
        }
       ],
       "layout": {
        "template": {
         "data": {
          "bar": [
           {
            "error_x": {
             "color": "#2a3f5f"
            },
            "error_y": {
             "color": "#2a3f5f"
            },
            "marker": {
             "line": {
              "color": "#E5ECF6",
              "width": 0.5
             },
             "pattern": {
              "fillmode": "overlay",
              "size": 10,
              "solidity": 0.2
             }
            },
            "type": "bar"
           }
          ],
          "barpolar": [
           {
            "marker": {
             "line": {
              "color": "#E5ECF6",
              "width": 0.5
             },
             "pattern": {
              "fillmode": "overlay",
              "size": 10,
              "solidity": 0.2
             }
            },
            "type": "barpolar"
           }
          ],
          "carpet": [
           {
            "aaxis": {
             "endlinecolor": "#2a3f5f",
             "gridcolor": "white",
             "linecolor": "white",
             "minorgridcolor": "white",
             "startlinecolor": "#2a3f5f"
            },
            "baxis": {
             "endlinecolor": "#2a3f5f",
             "gridcolor": "white",
             "linecolor": "white",
             "minorgridcolor": "white",
             "startlinecolor": "#2a3f5f"
            },
            "type": "carpet"
           }
          ],
          "choropleth": [
           {
            "colorbar": {
             "outlinewidth": 0,
             "ticks": ""
            },
            "type": "choropleth"
           }
          ],
          "contour": [
           {
            "colorbar": {
             "outlinewidth": 0,
             "ticks": ""
            },
            "colorscale": [
             [
              0,
              "#0d0887"
             ],
             [
              0.1111111111111111,
              "#46039f"
             ],
             [
              0.2222222222222222,
              "#7201a8"
             ],
             [
              0.3333333333333333,
              "#9c179e"
             ],
             [
              0.4444444444444444,
              "#bd3786"
             ],
             [
              0.5555555555555556,
              "#d8576b"
             ],
             [
              0.6666666666666666,
              "#ed7953"
             ],
             [
              0.7777777777777778,
              "#fb9f3a"
             ],
             [
              0.8888888888888888,
              "#fdca26"
             ],
             [
              1,
              "#f0f921"
             ]
            ],
            "type": "contour"
           }
          ],
          "contourcarpet": [
           {
            "colorbar": {
             "outlinewidth": 0,
             "ticks": ""
            },
            "type": "contourcarpet"
           }
          ],
          "heatmap": [
           {
            "colorbar": {
             "outlinewidth": 0,
             "ticks": ""
            },
            "colorscale": [
             [
              0,
              "#0d0887"
             ],
             [
              0.1111111111111111,
              "#46039f"
             ],
             [
              0.2222222222222222,
              "#7201a8"
             ],
             [
              0.3333333333333333,
              "#9c179e"
             ],
             [
              0.4444444444444444,
              "#bd3786"
             ],
             [
              0.5555555555555556,
              "#d8576b"
             ],
             [
              0.6666666666666666,
              "#ed7953"
             ],
             [
              0.7777777777777778,
              "#fb9f3a"
             ],
             [
              0.8888888888888888,
              "#fdca26"
             ],
             [
              1,
              "#f0f921"
             ]
            ],
            "type": "heatmap"
           }
          ],
          "heatmapgl": [
           {
            "colorbar": {
             "outlinewidth": 0,
             "ticks": ""
            },
            "colorscale": [
             [
              0,
              "#0d0887"
             ],
             [
              0.1111111111111111,
              "#46039f"
             ],
             [
              0.2222222222222222,
              "#7201a8"
             ],
             [
              0.3333333333333333,
              "#9c179e"
             ],
             [
              0.4444444444444444,
              "#bd3786"
             ],
             [
              0.5555555555555556,
              "#d8576b"
             ],
             [
              0.6666666666666666,
              "#ed7953"
             ],
             [
              0.7777777777777778,
              "#fb9f3a"
             ],
             [
              0.8888888888888888,
              "#fdca26"
             ],
             [
              1,
              "#f0f921"
             ]
            ],
            "type": "heatmapgl"
           }
          ],
          "histogram": [
           {
            "marker": {
             "pattern": {
              "fillmode": "overlay",
              "size": 10,
              "solidity": 0.2
             }
            },
            "type": "histogram"
           }
          ],
          "histogram2d": [
           {
            "colorbar": {
             "outlinewidth": 0,
             "ticks": ""
            },
            "colorscale": [
             [
              0,
              "#0d0887"
             ],
             [
              0.1111111111111111,
              "#46039f"
             ],
             [
              0.2222222222222222,
              "#7201a8"
             ],
             [
              0.3333333333333333,
              "#9c179e"
             ],
             [
              0.4444444444444444,
              "#bd3786"
             ],
             [
              0.5555555555555556,
              "#d8576b"
             ],
             [
              0.6666666666666666,
              "#ed7953"
             ],
             [
              0.7777777777777778,
              "#fb9f3a"
             ],
             [
              0.8888888888888888,
              "#fdca26"
             ],
             [
              1,
              "#f0f921"
             ]
            ],
            "type": "histogram2d"
           }
          ],
          "histogram2dcontour": [
           {
            "colorbar": {
             "outlinewidth": 0,
             "ticks": ""
            },
            "colorscale": [
             [
              0,
              "#0d0887"
             ],
             [
              0.1111111111111111,
              "#46039f"
             ],
             [
              0.2222222222222222,
              "#7201a8"
             ],
             [
              0.3333333333333333,
              "#9c179e"
             ],
             [
              0.4444444444444444,
              "#bd3786"
             ],
             [
              0.5555555555555556,
              "#d8576b"
             ],
             [
              0.6666666666666666,
              "#ed7953"
             ],
             [
              0.7777777777777778,
              "#fb9f3a"
             ],
             [
              0.8888888888888888,
              "#fdca26"
             ],
             [
              1,
              "#f0f921"
             ]
            ],
            "type": "histogram2dcontour"
           }
          ],
          "mesh3d": [
           {
            "colorbar": {
             "outlinewidth": 0,
             "ticks": ""
            },
            "type": "mesh3d"
           }
          ],
          "parcoords": [
           {
            "line": {
             "colorbar": {
              "outlinewidth": 0,
              "ticks": ""
             }
            },
            "type": "parcoords"
           }
          ],
          "pie": [
           {
            "automargin": true,
            "type": "pie"
           }
          ],
          "scatter": [
           {
            "fillpattern": {
             "fillmode": "overlay",
             "size": 10,
             "solidity": 0.2
            },
            "type": "scatter"
           }
          ],
          "scatter3d": [
           {
            "line": {
             "colorbar": {
              "outlinewidth": 0,
              "ticks": ""
             }
            },
            "marker": {
             "colorbar": {
              "outlinewidth": 0,
              "ticks": ""
             }
            },
            "type": "scatter3d"
           }
          ],
          "scattercarpet": [
           {
            "marker": {
             "colorbar": {
              "outlinewidth": 0,
              "ticks": ""
             }
            },
            "type": "scattercarpet"
           }
          ],
          "scattergeo": [
           {
            "marker": {
             "colorbar": {
              "outlinewidth": 0,
              "ticks": ""
             }
            },
            "type": "scattergeo"
           }
          ],
          "scattergl": [
           {
            "marker": {
             "colorbar": {
              "outlinewidth": 0,
              "ticks": ""
             }
            },
            "type": "scattergl"
           }
          ],
          "scattermapbox": [
           {
            "marker": {
             "colorbar": {
              "outlinewidth": 0,
              "ticks": ""
             }
            },
            "type": "scattermapbox"
           }
          ],
          "scatterpolar": [
           {
            "marker": {
             "colorbar": {
              "outlinewidth": 0,
              "ticks": ""
             }
            },
            "type": "scatterpolar"
           }
          ],
          "scatterpolargl": [
           {
            "marker": {
             "colorbar": {
              "outlinewidth": 0,
              "ticks": ""
             }
            },
            "type": "scatterpolargl"
           }
          ],
          "scatterternary": [
           {
            "marker": {
             "colorbar": {
              "outlinewidth": 0,
              "ticks": ""
             }
            },
            "type": "scatterternary"
           }
          ],
          "surface": [
           {
            "colorbar": {
             "outlinewidth": 0,
             "ticks": ""
            },
            "colorscale": [
             [
              0,
              "#0d0887"
             ],
             [
              0.1111111111111111,
              "#46039f"
             ],
             [
              0.2222222222222222,
              "#7201a8"
             ],
             [
              0.3333333333333333,
              "#9c179e"
             ],
             [
              0.4444444444444444,
              "#bd3786"
             ],
             [
              0.5555555555555556,
              "#d8576b"
             ],
             [
              0.6666666666666666,
              "#ed7953"
             ],
             [
              0.7777777777777778,
              "#fb9f3a"
             ],
             [
              0.8888888888888888,
              "#fdca26"
             ],
             [
              1,
              "#f0f921"
             ]
            ],
            "type": "surface"
           }
          ],
          "table": [
           {
            "cells": {
             "fill": {
              "color": "#EBF0F8"
             },
             "line": {
              "color": "white"
             }
            },
            "header": {
             "fill": {
              "color": "#C8D4E3"
             },
             "line": {
              "color": "white"
             }
            },
            "type": "table"
           }
          ]
         },
         "layout": {
          "annotationdefaults": {
           "arrowcolor": "#2a3f5f",
           "arrowhead": 0,
           "arrowwidth": 1
          },
          "autotypenumbers": "strict",
          "coloraxis": {
           "colorbar": {
            "outlinewidth": 0,
            "ticks": ""
           }
          },
          "colorscale": {
           "diverging": [
            [
             0,
             "#8e0152"
            ],
            [
             0.1,
             "#c51b7d"
            ],
            [
             0.2,
             "#de77ae"
            ],
            [
             0.3,
             "#f1b6da"
            ],
            [
             0.4,
             "#fde0ef"
            ],
            [
             0.5,
             "#f7f7f7"
            ],
            [
             0.6,
             "#e6f5d0"
            ],
            [
             0.7,
             "#b8e186"
            ],
            [
             0.8,
             "#7fbc41"
            ],
            [
             0.9,
             "#4d9221"
            ],
            [
             1,
             "#276419"
            ]
           ],
           "sequential": [
            [
             0,
             "#0d0887"
            ],
            [
             0.1111111111111111,
             "#46039f"
            ],
            [
             0.2222222222222222,
             "#7201a8"
            ],
            [
             0.3333333333333333,
             "#9c179e"
            ],
            [
             0.4444444444444444,
             "#bd3786"
            ],
            [
             0.5555555555555556,
             "#d8576b"
            ],
            [
             0.6666666666666666,
             "#ed7953"
            ],
            [
             0.7777777777777778,
             "#fb9f3a"
            ],
            [
             0.8888888888888888,
             "#fdca26"
            ],
            [
             1,
             "#f0f921"
            ]
           ],
           "sequentialminus": [
            [
             0,
             "#0d0887"
            ],
            [
             0.1111111111111111,
             "#46039f"
            ],
            [
             0.2222222222222222,
             "#7201a8"
            ],
            [
             0.3333333333333333,
             "#9c179e"
            ],
            [
             0.4444444444444444,
             "#bd3786"
            ],
            [
             0.5555555555555556,
             "#d8576b"
            ],
            [
             0.6666666666666666,
             "#ed7953"
            ],
            [
             0.7777777777777778,
             "#fb9f3a"
            ],
            [
             0.8888888888888888,
             "#fdca26"
            ],
            [
             1,
             "#f0f921"
            ]
           ]
          },
          "colorway": [
           "#636efa",
           "#EF553B",
           "#00cc96",
           "#ab63fa",
           "#FFA15A",
           "#19d3f3",
           "#FF6692",
           "#B6E880",
           "#FF97FF",
           "#FECB52"
          ],
          "font": {
           "color": "#2a3f5f"
          },
          "geo": {
           "bgcolor": "white",
           "lakecolor": "white",
           "landcolor": "#E5ECF6",
           "showlakes": true,
           "showland": true,
           "subunitcolor": "white"
          },
          "hoverlabel": {
           "align": "left"
          },
          "hovermode": "closest",
          "mapbox": {
           "style": "light"
          },
          "paper_bgcolor": "white",
          "plot_bgcolor": "#E5ECF6",
          "polar": {
           "angularaxis": {
            "gridcolor": "white",
            "linecolor": "white",
            "ticks": ""
           },
           "bgcolor": "#E5ECF6",
           "radialaxis": {
            "gridcolor": "white",
            "linecolor": "white",
            "ticks": ""
           }
          },
          "scene": {
           "xaxis": {
            "backgroundcolor": "#E5ECF6",
            "gridcolor": "white",
            "gridwidth": 2,
            "linecolor": "white",
            "showbackground": true,
            "ticks": "",
            "zerolinecolor": "white"
           },
           "yaxis": {
            "backgroundcolor": "#E5ECF6",
            "gridcolor": "white",
            "gridwidth": 2,
            "linecolor": "white",
            "showbackground": true,
            "ticks": "",
            "zerolinecolor": "white"
           },
           "zaxis": {
            "backgroundcolor": "#E5ECF6",
            "gridcolor": "white",
            "gridwidth": 2,
            "linecolor": "white",
            "showbackground": true,
            "ticks": "",
            "zerolinecolor": "white"
           }
          },
          "shapedefaults": {
           "line": {
            "color": "#2a3f5f"
           }
          },
          "ternary": {
           "aaxis": {
            "gridcolor": "white",
            "linecolor": "white",
            "ticks": ""
           },
           "baxis": {
            "gridcolor": "white",
            "linecolor": "white",
            "ticks": ""
           },
           "bgcolor": "#E5ECF6",
           "caxis": {
            "gridcolor": "white",
            "linecolor": "white",
            "ticks": ""
           }
          },
          "title": {
           "x": 0.05
          },
          "xaxis": {
           "automargin": true,
           "gridcolor": "white",
           "linecolor": "white",
           "ticks": "",
           "title": {
            "standoff": 15
           },
           "zerolinecolor": "white",
           "zerolinewidth": 2
          },
          "yaxis": {
           "automargin": true,
           "gridcolor": "white",
           "linecolor": "white",
           "ticks": "",
           "title": {
            "standoff": 15
           },
           "zerolinecolor": "white",
           "zerolinewidth": 2
          }
         }
        },
        "title": {
         "text": "Customer Activity: Mar-Feb"
        }
       }
      }
     },
     "metadata": {},
     "output_type": "display_data"
    }
   ],
   "source": [
    "fig = go.Figure(data=[go.Sankey(node=dict(\n",
    "    pad=100,\n",
    "    thickness=10,\n",
    "    line=dict(color = 'gray', width = 0.5),\n",
    "    label = ['Mar', 'Apr', 'May', 'Jun', 'Jul', 'Aug', 'Sep',\n",
    "            'Oct', 'Nov', 'Dec', 'Jan', 'Feb' ],\n",
    "\n",
    "    color = 'orange'),\n",
    "                    link = dict(\n",
    "                        source = le.transform(source_target_value.month_x.tolist()),\n",
    "                        target = le.transform(source_target_value.month_y.tolist()),\n",
    "                        value = source_target_value.user.tolist(),\n",
    "                        #hovercolor =['black']\n",
    "                    \n",
    "))])\n",
    "\n",
    "fig.update_layout(title_text='Customer Activity: Mar-Feb')\n",
    "\n",
    "fig.show()"
   ]
  },
  {
   "cell_type": "markdown",
   "metadata": {},
   "source": [
    "Who in the data exits gaming the quickest"
   ]
  },
  {
   "cell_type": "code",
   "execution_count": 54,
   "metadata": {},
   "outputs": [
    {
     "data": {
      "text/html": [
       "<div>\n",
       "<style scoped>\n",
       "    .dataframe tbody tr th:only-of-type {\n",
       "        vertical-align: middle;\n",
       "    }\n",
       "\n",
       "    .dataframe tbody tr th {\n",
       "        vertical-align: top;\n",
       "    }\n",
       "\n",
       "    .dataframe thead th {\n",
       "        text-align: right;\n",
       "    }\n",
       "</style>\n",
       "<table border=\"1\" class=\"dataframe\">\n",
       "  <thead>\n",
       "    <tr style=\"text-align: right;\">\n",
       "      <th></th>\n",
       "      <th>month_x</th>\n",
       "      <th>month_y</th>\n",
       "      <th>user</th>\n",
       "    </tr>\n",
       "  </thead>\n",
       "  <tbody>\n",
       "    <tr>\n",
       "      <th>0</th>\n",
       "      <td>2019-03</td>\n",
       "      <td>2019-03</td>\n",
       "      <td>166</td>\n",
       "    </tr>\n",
       "    <tr>\n",
       "      <th>1</th>\n",
       "      <td>2019-03</td>\n",
       "      <td>2019-04</td>\n",
       "      <td>71</td>\n",
       "    </tr>\n",
       "    <tr>\n",
       "      <th>2</th>\n",
       "      <td>2019-03</td>\n",
       "      <td>2019-05</td>\n",
       "      <td>49</td>\n",
       "    </tr>\n",
       "    <tr>\n",
       "      <th>3</th>\n",
       "      <td>2019-03</td>\n",
       "      <td>2019-06</td>\n",
       "      <td>41</td>\n",
       "    </tr>\n",
       "    <tr>\n",
       "      <th>4</th>\n",
       "      <td>2019-03</td>\n",
       "      <td>2019-07</td>\n",
       "      <td>30</td>\n",
       "    </tr>\n",
       "    <tr>\n",
       "      <th>...</th>\n",
       "      <td>...</td>\n",
       "      <td>...</td>\n",
       "      <td>...</td>\n",
       "    </tr>\n",
       "    <tr>\n",
       "      <th>73</th>\n",
       "      <td>2019-12</td>\n",
       "      <td>2020-01</td>\n",
       "      <td>77</td>\n",
       "    </tr>\n",
       "    <tr>\n",
       "      <th>74</th>\n",
       "      <td>2019-12</td>\n",
       "      <td>2020-02</td>\n",
       "      <td>181</td>\n",
       "    </tr>\n",
       "    <tr>\n",
       "      <th>75</th>\n",
       "      <td>2020-01</td>\n",
       "      <td>2020-01</td>\n",
       "      <td>156</td>\n",
       "    </tr>\n",
       "    <tr>\n",
       "      <th>76</th>\n",
       "      <td>2020-01</td>\n",
       "      <td>2020-02</td>\n",
       "      <td>148</td>\n",
       "    </tr>\n",
       "    <tr>\n",
       "      <th>77</th>\n",
       "      <td>2020-02</td>\n",
       "      <td>2020-02</td>\n",
       "      <td>233</td>\n",
       "    </tr>\n",
       "  </tbody>\n",
       "</table>\n",
       "<p>78 rows × 3 columns</p>\n",
       "</div>"
      ],
      "text/plain": [
       "    month_x  month_y  user\n",
       "0   2019-03  2019-03   166\n",
       "1   2019-03  2019-04    71\n",
       "2   2019-03  2019-05    49\n",
       "3   2019-03  2019-06    41\n",
       "4   2019-03  2019-07    30\n",
       "..      ...      ...   ...\n",
       "73  2019-12  2020-01    77\n",
       "74  2019-12  2020-02   181\n",
       "75  2020-01  2020-01   156\n",
       "76  2020-01  2020-02   148\n",
       "77  2020-02  2020-02   233\n",
       "\n",
       "[78 rows x 3 columns]"
      ]
     },
     "execution_count": 54,
     "metadata": {},
     "output_type": "execute_result"
    }
   ],
   "source": [
    "source_target_value"
   ]
  },
  {
   "cell_type": "code",
   "execution_count": 55,
   "metadata": {},
   "outputs": [],
   "source": [
    "fast_quiter_ = source_target_value[source_target_value.month_x == source_target_value.month_y]\n",
    "\n",
    "source_target_value = source_target_value[source_target_value.month_x != source_target_value.month_y]"
   ]
  },
  {
   "cell_type": "code",
   "execution_count": 59,
   "metadata": {},
   "outputs": [
    {
     "data": {
      "text/html": [
       "<div>\n",
       "<style scoped>\n",
       "    .dataframe tbody tr th:only-of-type {\n",
       "        vertical-align: middle;\n",
       "    }\n",
       "\n",
       "    .dataframe tbody tr th {\n",
       "        vertical-align: top;\n",
       "    }\n",
       "\n",
       "    .dataframe thead th {\n",
       "        text-align: right;\n",
       "    }\n",
       "</style>\n",
       "<table border=\"1\" class=\"dataframe\">\n",
       "  <thead>\n",
       "    <tr style=\"text-align: right;\">\n",
       "      <th></th>\n",
       "      <th>month_x</th>\n",
       "      <th>month_y</th>\n",
       "      <th>user</th>\n",
       "    </tr>\n",
       "  </thead>\n",
       "  <tbody>\n",
       "    <tr>\n",
       "      <th>0</th>\n",
       "      <td>2019-03</td>\n",
       "      <td>2019-03</td>\n",
       "      <td>166</td>\n",
       "    </tr>\n",
       "    <tr>\n",
       "      <th>12</th>\n",
       "      <td>2019-04</td>\n",
       "      <td>2019-04</td>\n",
       "      <td>53</td>\n",
       "    </tr>\n",
       "    <tr>\n",
       "      <th>23</th>\n",
       "      <td>2019-05</td>\n",
       "      <td>2019-05</td>\n",
       "      <td>34</td>\n",
       "    </tr>\n",
       "    <tr>\n",
       "      <th>33</th>\n",
       "      <td>2019-06</td>\n",
       "      <td>2019-06</td>\n",
       "      <td>35</td>\n",
       "    </tr>\n",
       "    <tr>\n",
       "      <th>42</th>\n",
       "      <td>2019-07</td>\n",
       "      <td>2019-07</td>\n",
       "      <td>25</td>\n",
       "    </tr>\n",
       "    <tr>\n",
       "      <th>50</th>\n",
       "      <td>2019-08</td>\n",
       "      <td>2019-08</td>\n",
       "      <td>34</td>\n",
       "    </tr>\n",
       "    <tr>\n",
       "      <th>57</th>\n",
       "      <td>2019-09</td>\n",
       "      <td>2019-09</td>\n",
       "      <td>83</td>\n",
       "    </tr>\n",
       "    <tr>\n",
       "      <th>63</th>\n",
       "      <td>2019-10</td>\n",
       "      <td>2019-10</td>\n",
       "      <td>133</td>\n",
       "    </tr>\n",
       "    <tr>\n",
       "      <th>68</th>\n",
       "      <td>2019-11</td>\n",
       "      <td>2019-11</td>\n",
       "      <td>130</td>\n",
       "    </tr>\n",
       "    <tr>\n",
       "      <th>72</th>\n",
       "      <td>2019-12</td>\n",
       "      <td>2019-12</td>\n",
       "      <td>122</td>\n",
       "    </tr>\n",
       "    <tr>\n",
       "      <th>75</th>\n",
       "      <td>2020-01</td>\n",
       "      <td>2020-01</td>\n",
       "      <td>156</td>\n",
       "    </tr>\n",
       "    <tr>\n",
       "      <th>77</th>\n",
       "      <td>2020-02</td>\n",
       "      <td>2020-02</td>\n",
       "      <td>233</td>\n",
       "    </tr>\n",
       "  </tbody>\n",
       "</table>\n",
       "</div>"
      ],
      "text/plain": [
       "    month_x  month_y  user\n",
       "0   2019-03  2019-03   166\n",
       "12  2019-04  2019-04    53\n",
       "23  2019-05  2019-05    34\n",
       "33  2019-06  2019-06    35\n",
       "42  2019-07  2019-07    25\n",
       "50  2019-08  2019-08    34\n",
       "57  2019-09  2019-09    83\n",
       "63  2019-10  2019-10   133\n",
       "68  2019-11  2019-11   130\n",
       "72  2019-12  2019-12   122\n",
       "75  2020-01  2020-01   156\n",
       "77  2020-02  2020-02   233"
      ]
     },
     "execution_count": 59,
     "metadata": {},
     "output_type": "execute_result"
    }
   ],
   "source": [
    "fast_quiter_"
   ]
  },
  {
   "cell_type": "code",
   "execution_count": 56,
   "metadata": {},
   "outputs": [
    {
     "data": {
      "text/html": [
       "<div>\n",
       "<style scoped>\n",
       "    .dataframe tbody tr th:only-of-type {\n",
       "        vertical-align: middle;\n",
       "    }\n",
       "\n",
       "    .dataframe tbody tr th {\n",
       "        vertical-align: top;\n",
       "    }\n",
       "\n",
       "    .dataframe thead th {\n",
       "        text-align: right;\n",
       "    }\n",
       "</style>\n",
       "<table border=\"1\" class=\"dataframe\">\n",
       "  <thead>\n",
       "    <tr style=\"text-align: right;\">\n",
       "      <th></th>\n",
       "      <th>month_x</th>\n",
       "      <th>month_y</th>\n",
       "      <th>user</th>\n",
       "    </tr>\n",
       "  </thead>\n",
       "  <tbody>\n",
       "    <tr>\n",
       "      <th>1</th>\n",
       "      <td>2019-03</td>\n",
       "      <td>2019-04</td>\n",
       "      <td>71</td>\n",
       "    </tr>\n",
       "    <tr>\n",
       "      <th>2</th>\n",
       "      <td>2019-03</td>\n",
       "      <td>2019-05</td>\n",
       "      <td>49</td>\n",
       "    </tr>\n",
       "    <tr>\n",
       "      <th>3</th>\n",
       "      <td>2019-03</td>\n",
       "      <td>2019-06</td>\n",
       "      <td>41</td>\n",
       "    </tr>\n",
       "    <tr>\n",
       "      <th>4</th>\n",
       "      <td>2019-03</td>\n",
       "      <td>2019-07</td>\n",
       "      <td>30</td>\n",
       "    </tr>\n",
       "    <tr>\n",
       "      <th>5</th>\n",
       "      <td>2019-03</td>\n",
       "      <td>2019-08</td>\n",
       "      <td>45</td>\n",
       "    </tr>\n",
       "    <tr>\n",
       "      <th>...</th>\n",
       "      <td>...</td>\n",
       "      <td>...</td>\n",
       "      <td>...</td>\n",
       "    </tr>\n",
       "    <tr>\n",
       "      <th>70</th>\n",
       "      <td>2019-11</td>\n",
       "      <td>2020-01</td>\n",
       "      <td>157</td>\n",
       "    </tr>\n",
       "    <tr>\n",
       "      <th>71</th>\n",
       "      <td>2019-11</td>\n",
       "      <td>2020-02</td>\n",
       "      <td>532</td>\n",
       "    </tr>\n",
       "    <tr>\n",
       "      <th>73</th>\n",
       "      <td>2019-12</td>\n",
       "      <td>2020-01</td>\n",
       "      <td>77</td>\n",
       "    </tr>\n",
       "    <tr>\n",
       "      <th>74</th>\n",
       "      <td>2019-12</td>\n",
       "      <td>2020-02</td>\n",
       "      <td>181</td>\n",
       "    </tr>\n",
       "    <tr>\n",
       "      <th>76</th>\n",
       "      <td>2020-01</td>\n",
       "      <td>2020-02</td>\n",
       "      <td>148</td>\n",
       "    </tr>\n",
       "  </tbody>\n",
       "</table>\n",
       "<p>66 rows × 3 columns</p>\n",
       "</div>"
      ],
      "text/plain": [
       "    month_x  month_y  user\n",
       "1   2019-03  2019-04    71\n",
       "2   2019-03  2019-05    49\n",
       "3   2019-03  2019-06    41\n",
       "4   2019-03  2019-07    30\n",
       "5   2019-03  2019-08    45\n",
       "..      ...      ...   ...\n",
       "70  2019-11  2020-01   157\n",
       "71  2019-11  2020-02   532\n",
       "73  2019-12  2020-01    77\n",
       "74  2019-12  2020-02   181\n",
       "76  2020-01  2020-02   148\n",
       "\n",
       "[66 rows x 3 columns]"
      ]
     },
     "execution_count": 56,
     "metadata": {},
     "output_type": "execute_result"
    }
   ],
   "source": [
    "source_target_value"
   ]
  },
  {
   "cell_type": "code",
   "execution_count": 60,
   "metadata": {},
   "outputs": [
    {
     "data": {
      "text/html": [
       "<div>\n",
       "<style scoped>\n",
       "    .dataframe tbody tr th:only-of-type {\n",
       "        vertical-align: middle;\n",
       "    }\n",
       "\n",
       "    .dataframe tbody tr th {\n",
       "        vertical-align: top;\n",
       "    }\n",
       "\n",
       "    .dataframe thead th {\n",
       "        text-align: right;\n",
       "    }\n",
       "</style>\n",
       "<table border=\"1\" class=\"dataframe\">\n",
       "  <thead>\n",
       "    <tr style=\"text-align: right;\">\n",
       "      <th></th>\n",
       "      <th>month</th>\n",
       "      <th>user</th>\n",
       "    </tr>\n",
       "  </thead>\n",
       "  <tbody>\n",
       "    <tr>\n",
       "      <th>0</th>\n",
       "      <td>2019-03</td>\n",
       "      <td>1943</td>\n",
       "    </tr>\n",
       "    <tr>\n",
       "      <th>1</th>\n",
       "      <td>2019-04</td>\n",
       "      <td>2114</td>\n",
       "    </tr>\n",
       "    <tr>\n",
       "      <th>2</th>\n",
       "      <td>2019-05</td>\n",
       "      <td>2195</td>\n",
       "    </tr>\n",
       "    <tr>\n",
       "      <th>3</th>\n",
       "      <td>2019-06</td>\n",
       "      <td>2247</td>\n",
       "    </tr>\n",
       "    <tr>\n",
       "      <th>4</th>\n",
       "      <td>2019-07</td>\n",
       "      <td>2259</td>\n",
       "    </tr>\n",
       "    <tr>\n",
       "      <th>5</th>\n",
       "      <td>2019-08</td>\n",
       "      <td>2389</td>\n",
       "    </tr>\n",
       "    <tr>\n",
       "      <th>6</th>\n",
       "      <td>2019-09</td>\n",
       "      <td>2741</td>\n",
       "    </tr>\n",
       "    <tr>\n",
       "      <th>7</th>\n",
       "      <td>2019-10</td>\n",
       "      <td>2820</td>\n",
       "    </tr>\n",
       "    <tr>\n",
       "      <th>8</th>\n",
       "      <td>2019-11</td>\n",
       "      <td>2843</td>\n",
       "    </tr>\n",
       "    <tr>\n",
       "      <th>9</th>\n",
       "      <td>2019-12</td>\n",
       "      <td>2942</td>\n",
       "    </tr>\n",
       "    <tr>\n",
       "      <th>10</th>\n",
       "      <td>2020-01</td>\n",
       "      <td>2823</td>\n",
       "    </tr>\n",
       "    <tr>\n",
       "      <th>11</th>\n",
       "      <td>2020-02</td>\n",
       "      <td>2303</td>\n",
       "    </tr>\n",
       "  </tbody>\n",
       "</table>\n",
       "</div>"
      ],
      "text/plain": [
       "      month  user\n",
       "0   2019-03  1943\n",
       "1   2019-04  2114\n",
       "2   2019-05  2195\n",
       "3   2019-06  2247\n",
       "4   2019-07  2259\n",
       "5   2019-08  2389\n",
       "6   2019-09  2741\n",
       "7   2019-10  2820\n",
       "8   2019-11  2843\n",
       "9   2019-12  2942\n",
       "10  2020-01  2823\n",
       "11  2020-02  2303"
      ]
     },
     "execution_count": 60,
     "metadata": {},
     "output_type": "execute_result"
    }
   ],
   "source": [
    "tc_df = customer_month.groupby('month').count().reset_index()\n",
    "\n",
    "tc_df"
   ]
  },
  {
   "cell_type": "code",
   "execution_count": 62,
   "metadata": {},
   "outputs": [
    {
     "data": {
      "text/html": [
       "<div>\n",
       "<style scoped>\n",
       "    .dataframe tbody tr th:only-of-type {\n",
       "        vertical-align: middle;\n",
       "    }\n",
       "\n",
       "    .dataframe tbody tr th {\n",
       "        vertical-align: top;\n",
       "    }\n",
       "\n",
       "    .dataframe thead th {\n",
       "        text-align: right;\n",
       "    }\n",
       "</style>\n",
       "<table border=\"1\" class=\"dataframe\">\n",
       "  <thead>\n",
       "    <tr style=\"text-align: right;\">\n",
       "      <th></th>\n",
       "      <th>month_x</th>\n",
       "      <th>user</th>\n",
       "    </tr>\n",
       "  </thead>\n",
       "  <tbody>\n",
       "    <tr>\n",
       "      <th>0</th>\n",
       "      <td>2019-03</td>\n",
       "      <td>166</td>\n",
       "    </tr>\n",
       "    <tr>\n",
       "      <th>12</th>\n",
       "      <td>2019-04</td>\n",
       "      <td>53</td>\n",
       "    </tr>\n",
       "    <tr>\n",
       "      <th>23</th>\n",
       "      <td>2019-05</td>\n",
       "      <td>34</td>\n",
       "    </tr>\n",
       "    <tr>\n",
       "      <th>33</th>\n",
       "      <td>2019-06</td>\n",
       "      <td>35</td>\n",
       "    </tr>\n",
       "    <tr>\n",
       "      <th>42</th>\n",
       "      <td>2019-07</td>\n",
       "      <td>25</td>\n",
       "    </tr>\n",
       "    <tr>\n",
       "      <th>50</th>\n",
       "      <td>2019-08</td>\n",
       "      <td>34</td>\n",
       "    </tr>\n",
       "    <tr>\n",
       "      <th>57</th>\n",
       "      <td>2019-09</td>\n",
       "      <td>83</td>\n",
       "    </tr>\n",
       "    <tr>\n",
       "      <th>63</th>\n",
       "      <td>2019-10</td>\n",
       "      <td>133</td>\n",
       "    </tr>\n",
       "    <tr>\n",
       "      <th>68</th>\n",
       "      <td>2019-11</td>\n",
       "      <td>130</td>\n",
       "    </tr>\n",
       "    <tr>\n",
       "      <th>72</th>\n",
       "      <td>2019-12</td>\n",
       "      <td>122</td>\n",
       "    </tr>\n",
       "    <tr>\n",
       "      <th>75</th>\n",
       "      <td>2020-01</td>\n",
       "      <td>156</td>\n",
       "    </tr>\n",
       "    <tr>\n",
       "      <th>77</th>\n",
       "      <td>2020-02</td>\n",
       "      <td>233</td>\n",
       "    </tr>\n",
       "  </tbody>\n",
       "</table>\n",
       "</div>"
      ],
      "text/plain": [
       "    month_x  user\n",
       "0   2019-03   166\n",
       "12  2019-04    53\n",
       "23  2019-05    34\n",
       "33  2019-06    35\n",
       "42  2019-07    25\n",
       "50  2019-08    34\n",
       "57  2019-09    83\n",
       "63  2019-10   133\n",
       "68  2019-11   130\n",
       "72  2019-12   122\n",
       "75  2020-01   156\n",
       "77  2020-02   233"
      ]
     },
     "execution_count": 62,
     "metadata": {},
     "output_type": "execute_result"
    }
   ],
   "source": [
    "fq_df = fast_quiter_[['month_x', 'user']]\n",
    "\n",
    "fq_df\n"
   ]
  },
  {
   "cell_type": "code",
   "execution_count": 65,
   "metadata": {},
   "outputs": [
    {
     "data": {
      "text/html": [
       "<div>\n",
       "<style scoped>\n",
       "    .dataframe tbody tr th:only-of-type {\n",
       "        vertical-align: middle;\n",
       "    }\n",
       "\n",
       "    .dataframe tbody tr th {\n",
       "        vertical-align: top;\n",
       "    }\n",
       "\n",
       "    .dataframe thead th {\n",
       "        text-align: right;\n",
       "    }\n",
       "</style>\n",
       "<table border=\"1\" class=\"dataframe\">\n",
       "  <thead>\n",
       "    <tr style=\"text-align: right;\">\n",
       "      <th></th>\n",
       "      <th>month</th>\n",
       "      <th>total</th>\n",
       "      <th>quit</th>\n",
       "    </tr>\n",
       "  </thead>\n",
       "  <tbody>\n",
       "    <tr>\n",
       "      <th>0</th>\n",
       "      <td>2019-03</td>\n",
       "      <td>1943</td>\n",
       "      <td>166</td>\n",
       "    </tr>\n",
       "    <tr>\n",
       "      <th>1</th>\n",
       "      <td>2019-04</td>\n",
       "      <td>2114</td>\n",
       "      <td>53</td>\n",
       "    </tr>\n",
       "    <tr>\n",
       "      <th>2</th>\n",
       "      <td>2019-05</td>\n",
       "      <td>2195</td>\n",
       "      <td>34</td>\n",
       "    </tr>\n",
       "    <tr>\n",
       "      <th>3</th>\n",
       "      <td>2019-06</td>\n",
       "      <td>2247</td>\n",
       "      <td>35</td>\n",
       "    </tr>\n",
       "    <tr>\n",
       "      <th>4</th>\n",
       "      <td>2019-07</td>\n",
       "      <td>2259</td>\n",
       "      <td>25</td>\n",
       "    </tr>\n",
       "    <tr>\n",
       "      <th>5</th>\n",
       "      <td>2019-08</td>\n",
       "      <td>2389</td>\n",
       "      <td>34</td>\n",
       "    </tr>\n",
       "    <tr>\n",
       "      <th>6</th>\n",
       "      <td>2019-09</td>\n",
       "      <td>2741</td>\n",
       "      <td>83</td>\n",
       "    </tr>\n",
       "    <tr>\n",
       "      <th>7</th>\n",
       "      <td>2019-10</td>\n",
       "      <td>2820</td>\n",
       "      <td>133</td>\n",
       "    </tr>\n",
       "    <tr>\n",
       "      <th>8</th>\n",
       "      <td>2019-11</td>\n",
       "      <td>2843</td>\n",
       "      <td>130</td>\n",
       "    </tr>\n",
       "    <tr>\n",
       "      <th>9</th>\n",
       "      <td>2019-12</td>\n",
       "      <td>2942</td>\n",
       "      <td>122</td>\n",
       "    </tr>\n",
       "    <tr>\n",
       "      <th>10</th>\n",
       "      <td>2020-01</td>\n",
       "      <td>2823</td>\n",
       "      <td>156</td>\n",
       "    </tr>\n",
       "    <tr>\n",
       "      <th>11</th>\n",
       "      <td>2020-02</td>\n",
       "      <td>2303</td>\n",
       "      <td>233</td>\n",
       "    </tr>\n",
       "  </tbody>\n",
       "</table>\n",
       "</div>"
      ],
      "text/plain": [
       "      month  total  quit\n",
       "0   2019-03   1943   166\n",
       "1   2019-04   2114    53\n",
       "2   2019-05   2195    34\n",
       "3   2019-06   2247    35\n",
       "4   2019-07   2259    25\n",
       "5   2019-08   2389    34\n",
       "6   2019-09   2741    83\n",
       "7   2019-10   2820   133\n",
       "8   2019-11   2843   130\n",
       "9   2019-12   2942   122\n",
       "10  2020-01   2823   156\n",
       "11  2020-02   2303   233"
      ]
     },
     "execution_count": 65,
     "metadata": {},
     "output_type": "execute_result"
    }
   ],
   "source": [
    "q_t = pd.merge(tc_df, fq_df, right_on = 'month_x', left_on = 'month')[['month', 'user_x', 'user_y']]\n",
    "\n",
    "q_t.rename(columns = {'month': 'month', 'user_x': 'total', 'user_y': 'quit'}, inplace=True)\n",
    "\n",
    "q_t"
   ]
  },
  {
   "cell_type": "markdown",
   "metadata": {},
   "source": [
    "fig, ax = plt.subplots(figsize=(15,5))\n",
    "sns.barplot(q_t.melt(id_vars = [\"month\"]), x = \"month\", y=\"value\", \n",
    "            hue = \"variable\")"
   ]
  },
  {
   "cell_type": "code",
   "execution_count": 67,
   "metadata": {},
   "outputs": [
    {
     "data": {
      "text/plain": [
       "<Axes: xlabel='month', ylabel='value'>"
      ]
     },
     "execution_count": 67,
     "metadata": {},
     "output_type": "execute_result"
    },
    {
     "data": {
      "image/png": "[encoded data removed]",
      "text/plain": [
       "<Figure size 1500x500 with 1 Axes>"
      ]
     },
     "metadata": {},
     "output_type": "display_data"
    }
   ],
   "source": [
    "fig, ax=plt.subplots(figsize=(15, 5))\n",
    "sns.barplot(q_t.melt(id_vars = ['month']), x= 'month', y='value', hue='variable')"
   ]
  }
 ],
 "metadata": {
  "kernelspec": {
   "display_name": "Python 3",
   "language": "python",
   "name": "python3"
  },
  "language_info": {
   "codemirror_mode": {
    "name": "ipython",
    "version": 3
   },
   "file_extension": ".py",
   "mimetype": "text/x-python",
   "name": "python",
   "nbconvert_exporter": "python",
   "pygments_lexer": "ipython3",
   "version": "3.10.12"
  }
 },
 "nbformat": 4,
 "nbformat_minor": 2
}
