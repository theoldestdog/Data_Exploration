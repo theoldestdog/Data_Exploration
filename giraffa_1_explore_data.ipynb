{
 "cells": [
  {
   "cell_type": "markdown",
   "metadata": {},
   "source": [
    "## ML Project: Payment Transaction Data From Online Casino Players\n",
    "\n",
    "Dataset to download: https://data.mendeley.com/datasets/9j5gcygnwg/1\\\n",
    "Ghaharian, Kasra (2023), “Raw payments transaction data from online casino players and online sports bettors”, Mendeley Data, V1, doi: 10.17632/9j5gcygnwg.1\n",
    "\n",
    "Aticle: https://www.sciencedirect.com/science/article/pii/S2352340923001956\n",
    "### Exploratory Data Analysis"
   ]
  },
  {
   "cell_type": "code",
   "execution_count": null,
   "metadata": {},
   "outputs": [],
   "source": [
    "# Data management\n",
    "import pandas as pd\n",
    "import numpy as np\n",
    "pd.options.mode.chained_assignment = None  \n",
    "from datetime import datetime as dt\n",
    "\n",
    "# Visualizations\n",
    "import seaborn as sns\n",
    "import matplotlib.pyplot as plt\n",
    "import plotly.graph_objects as go\n",
    "from sklearn.preprocessing import LabelEncoder"
   ]
  },
  {
   "cell_type": "code",
   "execution_count": null,
   "metadata": {},
   "outputs": [],
   "source": [
    "casino = pd.read_csv(\"Online_casino_DIB.csv\")\n",
    "casino.head()"
   ]
  },
  {
   "cell_type": "code",
   "execution_count": null,
   "metadata": {},
   "outputs": [],
   "source": [
    "casino.dtypes"
   ]
  },
  {
   "cell_type": "code",
   "execution_count": null,
   "metadata": {},
   "outputs": [],
   "source": [
    "#\n",
    "casino.ReqTimeUTC = pd.to_datetime(casino.ReqTimeUTC)"
   ]
  },
  {
   "cell_type": "code",
   "execution_count": null,
   "metadata": {},
   "outputs": [],
   "source": [
    "casino.describe(exclude = 'float64')"
   ]
  },
  {
   "cell_type": "code",
   "execution_count": null,
   "metadata": {},
   "outputs": [],
   "source": [
    "casino = casino[casino.ReqTimeUTC <='2020-02-29 00:00:00+00:00']\\\n",
    "    .copy()"
   ]
  },
  {
   "cell_type": "code",
   "execution_count": null,
   "metadata": {},
   "outputs": [],
   "source": [
    "casino.TransactionType.unique()"
   ]
  },
  {
   "cell_type": "code",
   "execution_count": null,
   "metadata": {},
   "outputs": [],
   "source": [
    "casino.TransactionType = casino.TransactionType \\\n",
    "    .map({'LOYALTYCARDDEBIT':'L2D', 'LOYALTYCARDCREDITCL':'L1D', \n",
    "          'LOYALTYCARDCREDIT':'L2W'})"
   ]
  },
  {
   "cell_type": "code",
   "execution_count": null,
   "metadata": {},
   "outputs": [],
   "source": [
    "user_type_ = casino.groupby([\"AccountIdentifier\", \"TransactionType\"])\\\n",
    "    .count().reset_index()\n",
    "# sns.histplot(data = user_type_, x=\"ReqTimeUTC\", bins=50, \n",
    "# hue = \"TransactionType\")\n",
    "\n",
    "sns.histplot(data = user_type_, x=\"ReqTimeUTC\", hue = \"TransactionType\", \n",
    "             cumulative = True, stat=\"density\", element=\"step\", fill=False)"
   ]
  },
  {
   "cell_type": "code",
   "execution_count": null,
   "metadata": {},
   "outputs": [],
   "source": [
    "casino.columns"
   ]
  },
  {
   "cell_type": "code",
   "execution_count": null,
   "metadata": {},
   "outputs": [],
   "source": [
    "casino = casino[(casino.TransactionType == \"L2D\") & \\\n",
    "    (casino.Status==\"APPROVED\")].reset_index(drop=True)\n",
    "\n",
    "casino = casino[['AccountIdentifier', 'ReqTimeUTC', 'TransactionAmount']]\n",
    "\n",
    "casino = casino.sort_values([\"AccountIdentifier\", \"ReqTimeUTC\"])\\\n",
    "    .reset_index(drop=True)\n",
    "\n",
    "casino.rename(columns = {'AccountIdentifier':'user', 'ReqTimeUTC':'timest',\n",
    "    'TransactionAmount':'amount'},inplace=True)\n",
    "\n",
    "casino.head()"
   ]
  },
  {
   "cell_type": "code",
   "execution_count": null,
   "metadata": {},
   "outputs": [],
   "source": [
    "casino.head()"
   ]
  },
  {
   "cell_type": "code",
   "execution_count": null,
   "metadata": {},
   "outputs": [],
   "source": [
    "top_20_freq = casino.groupby(\"AccountIdentifier\").count().reset_index() \\\n",
    "    .iloc[:,0:2].sort_values(\"ReqTimeUTC\")[::-1][0:20]\n",
    "\n",
    "top_20_spenders = casino[[\"AccountIdentifier\", \"TransactionAmount\"]].\\\n",
    "    groupby(\"AccountIdentifier\") \\\n",
    "    .sum().reset_index().sort_values(\"TransactionAmount\")[::-1][0:20]\n",
    "# top_20_spenders"
   ]
  },
  {
   "cell_type": "code",
   "execution_count": null,
   "metadata": {},
   "outputs": [],
   "source": [
    "fig, ax = plt.subplots(ncols = 2, figsize=(15, 5))\n",
    "\n",
    "sns.barplot(top_20_freq, x = 'ReqTimeUTC', y = 'AccountIdentifier', \n",
    "            ax = ax[0])\n",
    "sns.barplot(top_20_spenders, x =\"TransactionAmount\", \n",
    "            y = \"AccountIdentifier\", ax = ax[1])"
   ]
  },
  {
   "cell_type": "code",
   "execution_count": null,
   "metadata": {},
   "outputs": [],
   "source": [
    "casino[\"hour\"] = casino.ReqTimeUTC.dt.hour\n",
    "\n",
    "casino[\"day_of_week\"] = casino.ReqTimeUTC.dt.day_of_week\n",
    "\n",
    "day_of_week_dict = {0: \"1_Monday\", 1:\"2_Tuesday\", 2:\"3_Wednesday\", \n",
    "                    3:\"4_Thursday\", 4:\"5_Friday\", 5:\"6_Saturday\",\n",
    "                    6:\"7_Sunday\"}\n",
    "\n",
    "\n",
    "casino[\"day_of_week\"] = casino[\"day_of_week\"].map(day_of_week_dict)\n",
    "\n",
    "casino"
   ]
  },
  {
   "cell_type": "code",
   "execution_count": null,
   "metadata": {},
   "outputs": [],
   "source": [
    "h_d_g = casino[[\"hour\", \"day_of_week\", \"TransactionType\"]]\\\n",
    "    .groupby([\"hour\", \"day_of_week\"]).count().reset_index()\n",
    "\n",
    "casino_hm = pd.pivot_table(h_d_g, values=\"TransactionType\", \n",
    "                           index=\"day_of_week\", columns=\"hour\")\n",
    "\n",
    "sns.heatmap(casino_hm)"
   ]
  },
  {
   "cell_type": "code",
   "execution_count": null,
   "metadata": {},
   "outputs": [],
   "source": [
    "# casino[\"ReqDateUTC\"] = casino.ReqTimeUTC.dt.to_period('D')\n",
    "casino[\"ReqDateUTC\"] = casino.ReqTimeUTC.dt.floor('D')\n",
    "\n",
    "daily_activity = casino.groupby([\"AccountIdentifier\", \"ReqDateUTC\"]) \\\n",
    "    .agg({'TransactionAmount': 'sum', 'TransactionType':'count'})\\\n",
    "    .reset_index()\n",
    "\n",
    "daily_activity"
   ]
  },
  {
   "cell_type": "code",
   "execution_count": null,
   "metadata": {},
   "outputs": [],
   "source": [
    "c1 = daily_activity[daily_activity.AccountIdentifier==\"customer1\"][0:20]\n",
    "sns.lineplot(c1, x=\"ReqDateUTC\", y=\"TransactionAmount\")"
   ]
  },
  {
   "cell_type": "code",
   "execution_count": null,
   "metadata": {},
   "outputs": [],
   "source": [
    "full_customer_df = pd.DataFrame()\n",
    "\n",
    "for customer_id in daily_activity.AccountIdentifier.unique():\n",
    "    customer_df = daily_activity[daily_activity.AccountIdentifier == customer_id]\n",
    "\n",
    "    full_range = pd.date_range(customer_df.ReqDateUTC.min(), \n",
    "                               customer_df.ReqDateUTC.max(), freq=\"D\")\n",
    "\n",
    "    customer_df = customer_df.set_index(keys = \"ReqDateUTC\")\n",
    "\n",
    "    customer_df = customer_df.reindex(list(full_range), fill_value=0)\n",
    "    customer_df.AccountIdentifier = [customer_id]*len(customer_df)\n",
    "    \n",
    "    customer_df = customer_df.reset_index()\n",
    "    full_customer_df = pd.concat([full_customer_df, customer_df])\n",
    "\n",
    "full_customer_df = full_customer_df.reset_index(drop=True)"
   ]
  },
  {
   "cell_type": "code",
   "execution_count": null,
   "metadata": {},
   "outputs": [],
   "source": [
    "full_customer_df"
   ]
  },
  {
   "cell_type": "code",
   "execution_count": null,
   "metadata": {},
   "outputs": [],
   "source": [
    "full_customer_df[\"month\"] = full_customer_df.\\\n",
    "    ReqDateUTC.dt.to_period(\"M\")\n",
    "\n",
    "customer_month = full_customer_df.groupby([\"month\",\n",
    "        \"AccountIdentifier\"]).count().reset_index().iloc[:,:2]\n",
    "\n",
    "start_ = customer_month.groupby(\"AccountIdentifier\").min().reset_index()\n",
    "\n",
    "end_ = customer_month.groupby(\"AccountIdentifier\").max().reset_index()\n",
    "\n",
    "start_end_df = pd.merge(start_, end_ , on = \"AccountIdentifier\")\n",
    "\n",
    "start_end_df\n",
    "\n",
    "source_target_value = start_end_df.groupby([\"month_x\", \"month_y\"]).\\\n",
    "    count().reset_index()"
   ]
  },
  {
   "cell_type": "code",
   "execution_count": null,
   "metadata": {},
   "outputs": [],
   "source": [
    "source_target_value"
   ]
  },
  {
   "cell_type": "code",
   "execution_count": null,
   "metadata": {},
   "outputs": [],
   "source": [
    "\n",
    "le = LabelEncoder()\n",
    "\n",
    "le.fit_transform(source_target_value.month_x.unique())"
   ]
  },
  {
   "cell_type": "code",
   "execution_count": null,
   "metadata": {},
   "outputs": [],
   "source": [
    "fig = go.Figure(data=[go.Sankey(\n",
    "    node = dict(\n",
    "      pad = 100,\n",
    "      thickness = 10,\n",
    "      line = dict(color = \"gray\", width = 0.5),\n",
    "      # label = [\"3\", \"4\", \"5\", \"6\",\"7\", \"8\", \"9\", \"10\", \"11\",\n",
    "      # \"12\", \"1\", \"2\"],\n",
    "      label = [\"Mar\", \"Apr\", \"May\", \"Jun\",\"Jul\",\\\n",
    "        \"Aug\", \"Sep\", \"Oct\", \"Nov\", \"Dec\", \"Jan\", \"Feb\"],\n",
    "      color = \"orange\"\n",
    "    ),\n",
    "    \n",
    "    link = dict(\n",
    "      source =le.transform(source_target_value.month_x.tolist()),\n",
    "      target = le.transform(source_target_value.month_y.tolist()),\n",
    "      value = source_target_value.AccountIdentifier.tolist(),\n",
    "      hovercolor=[\"black\"],\n",
    "  ))])\n",
    "\n",
    "fig.update_layout(title_text=\"Customer Lifetime: March 2023 - February 2024\", \n",
    "                  font_size=10)\n",
    "fig.show()"
   ]
  },
  {
   "cell_type": "code",
   "execution_count": null,
   "metadata": {},
   "outputs": [],
   "source": [
    "fast_quiter_ = source_target_value[source_target_value.\\\n",
    "    month_x == source_target_value.month_y]\n",
    "\n",
    "source_target_value = source_target_value[source_target_value.\\\n",
    "    month_x != source_target_value.month_y]"
   ]
  },
  {
   "cell_type": "code",
   "execution_count": null,
   "metadata": {},
   "outputs": [],
   "source": [
    "tc_df = customer_month.groupby(\"month\").count().reset_index()\n",
    "\n",
    "tc_df"
   ]
  },
  {
   "cell_type": "code",
   "execution_count": null,
   "metadata": {},
   "outputs": [],
   "source": [
    "fq_df = fast_quiter_[[\"month_x\", \"AccountIdentifier\"]]\n",
    "\n",
    "fq_df"
   ]
  },
  {
   "cell_type": "code",
   "execution_count": null,
   "metadata": {},
   "outputs": [],
   "source": [
    "q_t = pd.merge(tc_df, fq_df, right_on = \"month_x\", \\ \n",
    "               left_on = \"month\")[[\"month\",\"AccountIdentifier_x\", \n",
    "                                   \"AccountIdentifier_y\"]]\n",
    "\n",
    "q_t.rename(columns = {\"month\": \"month\",\"AccountIdentifier_x\":\"total\", \n",
    "                      \"AccountIdentifier_y\":\"quit\"}, \n",
    "           inplace=True)   \n",
    "q_t\n"
   ]
  },
  {
   "cell_type": "code",
   "execution_count": null,
   "metadata": {},
   "outputs": [],
   "source": [
    "fig, ax = plt.subplots(figsize=(15,5))\n",
    "sns.barplot(q_t.melt(id_vars = [\"month\"]), x = \"month\", y=\"value\", \n",
    "            hue = \"variable\")"
   ]
  }
 ],
 "metadata": {
  "kernelspec": {
   "display_name": "Python 3",
   "language": "python",
   "name": "python3"
  },
  "language_info": {
   "codemirror_mode": {
    "name": "ipython",
    "version": 3
   },
   "file_extension": ".py",
   "mimetype": "text/x-python",
   "name": "python",
   "nbconvert_exporter": "python",
   "pygments_lexer": "ipython3",
   "version": "3.10.3"
  }
 },
 "nbformat": 4,
 "nbformat_minor": 2
}
