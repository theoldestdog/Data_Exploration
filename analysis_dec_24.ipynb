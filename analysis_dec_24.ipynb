{
 "cells": [
  {
   "cell_type": "code",
   "execution_count": 1,
   "metadata": {},
   "outputs": [],
   "source": [
    "import pandas as pd\n",
    "import numpy as np\n",
    "from sklearn.preprocessing import StandardScaler\n",
    "from sklearn.preprocessing import LabelEncoder\n",
    "from sklearn.metrics import silhouette_score\n",
    "from sklearn.cluster import KMeans\n",
    "from mpl_toolkits.mplot3d import Axes3D\n",
    "\n",
    "import matplotlib.pyplot as plt\n",
    "import seaborn as sns\n",
    "import plotly.graph_objects as go\n",
    "import datetime as dt"
   ]
  },
  {
   "cell_type": "code",
   "execution_count": 2,
   "metadata": {},
   "outputs": [],
   "source": [
    "# Initial data set up\n",
    "\n",
    "#pd.options.display.float_format = '{:20, 2f}'.format\n",
    "pd.set_option('display.max_columns', 999)\n",
    "pd.options.mode.chained_assignment = None"
   ]
  },
  {
   "cell_type": "code",
   "execution_count": 3,
   "metadata": {},
   "outputs": [],
   "source": [
    "# Load the data\n",
    "\n",
    "df = pd.read_csv('online_sales_dataset.csv')"
   ]
  },
  {
   "cell_type": "code",
   "execution_count": 4,
   "metadata": {},
   "outputs": [
    {
     "data": {
      "text/html": [
       "<div>\n",
       "<style scoped>\n",
       "    .dataframe tbody tr th:only-of-type {\n",
       "        vertical-align: middle;\n",
       "    }\n",
       "\n",
       "    .dataframe tbody tr th {\n",
       "        vertical-align: top;\n",
       "    }\n",
       "\n",
       "    .dataframe thead th {\n",
       "        text-align: right;\n",
       "    }\n",
       "</style>\n",
       "<table border=\"1\" class=\"dataframe\">\n",
       "  <thead>\n",
       "    <tr style=\"text-align: right;\">\n",
       "      <th></th>\n",
       "      <th>InvoiceNo</th>\n",
       "      <th>StockCode</th>\n",
       "      <th>Description</th>\n",
       "      <th>Quantity</th>\n",
       "      <th>InvoiceDate</th>\n",
       "      <th>UnitPrice</th>\n",
       "      <th>CustomerID</th>\n",
       "      <th>Country</th>\n",
       "      <th>Discount</th>\n",
       "      <th>PaymentMethod</th>\n",
       "      <th>ShippingCost</th>\n",
       "      <th>Category</th>\n",
       "      <th>SalesChannel</th>\n",
       "      <th>ReturnStatus</th>\n",
       "      <th>ShipmentProvider</th>\n",
       "      <th>WarehouseLocation</th>\n",
       "      <th>OrderPriority</th>\n",
       "    </tr>\n",
       "  </thead>\n",
       "  <tbody>\n",
       "    <tr>\n",
       "      <th>0</th>\n",
       "      <td>221958</td>\n",
       "      <td>SKU_1964</td>\n",
       "      <td>White Mug</td>\n",
       "      <td>38</td>\n",
       "      <td>2020-01-01 00:00</td>\n",
       "      <td>1.71</td>\n",
       "      <td>37039.0</td>\n",
       "      <td>Australia</td>\n",
       "      <td>0.470000</td>\n",
       "      <td>Bank Transfer</td>\n",
       "      <td>10.79</td>\n",
       "      <td>Apparel</td>\n",
       "      <td>In-store</td>\n",
       "      <td>Not Returned</td>\n",
       "      <td>UPS</td>\n",
       "      <td>London</td>\n",
       "      <td>Medium</td>\n",
       "    </tr>\n",
       "    <tr>\n",
       "      <th>1</th>\n",
       "      <td>771155</td>\n",
       "      <td>SKU_1241</td>\n",
       "      <td>White Mug</td>\n",
       "      <td>18</td>\n",
       "      <td>2020-01-01 01:00</td>\n",
       "      <td>41.25</td>\n",
       "      <td>19144.0</td>\n",
       "      <td>Spain</td>\n",
       "      <td>0.190000</td>\n",
       "      <td>paypall</td>\n",
       "      <td>9.51</td>\n",
       "      <td>Electronics</td>\n",
       "      <td>Online</td>\n",
       "      <td>Not Returned</td>\n",
       "      <td>UPS</td>\n",
       "      <td>Rome</td>\n",
       "      <td>Medium</td>\n",
       "    </tr>\n",
       "    <tr>\n",
       "      <th>2</th>\n",
       "      <td>231932</td>\n",
       "      <td>SKU_1501</td>\n",
       "      <td>Headphones</td>\n",
       "      <td>49</td>\n",
       "      <td>2020-01-01 02:00</td>\n",
       "      <td>29.11</td>\n",
       "      <td>50472.0</td>\n",
       "      <td>Germany</td>\n",
       "      <td>0.350000</td>\n",
       "      <td>Bank Transfer</td>\n",
       "      <td>23.03</td>\n",
       "      <td>Electronics</td>\n",
       "      <td>Online</td>\n",
       "      <td>Returned</td>\n",
       "      <td>UPS</td>\n",
       "      <td>Berlin</td>\n",
       "      <td>High</td>\n",
       "    </tr>\n",
       "    <tr>\n",
       "      <th>3</th>\n",
       "      <td>465838</td>\n",
       "      <td>SKU_1760</td>\n",
       "      <td>Desk Lamp</td>\n",
       "      <td>14</td>\n",
       "      <td>2020-01-01 03:00</td>\n",
       "      <td>76.68</td>\n",
       "      <td>96586.0</td>\n",
       "      <td>Netherlands</td>\n",
       "      <td>0.140000</td>\n",
       "      <td>paypall</td>\n",
       "      <td>11.08</td>\n",
       "      <td>Accessories</td>\n",
       "      <td>Online</td>\n",
       "      <td>Not Returned</td>\n",
       "      <td>Royal Mail</td>\n",
       "      <td>Rome</td>\n",
       "      <td>Low</td>\n",
       "    </tr>\n",
       "    <tr>\n",
       "      <th>4</th>\n",
       "      <td>359178</td>\n",
       "      <td>SKU_1386</td>\n",
       "      <td>USB Cable</td>\n",
       "      <td>-30</td>\n",
       "      <td>2020-01-01 04:00</td>\n",
       "      <td>-68.11</td>\n",
       "      <td>NaN</td>\n",
       "      <td>United Kingdom</td>\n",
       "      <td>1.501433</td>\n",
       "      <td>Bank Transfer</td>\n",
       "      <td>NaN</td>\n",
       "      <td>Electronics</td>\n",
       "      <td>In-store</td>\n",
       "      <td>Not Returned</td>\n",
       "      <td>FedEx</td>\n",
       "      <td>NaN</td>\n",
       "      <td>Medium</td>\n",
       "    </tr>\n",
       "  </tbody>\n",
       "</table>\n",
       "</div>"
      ],
      "text/plain": [
       "   InvoiceNo StockCode Description  Quantity       InvoiceDate  UnitPrice  \\\n",
       "0     221958  SKU_1964   White Mug        38  2020-01-01 00:00       1.71   \n",
       "1     771155  SKU_1241   White Mug        18  2020-01-01 01:00      41.25   \n",
       "2     231932  SKU_1501  Headphones        49  2020-01-01 02:00      29.11   \n",
       "3     465838  SKU_1760   Desk Lamp        14  2020-01-01 03:00      76.68   \n",
       "4     359178  SKU_1386   USB Cable       -30  2020-01-01 04:00     -68.11   \n",
       "\n",
       "   CustomerID         Country  Discount  PaymentMethod  ShippingCost  \\\n",
       "0     37039.0       Australia  0.470000  Bank Transfer         10.79   \n",
       "1     19144.0           Spain  0.190000        paypall          9.51   \n",
       "2     50472.0         Germany  0.350000  Bank Transfer         23.03   \n",
       "3     96586.0     Netherlands  0.140000        paypall         11.08   \n",
       "4         NaN  United Kingdom  1.501433  Bank Transfer           NaN   \n",
       "\n",
       "      Category SalesChannel  ReturnStatus ShipmentProvider WarehouseLocation  \\\n",
       "0      Apparel     In-store  Not Returned              UPS            London   \n",
       "1  Electronics       Online  Not Returned              UPS              Rome   \n",
       "2  Electronics       Online      Returned              UPS            Berlin   \n",
       "3  Accessories       Online  Not Returned       Royal Mail              Rome   \n",
       "4  Electronics     In-store  Not Returned            FedEx               NaN   \n",
       "\n",
       "  OrderPriority  \n",
       "0        Medium  \n",
       "1        Medium  \n",
       "2          High  \n",
       "3           Low  \n",
       "4        Medium  "
      ]
     },
     "execution_count": 4,
     "metadata": {},
     "output_type": "execute_result"
    }
   ],
   "source": [
    "df.head()\n"
   ]
  },
  {
   "cell_type": "code",
   "execution_count": 5,
   "metadata": {},
   "outputs": [],
   "source": [
    "df_raw = df.copy()"
   ]
  },
  {
   "cell_type": "code",
   "execution_count": 6,
   "metadata": {},
   "outputs": [],
   "source": [
    "# Change dtypes for columns\n",
    "\n",
    "df_raw['InvoiceNo'] = df_raw['InvoiceNo'].astype(str) \n",
    "\n",
    "df_raw['CustomerID'] = df_raw['CustomerID'].astype(str) \n",
    "\n",
    "df_raw['InvoiceDate'] = pd.to_datetime(df_raw['InvoiceDate'])"
   ]
  },
  {
   "cell_type": "code",
   "execution_count": 7,
   "metadata": {},
   "outputs": [],
   "source": [
    "#  Format currency columns to two decimal places\n",
    "\n",
    "df_raw['Discount'] = df_raw['Discount'].round(2)\n",
    "df_raw['UnitPrice'] = df_raw['UnitPrice'].round(2)\n",
    "df_raw['ShippingCost'] = df_raw['ShippingCost'].round(2)\n",
    "\n"
   ]
  },
  {
   "cell_type": "code",
   "execution_count": 8,
   "metadata": {},
   "outputs": [
    {
     "name": "stdout",
     "output_type": "stream",
     "text": [
      "<class 'pandas.core.frame.DataFrame'>\n",
      "RangeIndex: 49782 entries, 0 to 49781\n",
      "Data columns (total 17 columns):\n",
      " #   Column             Non-Null Count  Dtype         \n",
      "---  ------             --------------  -----         \n",
      " 0   InvoiceNo          49782 non-null  object        \n",
      " 1   StockCode          49782 non-null  object        \n",
      " 2   Description        49782 non-null  object        \n",
      " 3   Quantity           49782 non-null  int64         \n",
      " 4   InvoiceDate        49782 non-null  datetime64[ns]\n",
      " 5   UnitPrice          49782 non-null  float64       \n",
      " 6   CustomerID         49782 non-null  object        \n",
      " 7   Country            49782 non-null  object        \n",
      " 8   Discount           49782 non-null  float64       \n",
      " 9   PaymentMethod      49782 non-null  object        \n",
      " 10  ShippingCost       47293 non-null  float64       \n",
      " 11  Category           49782 non-null  object        \n",
      " 12  SalesChannel       49782 non-null  object        \n",
      " 13  ReturnStatus       49782 non-null  object        \n",
      " 14  ShipmentProvider   49782 non-null  object        \n",
      " 15  WarehouseLocation  46297 non-null  object        \n",
      " 16  OrderPriority      49782 non-null  object        \n",
      "dtypes: datetime64[ns](1), float64(3), int64(1), object(12)\n",
      "memory usage: 6.5+ MB\n"
     ]
    }
   ],
   "source": [
    "df_raw.info()"
   ]
  },
  {
   "cell_type": "code",
   "execution_count": 9,
   "metadata": {},
   "outputs": [],
   "source": [
    "df_cleaned = df_raw.copy()"
   ]
  },
  {
   "cell_type": "code",
   "execution_count": 10,
   "metadata": {},
   "outputs": [
    {
     "data": {
      "text/plain": [
       "49782"
      ]
     },
     "execution_count": 10,
     "metadata": {},
     "output_type": "execute_result"
    }
   ],
   "source": [
    "df_cleaned.shape[0]"
   ]
  },
  {
   "cell_type": "code",
   "execution_count": 11,
   "metadata": {},
   "outputs": [
    {
     "data": {
      "text/html": [
       "<div>\n",
       "<style scoped>\n",
       "    .dataframe tbody tr th:only-of-type {\n",
       "        vertical-align: middle;\n",
       "    }\n",
       "\n",
       "    .dataframe tbody tr th {\n",
       "        vertical-align: top;\n",
       "    }\n",
       "\n",
       "    .dataframe thead th {\n",
       "        text-align: right;\n",
       "    }\n",
       "</style>\n",
       "<table border=\"1\" class=\"dataframe\">\n",
       "  <thead>\n",
       "    <tr style=\"text-align: right;\">\n",
       "      <th></th>\n",
       "      <th>InvoiceNo</th>\n",
       "      <th>StockCode</th>\n",
       "      <th>Description</th>\n",
       "      <th>Quantity</th>\n",
       "      <th>InvoiceDate</th>\n",
       "      <th>UnitPrice</th>\n",
       "      <th>CustomerID</th>\n",
       "      <th>Country</th>\n",
       "      <th>Discount</th>\n",
       "      <th>PaymentMethod</th>\n",
       "      <th>ShippingCost</th>\n",
       "      <th>Category</th>\n",
       "      <th>SalesChannel</th>\n",
       "      <th>ReturnStatus</th>\n",
       "      <th>ShipmentProvider</th>\n",
       "      <th>WarehouseLocation</th>\n",
       "      <th>OrderPriority</th>\n",
       "    </tr>\n",
       "  </thead>\n",
       "  <tbody>\n",
       "    <tr>\n",
       "      <th>0</th>\n",
       "      <td>221958</td>\n",
       "      <td>SKU_1964</td>\n",
       "      <td>White Mug</td>\n",
       "      <td>38</td>\n",
       "      <td>2020-01-01 00:00:00</td>\n",
       "      <td>1.71</td>\n",
       "      <td>37039.0</td>\n",
       "      <td>Australia</td>\n",
       "      <td>0.47</td>\n",
       "      <td>Bank Transfer</td>\n",
       "      <td>10.79</td>\n",
       "      <td>Apparel</td>\n",
       "      <td>In-store</td>\n",
       "      <td>Not Returned</td>\n",
       "      <td>UPS</td>\n",
       "      <td>London</td>\n",
       "      <td>Medium</td>\n",
       "    </tr>\n",
       "    <tr>\n",
       "      <th>1</th>\n",
       "      <td>771155</td>\n",
       "      <td>SKU_1241</td>\n",
       "      <td>White Mug</td>\n",
       "      <td>18</td>\n",
       "      <td>2020-01-01 01:00:00</td>\n",
       "      <td>41.25</td>\n",
       "      <td>19144.0</td>\n",
       "      <td>Spain</td>\n",
       "      <td>0.19</td>\n",
       "      <td>paypall</td>\n",
       "      <td>9.51</td>\n",
       "      <td>Electronics</td>\n",
       "      <td>Online</td>\n",
       "      <td>Not Returned</td>\n",
       "      <td>UPS</td>\n",
       "      <td>Rome</td>\n",
       "      <td>Medium</td>\n",
       "    </tr>\n",
       "  </tbody>\n",
       "</table>\n",
       "</div>"
      ],
      "text/plain": [
       "  InvoiceNo StockCode Description  Quantity         InvoiceDate  UnitPrice  \\\n",
       "0    221958  SKU_1964   White Mug        38 2020-01-01 00:00:00       1.71   \n",
       "1    771155  SKU_1241   White Mug        18 2020-01-01 01:00:00      41.25   \n",
       "\n",
       "  CustomerID    Country  Discount  PaymentMethod  ShippingCost     Category  \\\n",
       "0    37039.0  Australia      0.47  Bank Transfer         10.79      Apparel   \n",
       "1    19144.0      Spain      0.19        paypall          9.51  Electronics   \n",
       "\n",
       "  SalesChannel  ReturnStatus ShipmentProvider WarehouseLocation OrderPriority  \n",
       "0     In-store  Not Returned              UPS            London        Medium  \n",
       "1       Online  Not Returned              UPS              Rome        Medium  "
      ]
     },
     "execution_count": 11,
     "metadata": {},
     "output_type": "execute_result"
    }
   ],
   "source": [
    "df_cleaned.head(2)"
   ]
  },
  {
   "cell_type": "code",
   "execution_count": 12,
   "metadata": {},
   "outputs": [
    {
     "name": "stdout",
     "output_type": "stream",
     "text": [
      "Number of 'nan' string entries in 'CustomerID': 4978\n"
     ]
    }
   ],
   "source": [
    "# There are entries with string nan in CustomerID, \n",
    "# Find them and get a count\n",
    "\n",
    "\n",
    "nan_entries = df_cleaned[df_cleaned['CustomerID'].str.contains('^nan')]\n",
    "\n",
    "nan_count = nan_entries.shape[0]\n",
    "\n",
    "print(f\"Number of 'nan' string entries in 'CustomerID': {nan_count}\")"
   ]
  },
  {
   "cell_type": "code",
   "execution_count": 13,
   "metadata": {},
   "outputs": [
    {
     "name": "stdout",
     "output_type": "stream",
     "text": [
      "Cleaned DataFrame:\n",
      "       InvoiceNo StockCode   Description  Quantity         InvoiceDate  \\\n",
      "0        221958  SKU_1964     White Mug        38 2020-01-01 00:00:00   \n",
      "1        771155  SKU_1241     White Mug        18 2020-01-01 01:00:00   \n",
      "2        231932  SKU_1501    Headphones        49 2020-01-01 02:00:00   \n",
      "3        465838  SKU_1760     Desk Lamp        14 2020-01-01 03:00:00   \n",
      "5        744167  SKU_1006  Office Chair        47 2020-01-01 05:00:00   \n",
      "...         ...       ...           ...       ...                 ...   \n",
      "49777    354083  SKU_1562      Blue Pen        25 2025-09-05 01:00:00   \n",
      "49778    296698  SKU_1930     USB Cable         7 2025-09-05 02:00:00   \n",
      "49779    177622  SKU_1766  Office Chair        43 2025-09-05 03:00:00   \n",
      "49780    701213  SKU_1602      Notebook        48 2025-09-05 04:00:00   \n",
      "49781    772215  SKU_1832     White Mug        30 2025-09-05 05:00:00   \n",
      "\n",
      "       UnitPrice CustomerID         Country  Discount  PaymentMethod  \\\n",
      "0           1.71    37039.0       Australia      0.47  Bank Transfer   \n",
      "1          41.25    19144.0           Spain      0.19        paypall   \n",
      "2          29.11    50472.0         Germany      0.35  Bank Transfer   \n",
      "3          76.68    96586.0     Netherlands      0.14        paypall   \n",
      "5          70.16    53887.0          Sweden      0.48    Credit Card   \n",
      "...          ...        ...             ...       ...            ...   \n",
      "49777      70.92    51445.0           Spain      0.20    Credit Card   \n",
      "49778      51.74    28879.0   United States      0.23  Bank Transfer   \n",
      "49779      85.25    21825.0        Portugal      0.20  Bank Transfer   \n",
      "49780      39.64    43199.0  United Kingdom      0.31        paypall   \n",
      "49781      38.27    53328.0          France      0.10    Credit Card   \n",
      "\n",
      "       ShippingCost     Category SalesChannel  ReturnStatus ShipmentProvider  \\\n",
      "0             10.79      Apparel     In-store  Not Returned              UPS   \n",
      "1              9.51  Electronics       Online  Not Returned              UPS   \n",
      "2             23.03  Electronics       Online      Returned              UPS   \n",
      "3             11.08  Accessories       Online  Not Returned       Royal Mail   \n",
      "5             13.98  Electronics       Online  Not Returned              DHL   \n",
      "...             ...          ...          ...           ...              ...   \n",
      "49777          8.96  Electronics       Online      Returned              UPS   \n",
      "49778         23.55  Electronics       Online  Not Returned            FedEx   \n",
      "49779         16.26    Furniture     In-store  Not Returned            FedEx   \n",
      "49780         28.56      Apparel       Online  Not Returned       Royal Mail   \n",
      "49781          9.13   Stationery       Online  Not Returned              UPS   \n",
      "\n",
      "      WarehouseLocation OrderPriority  \n",
      "0                London        Medium  \n",
      "1                  Rome        Medium  \n",
      "2                Berlin          High  \n",
      "3                  Rome           Low  \n",
      "5                London        Medium  \n",
      "...                 ...           ...  \n",
      "49777            Berlin        Medium  \n",
      "49778         Amsterdam           Low  \n",
      "49779            London          High  \n",
      "49780            London        Medium  \n",
      "49781              Rome           Low  \n",
      "\n",
      "[44804 rows x 17 columns]\n"
     ]
    }
   ],
   "source": [
    "# nan values as the CustomerID is of no value in this exercise so \n",
    "# remove them consider putting them in their own df to see if there \n",
    "# is some take away that can be gleaned\n",
    "\n",
    "# Convert 'nan' strings to actual NaN values\n",
    "df_cleaned['CustomerID'] = df_cleaned['CustomerID'].replace('nan', pd.NA)\n",
    "\n",
    "# Drop rows where 'CustomerID' is NaN\n",
    "df_cleaned = df_cleaned.dropna(subset=['CustomerID'])\n",
    "\n",
    "print(\"Cleaned DataFrame:\\n\", df_cleaned)\n"
   ]
  },
  {
   "cell_type": "code",
   "execution_count": 14,
   "metadata": {},
   "outputs": [],
   "source": [
    "# Check the number of NaN entries in the 'CustomerID' column is zero\n",
    "\n",
    "# df_cleaned[df_cleaned['CustomerID'].isna()]"
   ]
  },
  {
   "cell_type": "code",
   "execution_count": 15,
   "metadata": {},
   "outputs": [],
   "source": [
    "# Reset the index for the df\n",
    "\n",
    "df_cleaned.reset_index(drop=True, inplace=True)"
   ]
  },
  {
   "cell_type": "code",
   "execution_count": 16,
   "metadata": {},
   "outputs": [],
   "source": [
    "# Trim the SKU- off the StockCode\n",
    "\n",
    "df_cleaned['StockCode'] = df_cleaned['StockCode'].str.replace(r'^SKU_', '', regex=True) "
   ]
  },
  {
   "cell_type": "code",
   "execution_count": 17,
   "metadata": {},
   "outputs": [
    {
     "data": {
      "text/plain": [
       "InvoiceNo                    object\n",
       "StockCode                    object\n",
       "Description                  object\n",
       "Quantity                      int64\n",
       "InvoiceDate          datetime64[ns]\n",
       "UnitPrice                   float64\n",
       "CustomerID                   object\n",
       "Country                      object\n",
       "Discount                    float64\n",
       "PaymentMethod                object\n",
       "ShippingCost                float64\n",
       "Category                     object\n",
       "SalesChannel                 object\n",
       "ReturnStatus                 object\n",
       "ShipmentProvider             object\n",
       "WarehouseLocation            object\n",
       "OrderPriority                object\n",
       "dtype: object"
      ]
     },
     "execution_count": 17,
     "metadata": {},
     "output_type": "execute_result"
    }
   ],
   "source": [
    "df_cleaned.dtypes"
   ]
  },
  {
   "cell_type": "code",
   "execution_count": 18,
   "metadata": {},
   "outputs": [],
   "source": [
    "# Convert CustomerID to string \n",
    "\n",
    "df_cleaned['CustomerID'] = df_cleaned['CustomerID'].astype(str) \n",
    "\n",
    "# Remove the last two characters from CustomerID \n",
    "df_cleaned['CustomerID'] = df_cleaned['CustomerID'].str.slice(0, -2)"
   ]
  },
  {
   "cell_type": "code",
   "execution_count": 19,
   "metadata": {},
   "outputs": [
    {
     "data": {
      "text/html": [
       "<div>\n",
       "<style scoped>\n",
       "    .dataframe tbody tr th:only-of-type {\n",
       "        vertical-align: middle;\n",
       "    }\n",
       "\n",
       "    .dataframe tbody tr th {\n",
       "        vertical-align: top;\n",
       "    }\n",
       "\n",
       "    .dataframe thead th {\n",
       "        text-align: right;\n",
       "    }\n",
       "</style>\n",
       "<table border=\"1\" class=\"dataframe\">\n",
       "  <thead>\n",
       "    <tr style=\"text-align: right;\">\n",
       "      <th></th>\n",
       "      <th>InvoiceNo</th>\n",
       "      <th>StockCode</th>\n",
       "      <th>Description</th>\n",
       "      <th>Quantity</th>\n",
       "      <th>InvoiceDate</th>\n",
       "      <th>UnitPrice</th>\n",
       "      <th>CustomerID</th>\n",
       "      <th>Country</th>\n",
       "      <th>Discount</th>\n",
       "      <th>PaymentMethod</th>\n",
       "      <th>ShippingCost</th>\n",
       "      <th>Category</th>\n",
       "      <th>SalesChannel</th>\n",
       "      <th>ReturnStatus</th>\n",
       "      <th>ShipmentProvider</th>\n",
       "      <th>WarehouseLocation</th>\n",
       "      <th>OrderPriority</th>\n",
       "    </tr>\n",
       "  </thead>\n",
       "  <tbody>\n",
       "    <tr>\n",
       "      <th>0</th>\n",
       "      <td>221958</td>\n",
       "      <td>1964</td>\n",
       "      <td>White Mug</td>\n",
       "      <td>38</td>\n",
       "      <td>2020-01-01 00:00:00</td>\n",
       "      <td>1.71</td>\n",
       "      <td>37039</td>\n",
       "      <td>Australia</td>\n",
       "      <td>0.47</td>\n",
       "      <td>Bank Transfer</td>\n",
       "      <td>10.79</td>\n",
       "      <td>Apparel</td>\n",
       "      <td>In-store</td>\n",
       "      <td>Not Returned</td>\n",
       "      <td>UPS</td>\n",
       "      <td>London</td>\n",
       "      <td>Medium</td>\n",
       "    </tr>\n",
       "    <tr>\n",
       "      <th>1</th>\n",
       "      <td>771155</td>\n",
       "      <td>1241</td>\n",
       "      <td>White Mug</td>\n",
       "      <td>18</td>\n",
       "      <td>2020-01-01 01:00:00</td>\n",
       "      <td>41.25</td>\n",
       "      <td>19144</td>\n",
       "      <td>Spain</td>\n",
       "      <td>0.19</td>\n",
       "      <td>paypall</td>\n",
       "      <td>9.51</td>\n",
       "      <td>Electronics</td>\n",
       "      <td>Online</td>\n",
       "      <td>Not Returned</td>\n",
       "      <td>UPS</td>\n",
       "      <td>Rome</td>\n",
       "      <td>Medium</td>\n",
       "    </tr>\n",
       "  </tbody>\n",
       "</table>\n",
       "</div>"
      ],
      "text/plain": [
       "  InvoiceNo StockCode Description  Quantity         InvoiceDate  UnitPrice  \\\n",
       "0    221958      1964   White Mug        38 2020-01-01 00:00:00       1.71   \n",
       "1    771155      1241   White Mug        18 2020-01-01 01:00:00      41.25   \n",
       "\n",
       "  CustomerID    Country  Discount  PaymentMethod  ShippingCost     Category  \\\n",
       "0      37039  Australia      0.47  Bank Transfer         10.79      Apparel   \n",
       "1      19144      Spain      0.19        paypall          9.51  Electronics   \n",
       "\n",
       "  SalesChannel  ReturnStatus ShipmentProvider WarehouseLocation OrderPriority  \n",
       "0     In-store  Not Returned              UPS            London        Medium  \n",
       "1       Online  Not Returned              UPS              Rome        Medium  "
      ]
     },
     "execution_count": 19,
     "metadata": {},
     "output_type": "execute_result"
    }
   ],
   "source": [
    "df_cleaned.head(2)"
   ]
  },
  {
   "cell_type": "code",
   "execution_count": 20,
   "metadata": {},
   "outputs": [
    {
     "data": {
      "text/plain": [
       "array(['Bank Transfer', 'paypall', 'Credit Card'], dtype=object)"
      ]
     },
     "execution_count": 20,
     "metadata": {},
     "output_type": "execute_result"
    }
   ],
   "source": [
    "df_cleaned['PaymentMethod'].unique()"
   ]
  },
  {
   "cell_type": "code",
   "execution_count": 21,
   "metadata": {},
   "outputs": [],
   "source": [
    "# Replace paypall with correct spelling 'paypal'\n",
    "\n",
    "df_cleaned['PaymentMethod'] = df_cleaned['PaymentMethod'].str.replace('paypall', 'paypal')"
   ]
  },
  {
   "cell_type": "code",
   "execution_count": 22,
   "metadata": {},
   "outputs": [
    {
     "data": {
      "text/plain": [
       "array(['London', 'Rome', 'Berlin', 'Amsterdam', 'Paris'], dtype=object)"
      ]
     },
     "execution_count": 22,
     "metadata": {},
     "output_type": "execute_result"
    }
   ],
   "source": [
    "df_cleaned['WarehouseLocation'].unique()"
   ]
  },
  {
   "cell_type": "code",
   "execution_count": 23,
   "metadata": {},
   "outputs": [
    {
     "data": {
      "text/plain": [
       "array(['Not Returned', 'Returned'], dtype=object)"
      ]
     },
     "execution_count": 23,
     "metadata": {},
     "output_type": "execute_result"
    }
   ],
   "source": [
    "df_cleaned['ReturnStatus'].unique()"
   ]
  },
  {
   "cell_type": "code",
   "execution_count": 24,
   "metadata": {},
   "outputs": [
    {
     "data": {
      "text/html": [
       "<div>\n",
       "<style scoped>\n",
       "    .dataframe tbody tr th:only-of-type {\n",
       "        vertical-align: middle;\n",
       "    }\n",
       "\n",
       "    .dataframe tbody tr th {\n",
       "        vertical-align: top;\n",
       "    }\n",
       "\n",
       "    .dataframe thead th {\n",
       "        text-align: right;\n",
       "    }\n",
       "</style>\n",
       "<table border=\"1\" class=\"dataframe\">\n",
       "  <thead>\n",
       "    <tr style=\"text-align: right;\">\n",
       "      <th></th>\n",
       "      <th>InvoiceNo</th>\n",
       "      <th>StockCode</th>\n",
       "      <th>Description</th>\n",
       "      <th>Quantity</th>\n",
       "      <th>InvoiceDate</th>\n",
       "      <th>UnitPrice</th>\n",
       "      <th>CustomerID</th>\n",
       "      <th>Country</th>\n",
       "      <th>Discount</th>\n",
       "      <th>PaymentMethod</th>\n",
       "      <th>ShippingCost</th>\n",
       "      <th>Category</th>\n",
       "      <th>SalesChannel</th>\n",
       "      <th>ReturnStatus</th>\n",
       "      <th>ShipmentProvider</th>\n",
       "      <th>WarehouseLocation</th>\n",
       "      <th>OrderPriority</th>\n",
       "    </tr>\n",
       "  </thead>\n",
       "  <tbody>\n",
       "  </tbody>\n",
       "</table>\n",
       "</div>"
      ],
      "text/plain": [
       "Empty DataFrame\n",
       "Columns: [InvoiceNo, StockCode, Description, Quantity, InvoiceDate, UnitPrice, CustomerID, Country, Discount, PaymentMethod, ShippingCost, Category, SalesChannel, ReturnStatus, ShipmentProvider, WarehouseLocation, OrderPriority]\n",
       "Index: []"
      ]
     },
     "execution_count": 24,
     "metadata": {},
     "output_type": "execute_result"
    }
   ],
   "source": [
    "# Check for negative quantities - returns\n",
    "\n",
    "df_cleaned[df_cleaned['Quantity'] < 0].head(10)"
   ]
  },
  {
   "cell_type": "code",
   "execution_count": 25,
   "metadata": {},
   "outputs": [
    {
     "data": {
      "text/plain": [
       "np.float64(1.0)"
      ]
     },
     "execution_count": 25,
     "metadata": {},
     "output_type": "execute_result"
    }
   ],
   "source": [
    "# Check that price is not negative or  = to 0.00\n",
    "\n",
    "df_cleaned[df_cleaned['UnitPrice'] == 0].head(10)\n",
    "\n",
    "df_cleaned['UnitPrice'].min()"
   ]
  },
  {
   "cell_type": "code",
   "execution_count": 26,
   "metadata": {},
   "outputs": [],
   "source": [
    "# Combine all of the costs into one net cost\n",
    "\n",
    "df_cleaned['NetCost'] = df_cleaned['UnitPrice'] + df_cleaned['Discount'] + df_cleaned['ShippingCost']"
   ]
  },
  {
   "cell_type": "code",
   "execution_count": 27,
   "metadata": {},
   "outputs": [],
   "source": [
    "# Multiply the Quantity by the Net Cost to gert the total cost of \n",
    "# the transaction \n",
    "\n",
    "df_cleaned['TotalCost'] = df_cleaned['Quantity'] * df_cleaned['NetCost']"
   ]
  },
  {
   "cell_type": "code",
   "execution_count": 28,
   "metadata": {},
   "outputs": [
    {
     "data": {
      "text/plain": [
       "0.9000040175163714"
      ]
     },
     "execution_count": 28,
     "metadata": {},
     "output_type": "execute_result"
    }
   ],
   "source": [
    "# Percentage of original date remaining after cleaning\n",
    "\n",
    "len(df_cleaned) / len(df)"
   ]
  },
  {
   "cell_type": "code",
   "execution_count": 29,
   "metadata": {},
   "outputs": [],
   "source": [
    "# Remove Returns and work only with Not Returned txns\n",
    "\n",
    "df_nr = df_cleaned[df_cleaned['ReturnStatus'] == 'Not Returned']\n",
    "\n",
    "df_nr.reset_index(drop=True, inplace=True)"
   ]
  },
  {
   "cell_type": "code",
   "execution_count": 30,
   "metadata": {},
   "outputs": [
    {
     "data": {
      "text/plain": [
       "0.8118797959101683"
      ]
     },
     "execution_count": 30,
     "metadata": {},
     "output_type": "execute_result"
    }
   ],
   "source": [
    "# Removing the returns and working only with non-return txns \n",
    "# leaves 81.2% of the data for the analysis\n",
    "\n",
    "len(df_nr) / len(df)"
   ]
  },
  {
   "cell_type": "code",
   "execution_count": 31,
   "metadata": {},
   "outputs": [
    {
     "data": {
      "text/plain": [
       "Index(['InvoiceNo', 'StockCode', 'Description', 'Quantity', 'InvoiceDate',\n",
       "       'UnitPrice', 'CustomerID', 'Country', 'Discount', 'PaymentMethod',\n",
       "       'ShippingCost', 'Category', 'SalesChannel', 'ReturnStatus',\n",
       "       'ShipmentProvider', 'WarehouseLocation', 'OrderPriority', 'NetCost',\n",
       "       'TotalCost'],\n",
       "      dtype='object')"
      ]
     },
     "execution_count": 31,
     "metadata": {},
     "output_type": "execute_result"
    }
   ],
   "source": [
    "df_nr.columns"
   ]
  },
  {
   "cell_type": "code",
   "execution_count": 32,
   "metadata": {},
   "outputs": [],
   "source": [
    "# Create a new df for the RFM and exclude unnecessary columns\n",
    "\n",
    "selected_columns = ['CustomerID', 'InvoiceNo', 'InvoiceDate',\n",
    "                    'TotalCost']\n",
    "\n",
    "df_working = df_nr[selected_columns]"
   ]
  },
  {
   "cell_type": "code",
   "execution_count": 33,
   "metadata": {},
   "outputs": [
    {
     "data": {
      "text/html": [
       "<div>\n",
       "<style scoped>\n",
       "    .dataframe tbody tr th:only-of-type {\n",
       "        vertical-align: middle;\n",
       "    }\n",
       "\n",
       "    .dataframe tbody tr th {\n",
       "        vertical-align: top;\n",
       "    }\n",
       "\n",
       "    .dataframe thead th {\n",
       "        text-align: right;\n",
       "    }\n",
       "</style>\n",
       "<table border=\"1\" class=\"dataframe\">\n",
       "  <thead>\n",
       "    <tr style=\"text-align: right;\">\n",
       "      <th></th>\n",
       "      <th>CustomerID</th>\n",
       "      <th>InvoiceNo</th>\n",
       "      <th>InvoiceDate</th>\n",
       "      <th>TotalCost</th>\n",
       "    </tr>\n",
       "  </thead>\n",
       "  <tbody>\n",
       "    <tr>\n",
       "      <th>0</th>\n",
       "      <td>37039</td>\n",
       "      <td>221958</td>\n",
       "      <td>2020-01-01 00:00:00</td>\n",
       "      <td>492.86</td>\n",
       "    </tr>\n",
       "    <tr>\n",
       "      <th>1</th>\n",
       "      <td>19144</td>\n",
       "      <td>771155</td>\n",
       "      <td>2020-01-01 01:00:00</td>\n",
       "      <td>917.10</td>\n",
       "    </tr>\n",
       "  </tbody>\n",
       "</table>\n",
       "</div>"
      ],
      "text/plain": [
       "  CustomerID InvoiceNo         InvoiceDate  TotalCost\n",
       "0      37039    221958 2020-01-01 00:00:00     492.86\n",
       "1      19144    771155 2020-01-01 01:00:00     917.10"
      ]
     },
     "execution_count": 33,
     "metadata": {},
     "output_type": "execute_result"
    }
   ],
   "source": [
    "df_working.head(2)"
   ]
  },
  {
   "cell_type": "code",
   "execution_count": 39,
   "metadata": {},
   "outputs": [],
   "source": [
    "# Rename the columns to less wordy options\n",
    "\n",
    "df_working.rename(columns= {\n",
    "    'CustomerID': 'customer',\n",
    "    'InvoiceNo': 'invoice',\n",
    "    'InvoiceDate': 'date',\n",
    "    'TotalCost': 'total'\n",
    "},inplace=True)"
   ]
  },
  {
   "cell_type": "code",
   "execution_count": 40,
   "metadata": {},
   "outputs": [
    {
     "data": {
      "text/html": [
       "<div>\n",
       "<style scoped>\n",
       "    .dataframe tbody tr th:only-of-type {\n",
       "        vertical-align: middle;\n",
       "    }\n",
       "\n",
       "    .dataframe tbody tr th {\n",
       "        vertical-align: top;\n",
       "    }\n",
       "\n",
       "    .dataframe thead th {\n",
       "        text-align: right;\n",
       "    }\n",
       "</style>\n",
       "<table border=\"1\" class=\"dataframe\">\n",
       "  <thead>\n",
       "    <tr style=\"text-align: right;\">\n",
       "      <th></th>\n",
       "      <th>customer</th>\n",
       "      <th>invoice</th>\n",
       "      <th>date</th>\n",
       "      <th>total</th>\n",
       "    </tr>\n",
       "  </thead>\n",
       "  <tbody>\n",
       "    <tr>\n",
       "      <th>0</th>\n",
       "      <td>37039</td>\n",
       "      <td>221958</td>\n",
       "      <td>2020-01-01 00:00:00</td>\n",
       "      <td>492.86</td>\n",
       "    </tr>\n",
       "    <tr>\n",
       "      <th>1</th>\n",
       "      <td>19144</td>\n",
       "      <td>771155</td>\n",
       "      <td>2020-01-01 01:00:00</td>\n",
       "      <td>917.10</td>\n",
       "    </tr>\n",
       "    <tr>\n",
       "      <th>2</th>\n",
       "      <td>96586</td>\n",
       "      <td>465838</td>\n",
       "      <td>2020-01-01 03:00:00</td>\n",
       "      <td>1230.60</td>\n",
       "    </tr>\n",
       "  </tbody>\n",
       "</table>\n",
       "</div>"
      ],
      "text/plain": [
       "  customer invoice                date    total\n",
       "0    37039  221958 2020-01-01 00:00:00   492.86\n",
       "1    19144  771155 2020-01-01 01:00:00   917.10\n",
       "2    96586  465838 2020-01-01 03:00:00  1230.60"
      ]
     },
     "execution_count": 40,
     "metadata": {},
     "output_type": "execute_result"
    }
   ],
   "source": [
    "df_working.head(3)"
   ]
  },
  {
   "cell_type": "code",
   "execution_count": 41,
   "metadata": {},
   "outputs": [],
   "source": [
    "# Create new df to create the RFM features\n",
    "\n",
    "df_agg = df_working.groupby(by='customer', as_index=False) \\\n",
    "    .agg(\n",
    "    value = ('total', 'sum'),\n",
    "    freq = ('total', 'nunique'),\n",
    "    last = ('date', 'max')\n",
    ")\n"
   ]
  },
  {
   "cell_type": "code",
   "execution_count": 42,
   "metadata": {},
   "outputs": [
    {
     "data": {
      "text/html": [
       "<div>\n",
       "<style scoped>\n",
       "    .dataframe tbody tr th:only-of-type {\n",
       "        vertical-align: middle;\n",
       "    }\n",
       "\n",
       "    .dataframe tbody tr th {\n",
       "        vertical-align: top;\n",
       "    }\n",
       "\n",
       "    .dataframe thead th {\n",
       "        text-align: right;\n",
       "    }\n",
       "</style>\n",
       "<table border=\"1\" class=\"dataframe\">\n",
       "  <thead>\n",
       "    <tr style=\"text-align: right;\">\n",
       "      <th></th>\n",
       "      <th>customer</th>\n",
       "      <th>value</th>\n",
       "      <th>freq</th>\n",
       "      <th>last</th>\n",
       "    </tr>\n",
       "  </thead>\n",
       "  <tbody>\n",
       "    <tr>\n",
       "      <th>0</th>\n",
       "      <td>10001</td>\n",
       "      <td>2607.09</td>\n",
       "      <td>1</td>\n",
       "      <td>2023-08-26 03:00:00</td>\n",
       "    </tr>\n",
       "    <tr>\n",
       "      <th>1</th>\n",
       "      <td>10003</td>\n",
       "      <td>432.65</td>\n",
       "      <td>1</td>\n",
       "      <td>2020-08-20 18:00:00</td>\n",
       "    </tr>\n",
       "    <tr>\n",
       "      <th>2</th>\n",
       "      <td>10005</td>\n",
       "      <td>4220.12</td>\n",
       "      <td>2</td>\n",
       "      <td>2024-12-29 01:00:00</td>\n",
       "    </tr>\n",
       "    <tr>\n",
       "      <th>3</th>\n",
       "      <td>10008</td>\n",
       "      <td>177.70</td>\n",
       "      <td>1</td>\n",
       "      <td>2025-04-13 09:00:00</td>\n",
       "    </tr>\n",
       "    <tr>\n",
       "      <th>4</th>\n",
       "      <td>10009</td>\n",
       "      <td>1598.40</td>\n",
       "      <td>1</td>\n",
       "      <td>2020-09-06 03:00:00</td>\n",
       "    </tr>\n",
       "    <tr>\n",
       "      <th>...</th>\n",
       "      <td>...</td>\n",
       "      <td>...</td>\n",
       "      <td>...</td>\n",
       "      <td>...</td>\n",
       "    </tr>\n",
       "    <tr>\n",
       "      <th>32601</th>\n",
       "      <td>99986</td>\n",
       "      <td>3425.36</td>\n",
       "      <td>2</td>\n",
       "      <td>2023-09-11 06:00:00</td>\n",
       "    </tr>\n",
       "    <tr>\n",
       "      <th>32602</th>\n",
       "      <td>99989</td>\n",
       "      <td>567.82</td>\n",
       "      <td>1</td>\n",
       "      <td>2025-08-07 01:00:00</td>\n",
       "    </tr>\n",
       "    <tr>\n",
       "      <th>32603</th>\n",
       "      <td>99993</td>\n",
       "      <td>913.38</td>\n",
       "      <td>1</td>\n",
       "      <td>2024-01-19 04:00:00</td>\n",
       "    </tr>\n",
       "    <tr>\n",
       "      <th>32604</th>\n",
       "      <td>99997</td>\n",
       "      <td>3156.00</td>\n",
       "      <td>1</td>\n",
       "      <td>2021-11-01 04:00:00</td>\n",
       "    </tr>\n",
       "    <tr>\n",
       "      <th>32605</th>\n",
       "      <td>99998</td>\n",
       "      <td>2543.76</td>\n",
       "      <td>1</td>\n",
       "      <td>2022-09-14 02:00:00</td>\n",
       "    </tr>\n",
       "  </tbody>\n",
       "</table>\n",
       "<p>32606 rows × 4 columns</p>\n",
       "</div>"
      ],
      "text/plain": [
       "      customer    value  freq                last\n",
       "0        10001  2607.09     1 2023-08-26 03:00:00\n",
       "1        10003   432.65     1 2020-08-20 18:00:00\n",
       "2        10005  4220.12     2 2024-12-29 01:00:00\n",
       "3        10008   177.70     1 2025-04-13 09:00:00\n",
       "4        10009  1598.40     1 2020-09-06 03:00:00\n",
       "...        ...      ...   ...                 ...\n",
       "32601    99986  3425.36     2 2023-09-11 06:00:00\n",
       "32602    99989   567.82     1 2025-08-07 01:00:00\n",
       "32603    99993   913.38     1 2024-01-19 04:00:00\n",
       "32604    99997  3156.00     1 2021-11-01 04:00:00\n",
       "32605    99998  2543.76     1 2022-09-14 02:00:00\n",
       "\n",
       "[32606 rows x 4 columns]"
      ]
     },
     "execution_count": 42,
     "metadata": {},
     "output_type": "execute_result"
    }
   ],
   "source": [
    "df_agg"
   ]
  }
 ],
 "metadata": {
  "kernelspec": {
   "display_name": "data_1",
   "language": "python",
   "name": "python3"
  },
  "language_info": {
   "codemirror_mode": {
    "name": "ipython",
    "version": 3
   },
   "file_extension": ".py",
   "mimetype": "text/x-python",
   "name": "python",
   "nbconvert_exporter": "python",
   "pygments_lexer": "ipython3",
   "version": "3.10.12"
  }
 },
 "nbformat": 4,
 "nbformat_minor": 2
}
