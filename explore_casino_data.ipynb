{
 "cells": [
  {
   "cell_type": "markdown",
   "metadata": {},
   "source": [
    "This is a model for exploratory analysis based on a tutorial from Giraffa, Iona Barbos.\n",
    "The methodology is complete and logical in progression."
   ]
  },
  {
   "cell_type": "markdown",
   "metadata": {},
   "source": [
    "The data is based upon casino customer gaming monetary transactions. There are two levels of transactions, each\n",
    "with a deposit and a withdrawal. \n",
    "L1 transactions are customer deposits to/withdrawal from their gaming account.\n",
    "L2 transactions are deposits to/withdrawals from the patron gaming account for gaming activities"
   ]
  },
  {
   "cell_type": "markdown",
   "metadata": {},
   "source": [
    "Load libraries"
   ]
  },
  {
   "cell_type": "code",
   "execution_count": 2,
   "metadata": {},
   "outputs": [],
   "source": [
    "import pandas as pd\n",
    "import numpy as np\n",
    "pd.options.mode.chained_assignment = None\n",
    "from datetime import datetime as dt\n",
    "from sklearn.preprocessing import LabelEncoder\n",
    "\n",
    "import seaborn as sns\n",
    "import matplotlib.pyplot as plt\n",
    "import plotly.graph_objects as go\n",
    "import plotly.io as pio\n"
   ]
  },
  {
   "cell_type": "markdown",
   "metadata": {},
   "source": [
    "Tidy up data appearance"
   ]
  },
  {
   "cell_type": "code",
   "execution_count": 3,
   "metadata": {},
   "outputs": [],
   "source": [
    "pd.options.display.float_format = '{:20.2f}'.format\n",
    "pd.set_option('display.max_columns', 999)"
   ]
  },
  {
   "cell_type": "markdown",
   "metadata": {},
   "source": [
    "Import the csv file"
   ]
  },
  {
   "cell_type": "code",
   "execution_count": 4,
   "metadata": {},
   "outputs": [
    {
     "data": {
      "text/html": [
       "<div>\n",
       "<style scoped>\n",
       "    .dataframe tbody tr th:only-of-type {\n",
       "        vertical-align: middle;\n",
       "    }\n",
       "\n",
       "    .dataframe tbody tr th {\n",
       "        vertical-align: top;\n",
       "    }\n",
       "\n",
       "    .dataframe thead th {\n",
       "        text-align: right;\n",
       "    }\n",
       "</style>\n",
       "<table border=\"1\" class=\"dataframe\">\n",
       "  <thead>\n",
       "    <tr style=\"text-align: right;\">\n",
       "      <th></th>\n",
       "      <th>ReqTimeUTC</th>\n",
       "      <th>TransactionType</th>\n",
       "      <th>TransactionAmount</th>\n",
       "      <th>Status</th>\n",
       "      <th>AccountIdentifier</th>\n",
       "    </tr>\n",
       "  </thead>\n",
       "  <tbody>\n",
       "    <tr>\n",
       "      <th>0</th>\n",
       "      <td>2019-07-05T05:02:28+0000</td>\n",
       "      <td>LOYALTYCARDDEBIT</td>\n",
       "      <td>10.00</td>\n",
       "      <td>APPROVED</td>\n",
       "      <td>customer1734</td>\n",
       "    </tr>\n",
       "    <tr>\n",
       "      <th>1</th>\n",
       "      <td>2019-07-05T05:26:00+0000</td>\n",
       "      <td>LOYALTYCARDDEBIT</td>\n",
       "      <td>10.00</td>\n",
       "      <td>APPROVED</td>\n",
       "      <td>customer1734</td>\n",
       "    </tr>\n",
       "    <tr>\n",
       "      <th>2</th>\n",
       "      <td>2019-07-05T04:54:35+0000</td>\n",
       "      <td>LOYALTYCARDCREDITCL</td>\n",
       "      <td>10.00</td>\n",
       "      <td>APPROVED</td>\n",
       "      <td>customer1734</td>\n",
       "    </tr>\n",
       "    <tr>\n",
       "      <th>3</th>\n",
       "      <td>2019-07-05T05:02:27+0000</td>\n",
       "      <td>LOYALTYCARDCREDITCL</td>\n",
       "      <td>10.00</td>\n",
       "      <td>APPROVED</td>\n",
       "      <td>customer1734</td>\n",
       "    </tr>\n",
       "    <tr>\n",
       "      <th>4</th>\n",
       "      <td>2019-07-05T05:25:59+0000</td>\n",
       "      <td>LOYALTYCARDCREDITCL</td>\n",
       "      <td>10.00</td>\n",
       "      <td>APPROVED</td>\n",
       "      <td>customer1734</td>\n",
       "    </tr>\n",
       "  </tbody>\n",
       "</table>\n",
       "</div>"
      ],
      "text/plain": [
       "                 ReqTimeUTC      TransactionType    TransactionAmount  \\\n",
       "0  2019-07-05T05:02:28+0000     LOYALTYCARDDEBIT                10.00   \n",
       "1  2019-07-05T05:26:00+0000     LOYALTYCARDDEBIT                10.00   \n",
       "2  2019-07-05T04:54:35+0000  LOYALTYCARDCREDITCL                10.00   \n",
       "3  2019-07-05T05:02:27+0000  LOYALTYCARDCREDITCL                10.00   \n",
       "4  2019-07-05T05:25:59+0000  LOYALTYCARDCREDITCL                10.00   \n",
       "\n",
       "     Status AccountIdentifier  \n",
       "0  APPROVED      customer1734  \n",
       "1  APPROVED      customer1734  \n",
       "2  APPROVED      customer1734  \n",
       "3  APPROVED      customer1734  \n",
       "4  APPROVED      customer1734  "
      ]
     },
     "execution_count": 4,
     "metadata": {},
     "output_type": "execute_result"
    }
   ],
   "source": [
    "df = pd.read_csv('Online_casino_DIB.csv')\n",
    "df.head()"
   ]
  },
  {
   "cell_type": "markdown",
   "metadata": {},
   "source": [
    "Examine the shape, datatype and info for the df"
   ]
  },
  {
   "cell_type": "code",
   "execution_count": 5,
   "metadata": {},
   "outputs": [
    {
     "data": {
      "text/plain": [
       "(138928, 5)"
      ]
     },
     "execution_count": 5,
     "metadata": {},
     "output_type": "execute_result"
    }
   ],
   "source": [
    "df.shape"
   ]
  },
  {
   "cell_type": "code",
   "execution_count": 6,
   "metadata": {},
   "outputs": [
    {
     "data": {
      "text/plain": [
       "ReqTimeUTC            object\n",
       "TransactionType       object\n",
       "TransactionAmount    float64\n",
       "Status                object\n",
       "AccountIdentifier     object\n",
       "dtype: object"
      ]
     },
     "execution_count": 6,
     "metadata": {},
     "output_type": "execute_result"
    }
   ],
   "source": [
    "df.dtypes"
   ]
  },
  {
   "cell_type": "code",
   "execution_count": 7,
   "metadata": {},
   "outputs": [
    {
     "data": {
      "text/html": [
       "<div>\n",
       "<style scoped>\n",
       "    .dataframe tbody tr th:only-of-type {\n",
       "        vertical-align: middle;\n",
       "    }\n",
       "\n",
       "    .dataframe tbody tr th {\n",
       "        vertical-align: top;\n",
       "    }\n",
       "\n",
       "    .dataframe thead th {\n",
       "        text-align: right;\n",
       "    }\n",
       "</style>\n",
       "<table border=\"1\" class=\"dataframe\">\n",
       "  <thead>\n",
       "    <tr style=\"text-align: right;\">\n",
       "      <th></th>\n",
       "      <th>ReqTimeUTC</th>\n",
       "      <th>TransactionType</th>\n",
       "      <th>Status</th>\n",
       "      <th>AccountIdentifier</th>\n",
       "    </tr>\n",
       "  </thead>\n",
       "  <tbody>\n",
       "    <tr>\n",
       "      <th>count</th>\n",
       "      <td>138928</td>\n",
       "      <td>138928</td>\n",
       "      <td>138928</td>\n",
       "      <td>138928</td>\n",
       "    </tr>\n",
       "    <tr>\n",
       "      <th>unique</th>\n",
       "      <td>138042</td>\n",
       "      <td>3</td>\n",
       "      <td>2</td>\n",
       "      <td>2361</td>\n",
       "    </tr>\n",
       "    <tr>\n",
       "      <th>top</th>\n",
       "      <td>2020-02-05T08:52:23+0000</td>\n",
       "      <td>LOYALTYCARDDEBIT</td>\n",
       "      <td>APPROVED</td>\n",
       "      <td>customer10</td>\n",
       "    </tr>\n",
       "    <tr>\n",
       "      <th>freq</th>\n",
       "      <td>7</td>\n",
       "      <td>70329</td>\n",
       "      <td>133520</td>\n",
       "      <td>2318</td>\n",
       "    </tr>\n",
       "  </tbody>\n",
       "</table>\n",
       "</div>"
      ],
      "text/plain": [
       "                      ReqTimeUTC   TransactionType    Status AccountIdentifier\n",
       "count                     138928            138928    138928            138928\n",
       "unique                    138042                 3         2              2361\n",
       "top     2020-02-05T08:52:23+0000  LOYALTYCARDDEBIT  APPROVED        customer10\n",
       "freq                           7             70329    133520              2318"
      ]
     },
     "execution_count": 7,
     "metadata": {},
     "output_type": "execute_result"
    }
   ],
   "source": [
    "df.describe(exclude='float64')"
   ]
  },
  {
   "cell_type": "markdown",
   "metadata": {},
   "source": [
    "ReqTimeUTC is type obj so convert it to date time\n",
    "ReqTimeUTC has a number of digits in the entry for the time. If we are not going to use time you can clean up the entry by stripping of the time component of the entry - see the code line in the markdown\n",
    "ReqTimeUTC has date/time entries beyond 2020-02-29 so exclude those values\n",
    "Data is being excluded so create new df"
   ]
  },
  {
   "cell_type": "code",
   "execution_count": 8,
   "metadata": {},
   "outputs": [],
   "source": [
    "df_raw = df[df.ReqTimeUTC <= '2020-02-29 00:00:00+00:00']\\\n",
    "    .copy()"
   ]
  },
  {
   "cell_type": "code",
   "execution_count": 9,
   "metadata": {},
   "outputs": [],
   "source": [
    "df_raw['ReqTimeUTC'] = pd.to_datetime(df_raw['ReqTimeUTC'])"
   ]
  },
  {
   "cell_type": "markdown",
   "metadata": {},
   "source": [
    "If you don't want the time elements for future use you can remove them using the following code line\n",
    "\n",
    "df_raw['ReqTimeUTC'] = df_raw['ReqTimeUTC'].dt.strftime('%Y-%m-%d')"
   ]
  },
  {
   "cell_type": "code",
   "execution_count": 10,
   "metadata": {},
   "outputs": [
    {
     "data": {
      "text/html": [
       "<div>\n",
       "<style scoped>\n",
       "    .dataframe tbody tr th:only-of-type {\n",
       "        vertical-align: middle;\n",
       "    }\n",
       "\n",
       "    .dataframe tbody tr th {\n",
       "        vertical-align: top;\n",
       "    }\n",
       "\n",
       "    .dataframe thead th {\n",
       "        text-align: right;\n",
       "    }\n",
       "</style>\n",
       "<table border=\"1\" class=\"dataframe\">\n",
       "  <thead>\n",
       "    <tr style=\"text-align: right;\">\n",
       "      <th></th>\n",
       "      <th>ReqTimeUTC</th>\n",
       "      <th>TransactionType</th>\n",
       "      <th>TransactionAmount</th>\n",
       "      <th>Status</th>\n",
       "      <th>AccountIdentifier</th>\n",
       "    </tr>\n",
       "  </thead>\n",
       "  <tbody>\n",
       "    <tr>\n",
       "      <th>0</th>\n",
       "      <td>2019-07-05 05:02:28+00:00</td>\n",
       "      <td>LOYALTYCARDDEBIT</td>\n",
       "      <td>10.00</td>\n",
       "      <td>APPROVED</td>\n",
       "      <td>customer1734</td>\n",
       "    </tr>\n",
       "    <tr>\n",
       "      <th>1</th>\n",
       "      <td>2019-07-05 05:26:00+00:00</td>\n",
       "      <td>LOYALTYCARDDEBIT</td>\n",
       "      <td>10.00</td>\n",
       "      <td>APPROVED</td>\n",
       "      <td>customer1734</td>\n",
       "    </tr>\n",
       "    <tr>\n",
       "      <th>2</th>\n",
       "      <td>2019-07-05 04:54:35+00:00</td>\n",
       "      <td>LOYALTYCARDCREDITCL</td>\n",
       "      <td>10.00</td>\n",
       "      <td>APPROVED</td>\n",
       "      <td>customer1734</td>\n",
       "    </tr>\n",
       "    <tr>\n",
       "      <th>3</th>\n",
       "      <td>2019-07-05 05:02:27+00:00</td>\n",
       "      <td>LOYALTYCARDCREDITCL</td>\n",
       "      <td>10.00</td>\n",
       "      <td>APPROVED</td>\n",
       "      <td>customer1734</td>\n",
       "    </tr>\n",
       "    <tr>\n",
       "      <th>4</th>\n",
       "      <td>2019-07-05 05:25:59+00:00</td>\n",
       "      <td>LOYALTYCARDCREDITCL</td>\n",
       "      <td>10.00</td>\n",
       "      <td>APPROVED</td>\n",
       "      <td>customer1734</td>\n",
       "    </tr>\n",
       "  </tbody>\n",
       "</table>\n",
       "</div>"
      ],
      "text/plain": [
       "                 ReqTimeUTC      TransactionType    TransactionAmount  \\\n",
       "0 2019-07-05 05:02:28+00:00     LOYALTYCARDDEBIT                10.00   \n",
       "1 2019-07-05 05:26:00+00:00     LOYALTYCARDDEBIT                10.00   \n",
       "2 2019-07-05 04:54:35+00:00  LOYALTYCARDCREDITCL                10.00   \n",
       "3 2019-07-05 05:02:27+00:00  LOYALTYCARDCREDITCL                10.00   \n",
       "4 2019-07-05 05:25:59+00:00  LOYALTYCARDCREDITCL                10.00   \n",
       "\n",
       "     Status AccountIdentifier  \n",
       "0  APPROVED      customer1734  \n",
       "1  APPROVED      customer1734  \n",
       "2  APPROVED      customer1734  \n",
       "3  APPROVED      customer1734  \n",
       "4  APPROVED      customer1734  "
      ]
     },
     "execution_count": 10,
     "metadata": {},
     "output_type": "execute_result"
    }
   ],
   "source": [
    "df_raw.head()"
   ]
  },
  {
   "cell_type": "markdown",
   "metadata": {},
   "source": [
    "Check the Transaction type column\n",
    " Transactions labeled as “LOYALTYCARDDEBIT” are Level 2 deposits. \n",
    " Transactions labeled as “LOYALTYCARDCREDIT” are Level 2 withdrawals. \n",
    " Transactions labeled as “LOYALTYCARDCREDITCL” or “LOYALTYCARDCREDITACH” are Level 1 deposits \n",
    " made via a card or ACH respectively.\n",
    "\n",
    "Map\n",
    " LOYALTYCARDDEBIT = L2D\n",
    " LOYALTYCARDCREDIT = L2W\n",
    " LOYALTYCARDCREDITCL = L1D"
   ]
  },
  {
   "cell_type": "code",
   "execution_count": 11,
   "metadata": {},
   "outputs": [
    {
     "data": {
      "text/html": [
       "<div>\n",
       "<style scoped>\n",
       "    .dataframe tbody tr th:only-of-type {\n",
       "        vertical-align: middle;\n",
       "    }\n",
       "\n",
       "    .dataframe tbody tr th {\n",
       "        vertical-align: top;\n",
       "    }\n",
       "\n",
       "    .dataframe thead th {\n",
       "        text-align: right;\n",
       "    }\n",
       "</style>\n",
       "<table border=\"1\" class=\"dataframe\">\n",
       "  <thead>\n",
       "    <tr style=\"text-align: right;\">\n",
       "      <th></th>\n",
       "      <th>ReqTimeUTC</th>\n",
       "      <th>TransactionType</th>\n",
       "      <th>Status</th>\n",
       "      <th>AccountIdentifier</th>\n",
       "    </tr>\n",
       "  </thead>\n",
       "  <tbody>\n",
       "    <tr>\n",
       "      <th>count</th>\n",
       "      <td>137857</td>\n",
       "      <td>137857</td>\n",
       "      <td>137857</td>\n",
       "      <td>137857</td>\n",
       "    </tr>\n",
       "    <tr>\n",
       "      <th>unique</th>\n",
       "      <td>NaN</td>\n",
       "      <td>3</td>\n",
       "      <td>2</td>\n",
       "      <td>2351</td>\n",
       "    </tr>\n",
       "    <tr>\n",
       "      <th>top</th>\n",
       "      <td>NaN</td>\n",
       "      <td>LOYALTYCARDDEBIT</td>\n",
       "      <td>APPROVED</td>\n",
       "      <td>customer10</td>\n",
       "    </tr>\n",
       "    <tr>\n",
       "      <th>freq</th>\n",
       "      <td>NaN</td>\n",
       "      <td>69795</td>\n",
       "      <td>132473</td>\n",
       "      <td>2294</td>\n",
       "    </tr>\n",
       "    <tr>\n",
       "      <th>mean</th>\n",
       "      <td>2019-08-22 03:05:44.556649216+00:00</td>\n",
       "      <td>NaN</td>\n",
       "      <td>NaN</td>\n",
       "      <td>NaN</td>\n",
       "    </tr>\n",
       "    <tr>\n",
       "      <th>min</th>\n",
       "      <td>2019-03-01 08:03:23+00:00</td>\n",
       "      <td>NaN</td>\n",
       "      <td>NaN</td>\n",
       "      <td>NaN</td>\n",
       "    </tr>\n",
       "    <tr>\n",
       "      <th>25%</th>\n",
       "      <td>2019-05-18 13:13:36+00:00</td>\n",
       "      <td>NaN</td>\n",
       "      <td>NaN</td>\n",
       "      <td>NaN</td>\n",
       "    </tr>\n",
       "    <tr>\n",
       "      <th>50%</th>\n",
       "      <td>2019-08-20 03:04:39+00:00</td>\n",
       "      <td>NaN</td>\n",
       "      <td>NaN</td>\n",
       "      <td>NaN</td>\n",
       "    </tr>\n",
       "    <tr>\n",
       "      <th>75%</th>\n",
       "      <td>2019-11-21 13:40:41+00:00</td>\n",
       "      <td>NaN</td>\n",
       "      <td>NaN</td>\n",
       "      <td>NaN</td>\n",
       "    </tr>\n",
       "    <tr>\n",
       "      <th>max</th>\n",
       "      <td>2020-02-28 23:54:14+00:00</td>\n",
       "      <td>NaN</td>\n",
       "      <td>NaN</td>\n",
       "      <td>NaN</td>\n",
       "    </tr>\n",
       "  </tbody>\n",
       "</table>\n",
       "</div>"
      ],
      "text/plain": [
       "                                 ReqTimeUTC   TransactionType    Status  \\\n",
       "count                                137857            137857    137857   \n",
       "unique                                  NaN                 3         2   \n",
       "top                                     NaN  LOYALTYCARDDEBIT  APPROVED   \n",
       "freq                                    NaN             69795    132473   \n",
       "mean    2019-08-22 03:05:44.556649216+00:00               NaN       NaN   \n",
       "min               2019-03-01 08:03:23+00:00               NaN       NaN   \n",
       "25%               2019-05-18 13:13:36+00:00               NaN       NaN   \n",
       "50%               2019-08-20 03:04:39+00:00               NaN       NaN   \n",
       "75%               2019-11-21 13:40:41+00:00               NaN       NaN   \n",
       "max               2020-02-28 23:54:14+00:00               NaN       NaN   \n",
       "\n",
       "       AccountIdentifier  \n",
       "count             137857  \n",
       "unique              2351  \n",
       "top           customer10  \n",
       "freq                2294  \n",
       "mean                 NaN  \n",
       "min                  NaN  \n",
       "25%                  NaN  \n",
       "50%                  NaN  \n",
       "75%                  NaN  \n",
       "max                  NaN  "
      ]
     },
     "execution_count": 11,
     "metadata": {},
     "output_type": "execute_result"
    }
   ],
   "source": [
    "df_raw.describe(exclude='float64')"
   ]
  },
  {
   "cell_type": "code",
   "execution_count": 12,
   "metadata": {},
   "outputs": [
    {
     "data": {
      "text/plain": [
       "array(['LOYALTYCARDDEBIT', 'LOYALTYCARDCREDITCL', 'LOYALTYCARDCREDIT'],\n",
       "      dtype=object)"
      ]
     },
     "execution_count": 12,
     "metadata": {},
     "output_type": "execute_result"
    }
   ],
   "source": [
    "df_raw['TransactionType'].unique()"
   ]
  },
  {
   "cell_type": "markdown",
   "metadata": {},
   "source": [
    "Map the shortforms into the df column"
   ]
  },
  {
   "cell_type": "code",
   "execution_count": 13,
   "metadata": {},
   "outputs": [
    {
     "data": {
      "text/html": [
       "<div>\n",
       "<style scoped>\n",
       "    .dataframe tbody tr th:only-of-type {\n",
       "        vertical-align: middle;\n",
       "    }\n",
       "\n",
       "    .dataframe tbody tr th {\n",
       "        vertical-align: top;\n",
       "    }\n",
       "\n",
       "    .dataframe thead th {\n",
       "        text-align: right;\n",
       "    }\n",
       "</style>\n",
       "<table border=\"1\" class=\"dataframe\">\n",
       "  <thead>\n",
       "    <tr style=\"text-align: right;\">\n",
       "      <th></th>\n",
       "      <th>ReqTimeUTC</th>\n",
       "      <th>TransactionType</th>\n",
       "      <th>TransactionAmount</th>\n",
       "      <th>Status</th>\n",
       "      <th>AccountIdentifier</th>\n",
       "    </tr>\n",
       "  </thead>\n",
       "  <tbody>\n",
       "    <tr>\n",
       "      <th>0</th>\n",
       "      <td>2019-07-05 05:02:28+00:00</td>\n",
       "      <td>L2D</td>\n",
       "      <td>10.00</td>\n",
       "      <td>APPROVED</td>\n",
       "      <td>customer1734</td>\n",
       "    </tr>\n",
       "    <tr>\n",
       "      <th>1</th>\n",
       "      <td>2019-07-05 05:26:00+00:00</td>\n",
       "      <td>L2D</td>\n",
       "      <td>10.00</td>\n",
       "      <td>APPROVED</td>\n",
       "      <td>customer1734</td>\n",
       "    </tr>\n",
       "    <tr>\n",
       "      <th>2</th>\n",
       "      <td>2019-07-05 04:54:35+00:00</td>\n",
       "      <td>L1D</td>\n",
       "      <td>10.00</td>\n",
       "      <td>APPROVED</td>\n",
       "      <td>customer1734</td>\n",
       "    </tr>\n",
       "    <tr>\n",
       "      <th>3</th>\n",
       "      <td>2019-07-05 05:02:27+00:00</td>\n",
       "      <td>L1D</td>\n",
       "      <td>10.00</td>\n",
       "      <td>APPROVED</td>\n",
       "      <td>customer1734</td>\n",
       "    </tr>\n",
       "    <tr>\n",
       "      <th>4</th>\n",
       "      <td>2019-07-05 05:25:59+00:00</td>\n",
       "      <td>L1D</td>\n",
       "      <td>10.00</td>\n",
       "      <td>APPROVED</td>\n",
       "      <td>customer1734</td>\n",
       "    </tr>\n",
       "  </tbody>\n",
       "</table>\n",
       "</div>"
      ],
      "text/plain": [
       "                 ReqTimeUTC TransactionType    TransactionAmount    Status  \\\n",
       "0 2019-07-05 05:02:28+00:00             L2D                10.00  APPROVED   \n",
       "1 2019-07-05 05:26:00+00:00             L2D                10.00  APPROVED   \n",
       "2 2019-07-05 04:54:35+00:00             L1D                10.00  APPROVED   \n",
       "3 2019-07-05 05:02:27+00:00             L1D                10.00  APPROVED   \n",
       "4 2019-07-05 05:25:59+00:00             L1D                10.00  APPROVED   \n",
       "\n",
       "  AccountIdentifier  \n",
       "0      customer1734  \n",
       "1      customer1734  \n",
       "2      customer1734  \n",
       "3      customer1734  \n",
       "4      customer1734  "
      ]
     },
     "execution_count": 13,
     "metadata": {},
     "output_type": "execute_result"
    }
   ],
   "source": [
    "df_raw.TransactionType = df_raw.TransactionType\\\n",
    "    .map({'LOYALTYCARDDEBIT':'L2D','LOYALTYCARDCREDITCL':'L1D',\n",
    "          'LOYALTYCARDCREDIT':'L2W'})\n",
    "\n",
    "df_raw.head()"
   ]
  },
  {
   "cell_type": "markdown",
   "metadata": {},
   "source": [
    "Simplify the AccountIdentifier column by stripping off 'Customer' with regex"
   ]
  },
  {
   "cell_type": "code",
   "execution_count": 14,
   "metadata": {},
   "outputs": [
    {
     "data": {
      "text/html": [
       "<div>\n",
       "<style scoped>\n",
       "    .dataframe tbody tr th:only-of-type {\n",
       "        vertical-align: middle;\n",
       "    }\n",
       "\n",
       "    .dataframe tbody tr th {\n",
       "        vertical-align: top;\n",
       "    }\n",
       "\n",
       "    .dataframe thead th {\n",
       "        text-align: right;\n",
       "    }\n",
       "</style>\n",
       "<table border=\"1\" class=\"dataframe\">\n",
       "  <thead>\n",
       "    <tr style=\"text-align: right;\">\n",
       "      <th></th>\n",
       "      <th>ReqTimeUTC</th>\n",
       "      <th>TransactionType</th>\n",
       "      <th>TransactionAmount</th>\n",
       "      <th>Status</th>\n",
       "      <th>AccountIdentifier</th>\n",
       "    </tr>\n",
       "  </thead>\n",
       "  <tbody>\n",
       "    <tr>\n",
       "      <th>0</th>\n",
       "      <td>2019-07-05 05:02:28+00:00</td>\n",
       "      <td>L2D</td>\n",
       "      <td>10.00</td>\n",
       "      <td>APPROVED</td>\n",
       "      <td>1734</td>\n",
       "    </tr>\n",
       "    <tr>\n",
       "      <th>1</th>\n",
       "      <td>2019-07-05 05:26:00+00:00</td>\n",
       "      <td>L2D</td>\n",
       "      <td>10.00</td>\n",
       "      <td>APPROVED</td>\n",
       "      <td>1734</td>\n",
       "    </tr>\n",
       "    <tr>\n",
       "      <th>2</th>\n",
       "      <td>2019-07-05 04:54:35+00:00</td>\n",
       "      <td>L1D</td>\n",
       "      <td>10.00</td>\n",
       "      <td>APPROVED</td>\n",
       "      <td>1734</td>\n",
       "    </tr>\n",
       "    <tr>\n",
       "      <th>3</th>\n",
       "      <td>2019-07-05 05:02:27+00:00</td>\n",
       "      <td>L1D</td>\n",
       "      <td>10.00</td>\n",
       "      <td>APPROVED</td>\n",
       "      <td>1734</td>\n",
       "    </tr>\n",
       "    <tr>\n",
       "      <th>4</th>\n",
       "      <td>2019-07-05 05:25:59+00:00</td>\n",
       "      <td>L1D</td>\n",
       "      <td>10.00</td>\n",
       "      <td>APPROVED</td>\n",
       "      <td>1734</td>\n",
       "    </tr>\n",
       "  </tbody>\n",
       "</table>\n",
       "</div>"
      ],
      "text/plain": [
       "                 ReqTimeUTC TransactionType    TransactionAmount    Status  \\\n",
       "0 2019-07-05 05:02:28+00:00             L2D                10.00  APPROVED   \n",
       "1 2019-07-05 05:26:00+00:00             L2D                10.00  APPROVED   \n",
       "2 2019-07-05 04:54:35+00:00             L1D                10.00  APPROVED   \n",
       "3 2019-07-05 05:02:27+00:00             L1D                10.00  APPROVED   \n",
       "4 2019-07-05 05:25:59+00:00             L1D                10.00  APPROVED   \n",
       "\n",
       "  AccountIdentifier  \n",
       "0              1734  \n",
       "1              1734  \n",
       "2              1734  \n",
       "3              1734  \n",
       "4              1734  "
      ]
     },
     "execution_count": 14,
     "metadata": {},
     "output_type": "execute_result"
    }
   ],
   "source": [
    "df_raw['AccountIdentifier'] = df_raw['AccountIdentifier']\\\n",
    "    .str.replace(r'^customer','',\n",
    "                                                                      regex=True)\n",
    "df_raw.head()"
   ]
  },
  {
   "cell_type": "markdown",
   "metadata": {},
   "source": [
    "Rename some of the columns to more useable form"
   ]
  },
  {
   "cell_type": "code",
   "execution_count": 15,
   "metadata": {},
   "outputs": [
    {
     "data": {
      "text/html": [
       "<div>\n",
       "<style scoped>\n",
       "    .dataframe tbody tr th:only-of-type {\n",
       "        vertical-align: middle;\n",
       "    }\n",
       "\n",
       "    .dataframe tbody tr th {\n",
       "        vertical-align: top;\n",
       "    }\n",
       "\n",
       "    .dataframe thead th {\n",
       "        text-align: right;\n",
       "    }\n",
       "</style>\n",
       "<table border=\"1\" class=\"dataframe\">\n",
       "  <thead>\n",
       "    <tr style=\"text-align: right;\">\n",
       "      <th></th>\n",
       "      <th>date</th>\n",
       "      <th>type</th>\n",
       "      <th>amount</th>\n",
       "      <th>status</th>\n",
       "      <th>user</th>\n",
       "    </tr>\n",
       "  </thead>\n",
       "  <tbody>\n",
       "    <tr>\n",
       "      <th>0</th>\n",
       "      <td>2019-07-05 05:02:28+00:00</td>\n",
       "      <td>L2D</td>\n",
       "      <td>10.00</td>\n",
       "      <td>APPROVED</td>\n",
       "      <td>1734</td>\n",
       "    </tr>\n",
       "    <tr>\n",
       "      <th>1</th>\n",
       "      <td>2019-07-05 05:26:00+00:00</td>\n",
       "      <td>L2D</td>\n",
       "      <td>10.00</td>\n",
       "      <td>APPROVED</td>\n",
       "      <td>1734</td>\n",
       "    </tr>\n",
       "    <tr>\n",
       "      <th>2</th>\n",
       "      <td>2019-07-05 04:54:35+00:00</td>\n",
       "      <td>L1D</td>\n",
       "      <td>10.00</td>\n",
       "      <td>APPROVED</td>\n",
       "      <td>1734</td>\n",
       "    </tr>\n",
       "    <tr>\n",
       "      <th>3</th>\n",
       "      <td>2019-07-05 05:02:27+00:00</td>\n",
       "      <td>L1D</td>\n",
       "      <td>10.00</td>\n",
       "      <td>APPROVED</td>\n",
       "      <td>1734</td>\n",
       "    </tr>\n",
       "    <tr>\n",
       "      <th>4</th>\n",
       "      <td>2019-07-05 05:25:59+00:00</td>\n",
       "      <td>L1D</td>\n",
       "      <td>10.00</td>\n",
       "      <td>APPROVED</td>\n",
       "      <td>1734</td>\n",
       "    </tr>\n",
       "  </tbody>\n",
       "</table>\n",
       "</div>"
      ],
      "text/plain": [
       "                       date type               amount    status  user\n",
       "0 2019-07-05 05:02:28+00:00  L2D                10.00  APPROVED  1734\n",
       "1 2019-07-05 05:26:00+00:00  L2D                10.00  APPROVED  1734\n",
       "2 2019-07-05 04:54:35+00:00  L1D                10.00  APPROVED  1734\n",
       "3 2019-07-05 05:02:27+00:00  L1D                10.00  APPROVED  1734\n",
       "4 2019-07-05 05:25:59+00:00  L1D                10.00  APPROVED  1734"
      ]
     },
     "execution_count": 15,
     "metadata": {},
     "output_type": "execute_result"
    }
   ],
   "source": [
    "df_raw.rename(columns= {'AccountIdentifier':'user', 'ReqTimeUTC':'date',\n",
    "                        'TransactionAmount':'amount', \n",
    "                        'TransactionType':'type',\n",
    "                        'Status':'status'},inplace=True)\n",
    "\n",
    "df_raw.head()"
   ]
  },
  {
   "cell_type": "markdown",
   "metadata": {},
   "source": [
    "Group data by users by user and type \n",
    "Create df for user type and define - user_type_\n",
    "Plot"
   ]
  },
  {
   "cell_type": "code",
   "execution_count": 16,
   "metadata": {},
   "outputs": [
    {
     "data": {
      "text/html": [
       "<div>\n",
       "<style scoped>\n",
       "    .dataframe tbody tr th:only-of-type {\n",
       "        vertical-align: middle;\n",
       "    }\n",
       "\n",
       "    .dataframe tbody tr th {\n",
       "        vertical-align: top;\n",
       "    }\n",
       "\n",
       "    .dataframe thead th {\n",
       "        text-align: right;\n",
       "    }\n",
       "</style>\n",
       "<table border=\"1\" class=\"dataframe\">\n",
       "  <thead>\n",
       "    <tr style=\"text-align: right;\">\n",
       "      <th></th>\n",
       "      <th>user</th>\n",
       "      <th>type</th>\n",
       "      <th>date</th>\n",
       "      <th>amount</th>\n",
       "      <th>status</th>\n",
       "    </tr>\n",
       "  </thead>\n",
       "  <tbody>\n",
       "    <tr>\n",
       "      <th>0</th>\n",
       "      <td>1</td>\n",
       "      <td>L1D</td>\n",
       "      <td>438</td>\n",
       "      <td>438</td>\n",
       "      <td>438</td>\n",
       "    </tr>\n",
       "    <tr>\n",
       "      <th>1</th>\n",
       "      <td>1</td>\n",
       "      <td>L2D</td>\n",
       "      <td>444</td>\n",
       "      <td>444</td>\n",
       "      <td>444</td>\n",
       "    </tr>\n",
       "    <tr>\n",
       "      <th>2</th>\n",
       "      <td>1</td>\n",
       "      <td>L2W</td>\n",
       "      <td>2</td>\n",
       "      <td>2</td>\n",
       "      <td>2</td>\n",
       "    </tr>\n",
       "    <tr>\n",
       "      <th>3</th>\n",
       "      <td>10</td>\n",
       "      <td>L1D</td>\n",
       "      <td>1164</td>\n",
       "      <td>1164</td>\n",
       "      <td>1164</td>\n",
       "    </tr>\n",
       "    <tr>\n",
       "      <th>4</th>\n",
       "      <td>10</td>\n",
       "      <td>L2D</td>\n",
       "      <td>1130</td>\n",
       "      <td>1130</td>\n",
       "      <td>1130</td>\n",
       "    </tr>\n",
       "    <tr>\n",
       "      <th>...</th>\n",
       "      <td>...</td>\n",
       "      <td>...</td>\n",
       "      <td>...</td>\n",
       "      <td>...</td>\n",
       "      <td>...</td>\n",
       "    </tr>\n",
       "    <tr>\n",
       "      <th>4984</th>\n",
       "      <td>997</td>\n",
       "      <td>L2D</td>\n",
       "      <td>1</td>\n",
       "      <td>1</td>\n",
       "      <td>1</td>\n",
       "    </tr>\n",
       "    <tr>\n",
       "      <th>4985</th>\n",
       "      <td>998</td>\n",
       "      <td>L1D</td>\n",
       "      <td>2</td>\n",
       "      <td>2</td>\n",
       "      <td>2</td>\n",
       "    </tr>\n",
       "    <tr>\n",
       "      <th>4986</th>\n",
       "      <td>998</td>\n",
       "      <td>L2D</td>\n",
       "      <td>2</td>\n",
       "      <td>2</td>\n",
       "      <td>2</td>\n",
       "    </tr>\n",
       "    <tr>\n",
       "      <th>4987</th>\n",
       "      <td>999</td>\n",
       "      <td>L1D</td>\n",
       "      <td>2</td>\n",
       "      <td>2</td>\n",
       "      <td>2</td>\n",
       "    </tr>\n",
       "    <tr>\n",
       "      <th>4988</th>\n",
       "      <td>999</td>\n",
       "      <td>L2D</td>\n",
       "      <td>2</td>\n",
       "      <td>2</td>\n",
       "      <td>2</td>\n",
       "    </tr>\n",
       "  </tbody>\n",
       "</table>\n",
       "<p>4989 rows × 5 columns</p>\n",
       "</div>"
      ],
      "text/plain": [
       "     user type  date  amount  status\n",
       "0       1  L1D   438     438     438\n",
       "1       1  L2D   444     444     444\n",
       "2       1  L2W     2       2       2\n",
       "3      10  L1D  1164    1164    1164\n",
       "4      10  L2D  1130    1130    1130\n",
       "...   ...  ...   ...     ...     ...\n",
       "4984  997  L2D     1       1       1\n",
       "4985  998  L1D     2       2       2\n",
       "4986  998  L2D     2       2       2\n",
       "4987  999  L1D     2       2       2\n",
       "4988  999  L2D     2       2       2\n",
       "\n",
       "[4989 rows x 5 columns]"
      ]
     },
     "execution_count": 16,
     "metadata": {},
     "output_type": "execute_result"
    }
   ],
   "source": [
    "df_raw.groupby(['user', 'type']).count().reset_index()"
   ]
  },
  {
   "cell_type": "code",
   "execution_count": 17,
   "metadata": {},
   "outputs": [],
   "source": [
    "user_type_ = df_raw.groupby(['user', 'type']).count()\\\n",
    "    .reset_index()"
   ]
  },
  {
   "cell_type": "code",
   "execution_count": 18,
   "metadata": {},
   "outputs": [
    {
     "data": {
      "text/plain": [
       "<Axes: xlabel='date', ylabel='Count'>"
      ]
     },
     "execution_count": 18,
     "metadata": {},
     "output_type": "execute_result"
    },
    {
     "data": {
      "image/png": "[encoded data removed]",
      "text/plain": [
       "<Figure size 640x480 with 1 Axes>"
      ]
     },
     "metadata": {},
     "output_type": "display_data"
    }
   ],
   "source": [
    "sns.histplot(data=user_type_, x='date', bins=50, \n",
    "             hue='type',)"
   ]
  },
  {
   "cell_type": "markdown",
   "metadata": {},
   "source": [
    "Histplot even with hue is not very informative"
   ]
  },
  {
   "cell_type": "code",
   "execution_count": 19,
   "metadata": {},
   "outputs": [
    {
     "data": {
      "text/plain": [
       "<Axes: xlabel='date', ylabel='Density'>"
      ]
     },
     "execution_count": 19,
     "metadata": {},
     "output_type": "execute_result"
    },
    {
     "data": {
      "image/png": "[encoded data removed]",
      "text/plain": [
       "<Figure size 640x480 with 1 Axes>"
      ]
     },
     "metadata": {},
     "output_type": "display_data"
    }
   ],
   "source": [
    "sns.histplot(data=user_type_, x='date', hue='type',\n",
    "             cumulative=True, stat='density', \n",
    "             element='step', fill=False)"
   ]
  },
  {
   "cell_type": "markdown",
   "metadata": {},
   "source": [
    "The cumulative version of the histplot is more informative.\n",
    "L2D activities closely follows LD1 activities\n",
    "There is more separation between the L#D activities and the L2W activities\n",
    "\n",
    "In further analysis we will drop the L1D activities and keep on the L2D"
   ]
  },
  {
   "cell_type": "code",
   "execution_count": 20,
   "metadata": {},
   "outputs": [
    {
     "data": {
      "text/html": [
       "<div>\n",
       "<style scoped>\n",
       "    .dataframe tbody tr th:only-of-type {\n",
       "        vertical-align: middle;\n",
       "    }\n",
       "\n",
       "    .dataframe tbody tr th {\n",
       "        vertical-align: top;\n",
       "    }\n",
       "\n",
       "    .dataframe thead th {\n",
       "        text-align: right;\n",
       "    }\n",
       "</style>\n",
       "<table border=\"1\" class=\"dataframe\">\n",
       "  <thead>\n",
       "    <tr style=\"text-align: right;\">\n",
       "      <th></th>\n",
       "      <th>date</th>\n",
       "      <th>type</th>\n",
       "      <th>amount</th>\n",
       "      <th>status</th>\n",
       "      <th>user</th>\n",
       "    </tr>\n",
       "  </thead>\n",
       "  <tbody>\n",
       "    <tr>\n",
       "      <th>0</th>\n",
       "      <td>2019-07-05 05:02:28+00:00</td>\n",
       "      <td>L2D</td>\n",
       "      <td>10.00</td>\n",
       "      <td>APPROVED</td>\n",
       "      <td>1734</td>\n",
       "    </tr>\n",
       "  </tbody>\n",
       "</table>\n",
       "</div>"
      ],
      "text/plain": [
       "                       date type               amount    status  user\n",
       "0 2019-07-05 05:02:28+00:00  L2D                10.00  APPROVED  1734"
      ]
     },
     "execution_count": 20,
     "metadata": {},
     "output_type": "execute_result"
    }
   ],
   "source": [
    "df_working = df_raw.copy()\n",
    "df_working.head(1)"
   ]
  },
  {
   "cell_type": "code",
   "execution_count": 21,
   "metadata": {},
   "outputs": [
    {
     "data": {
      "text/plain": [
       "Index(['date', 'type', 'amount', 'status', 'user'], dtype='object')"
      ]
     },
     "execution_count": 21,
     "metadata": {},
     "output_type": "execute_result"
    }
   ],
   "source": [
    "df_working.columns"
   ]
  },
  {
   "cell_type": "code",
   "execution_count": 22,
   "metadata": {},
   "outputs": [
    {
     "data": {
      "text/plain": [
       "(69734, 5)"
      ]
     },
     "execution_count": 22,
     "metadata": {},
     "output_type": "execute_result"
    }
   ],
   "source": [
    "df_working = df_working[(df_working.type == \"L2D\") & \\\n",
    "    (df_working.status == \"APPROVED\")].reset_index(drop=True)\n",
    "\n",
    "df_working.shape"
   ]
  },
  {
   "cell_type": "code",
   "execution_count": 23,
   "metadata": {},
   "outputs": [
    {
     "data": {
      "text/html": [
       "<div>\n",
       "<style scoped>\n",
       "    .dataframe tbody tr th:only-of-type {\n",
       "        vertical-align: middle;\n",
       "    }\n",
       "\n",
       "    .dataframe tbody tr th {\n",
       "        vertical-align: top;\n",
       "    }\n",
       "\n",
       "    .dataframe thead th {\n",
       "        text-align: right;\n",
       "    }\n",
       "</style>\n",
       "<table border=\"1\" class=\"dataframe\">\n",
       "  <thead>\n",
       "    <tr style=\"text-align: right;\">\n",
       "      <th></th>\n",
       "      <th>user</th>\n",
       "      <th>date</th>\n",
       "      <th>type</th>\n",
       "      <th>amount</th>\n",
       "    </tr>\n",
       "  </thead>\n",
       "  <tbody>\n",
       "    <tr>\n",
       "      <th>0</th>\n",
       "      <td>1</td>\n",
       "      <td>2019-03-01 17:24:43+00:00</td>\n",
       "      <td>L2D</td>\n",
       "      <td>30.00</td>\n",
       "    </tr>\n",
       "    <tr>\n",
       "      <th>1</th>\n",
       "      <td>1</td>\n",
       "      <td>2019-03-01 19:54:04+00:00</td>\n",
       "      <td>L2D</td>\n",
       "      <td>50.00</td>\n",
       "    </tr>\n",
       "    <tr>\n",
       "      <th>2</th>\n",
       "      <td>1</td>\n",
       "      <td>2019-03-01 22:44:15+00:00</td>\n",
       "      <td>L2D</td>\n",
       "      <td>40.00</td>\n",
       "    </tr>\n",
       "    <tr>\n",
       "      <th>3</th>\n",
       "      <td>1</td>\n",
       "      <td>2019-03-02 02:44:20+00:00</td>\n",
       "      <td>L2D</td>\n",
       "      <td>100.00</td>\n",
       "    </tr>\n",
       "    <tr>\n",
       "      <th>4</th>\n",
       "      <td>1</td>\n",
       "      <td>2019-03-02 18:28:39+00:00</td>\n",
       "      <td>L2D</td>\n",
       "      <td>25.00</td>\n",
       "    </tr>\n",
       "  </tbody>\n",
       "</table>\n",
       "</div>"
      ],
      "text/plain": [
       "  user                      date type               amount\n",
       "0    1 2019-03-01 17:24:43+00:00  L2D                30.00\n",
       "1    1 2019-03-01 19:54:04+00:00  L2D                50.00\n",
       "2    1 2019-03-01 22:44:15+00:00  L2D                40.00\n",
       "3    1 2019-03-02 02:44:20+00:00  L2D               100.00\n",
       "4    1 2019-03-02 18:28:39+00:00  L2D                25.00"
      ]
     },
     "execution_count": 23,
     "metadata": {},
     "output_type": "execute_result"
    }
   ],
   "source": [
    "df_working = df_working[['user', 'date', 'type', 'amount']]\n",
    "\n",
    "df_working = df_working.sort_values(['user', 'date'])\\\n",
    "    .reset_index(drop=True)\n",
    "\n",
    "df_working.head()"
   ]
  },
  {
   "cell_type": "markdown",
   "metadata": {},
   "source": [
    "Check to see if the patrons who make the most frequent deposits also the patrons who deposit the most money.\n",
    "Look at the data for the top 20 depositors\n",
    "1. Get a frequency count\n",
    "2. Reset the index\n",
    "3. Select the first 2 columns\n",
    "4. Sort by date, reversee the sort and take the top 20 values\n",
    "5. Put the top 20 in a new df and clean it up"
   ]
  },
  {
   "cell_type": "code",
   "execution_count": 24,
   "metadata": {},
   "outputs": [
    {
     "data": {
      "text/html": [
       "<div>\n",
       "<style scoped>\n",
       "    .dataframe tbody tr th:only-of-type {\n",
       "        vertical-align: middle;\n",
       "    }\n",
       "\n",
       "    .dataframe tbody tr th {\n",
       "        vertical-align: top;\n",
       "    }\n",
       "\n",
       "    .dataframe thead th {\n",
       "        text-align: right;\n",
       "    }\n",
       "</style>\n",
       "<table border=\"1\" class=\"dataframe\">\n",
       "  <thead>\n",
       "    <tr style=\"text-align: right;\">\n",
       "      <th></th>\n",
       "      <th>date</th>\n",
       "      <th>type</th>\n",
       "      <th>amount</th>\n",
       "    </tr>\n",
       "    <tr>\n",
       "      <th>user</th>\n",
       "      <th></th>\n",
       "      <th></th>\n",
       "      <th></th>\n",
       "    </tr>\n",
       "  </thead>\n",
       "  <tbody>\n",
       "    <tr>\n",
       "      <th>1</th>\n",
       "      <td>444</td>\n",
       "      <td>444</td>\n",
       "      <td>444</td>\n",
       "    </tr>\n",
       "    <tr>\n",
       "      <th>10</th>\n",
       "      <td>1130</td>\n",
       "      <td>1130</td>\n",
       "      <td>1130</td>\n",
       "    </tr>\n",
       "    <tr>\n",
       "      <th>100</th>\n",
       "      <td>56</td>\n",
       "      <td>56</td>\n",
       "      <td>56</td>\n",
       "    </tr>\n",
       "    <tr>\n",
       "      <th>1000</th>\n",
       "      <td>2</td>\n",
       "      <td>2</td>\n",
       "      <td>2</td>\n",
       "    </tr>\n",
       "    <tr>\n",
       "      <th>1001</th>\n",
       "      <td>23</td>\n",
       "      <td>23</td>\n",
       "      <td>23</td>\n",
       "    </tr>\n",
       "    <tr>\n",
       "      <th>...</th>\n",
       "      <td>...</td>\n",
       "      <td>...</td>\n",
       "      <td>...</td>\n",
       "    </tr>\n",
       "    <tr>\n",
       "      <th>995</th>\n",
       "      <td>6</td>\n",
       "      <td>6</td>\n",
       "      <td>6</td>\n",
       "    </tr>\n",
       "    <tr>\n",
       "      <th>996</th>\n",
       "      <td>3</td>\n",
       "      <td>3</td>\n",
       "      <td>3</td>\n",
       "    </tr>\n",
       "    <tr>\n",
       "      <th>997</th>\n",
       "      <td>1</td>\n",
       "      <td>1</td>\n",
       "      <td>1</td>\n",
       "    </tr>\n",
       "    <tr>\n",
       "      <th>998</th>\n",
       "      <td>2</td>\n",
       "      <td>2</td>\n",
       "      <td>2</td>\n",
       "    </tr>\n",
       "    <tr>\n",
       "      <th>999</th>\n",
       "      <td>2</td>\n",
       "      <td>2</td>\n",
       "      <td>2</td>\n",
       "    </tr>\n",
       "  </tbody>\n",
       "</table>\n",
       "<p>2280 rows × 3 columns</p>\n",
       "</div>"
      ],
      "text/plain": [
       "      date  type  amount\n",
       "user                    \n",
       "1      444   444     444\n",
       "10    1130  1130    1130\n",
       "100     56    56      56\n",
       "1000     2     2       2\n",
       "1001    23    23      23\n",
       "...    ...   ...     ...\n",
       "995      6     6       6\n",
       "996      3     3       3\n",
       "997      1     1       1\n",
       "998      2     2       2\n",
       "999      2     2       2\n",
       "\n",
       "[2280 rows x 3 columns]"
      ]
     },
     "execution_count": 24,
     "metadata": {},
     "output_type": "execute_result"
    }
   ],
   "source": [
    "df_working.groupby('user').count()"
   ]
  },
  {
   "cell_type": "code",
   "execution_count": 25,
   "metadata": {},
   "outputs": [
    {
     "data": {
      "text/html": [
       "<div>\n",
       "<style scoped>\n",
       "    .dataframe tbody tr th:only-of-type {\n",
       "        vertical-align: middle;\n",
       "    }\n",
       "\n",
       "    .dataframe tbody tr th {\n",
       "        vertical-align: top;\n",
       "    }\n",
       "\n",
       "    .dataframe thead th {\n",
       "        text-align: right;\n",
       "    }\n",
       "</style>\n",
       "<table border=\"1\" class=\"dataframe\">\n",
       "  <thead>\n",
       "    <tr style=\"text-align: right;\">\n",
       "      <th></th>\n",
       "      <th>user</th>\n",
       "      <th>date</th>\n",
       "      <th>type</th>\n",
       "      <th>amount</th>\n",
       "    </tr>\n",
       "  </thead>\n",
       "  <tbody>\n",
       "    <tr>\n",
       "      <th>0</th>\n",
       "      <td>1</td>\n",
       "      <td>444</td>\n",
       "      <td>444</td>\n",
       "      <td>444</td>\n",
       "    </tr>\n",
       "    <tr>\n",
       "      <th>1</th>\n",
       "      <td>10</td>\n",
       "      <td>1130</td>\n",
       "      <td>1130</td>\n",
       "      <td>1130</td>\n",
       "    </tr>\n",
       "    <tr>\n",
       "      <th>2</th>\n",
       "      <td>100</td>\n",
       "      <td>56</td>\n",
       "      <td>56</td>\n",
       "      <td>56</td>\n",
       "    </tr>\n",
       "    <tr>\n",
       "      <th>3</th>\n",
       "      <td>1000</td>\n",
       "      <td>2</td>\n",
       "      <td>2</td>\n",
       "      <td>2</td>\n",
       "    </tr>\n",
       "    <tr>\n",
       "      <th>4</th>\n",
       "      <td>1001</td>\n",
       "      <td>23</td>\n",
       "      <td>23</td>\n",
       "      <td>23</td>\n",
       "    </tr>\n",
       "    <tr>\n",
       "      <th>...</th>\n",
       "      <td>...</td>\n",
       "      <td>...</td>\n",
       "      <td>...</td>\n",
       "      <td>...</td>\n",
       "    </tr>\n",
       "    <tr>\n",
       "      <th>2275</th>\n",
       "      <td>995</td>\n",
       "      <td>6</td>\n",
       "      <td>6</td>\n",
       "      <td>6</td>\n",
       "    </tr>\n",
       "    <tr>\n",
       "      <th>2276</th>\n",
       "      <td>996</td>\n",
       "      <td>3</td>\n",
       "      <td>3</td>\n",
       "      <td>3</td>\n",
       "    </tr>\n",
       "    <tr>\n",
       "      <th>2277</th>\n",
       "      <td>997</td>\n",
       "      <td>1</td>\n",
       "      <td>1</td>\n",
       "      <td>1</td>\n",
       "    </tr>\n",
       "    <tr>\n",
       "      <th>2278</th>\n",
       "      <td>998</td>\n",
       "      <td>2</td>\n",
       "      <td>2</td>\n",
       "      <td>2</td>\n",
       "    </tr>\n",
       "    <tr>\n",
       "      <th>2279</th>\n",
       "      <td>999</td>\n",
       "      <td>2</td>\n",
       "      <td>2</td>\n",
       "      <td>2</td>\n",
       "    </tr>\n",
       "  </tbody>\n",
       "</table>\n",
       "<p>2280 rows × 4 columns</p>\n",
       "</div>"
      ],
      "text/plain": [
       "      user  date  type  amount\n",
       "0        1   444   444     444\n",
       "1       10  1130  1130    1130\n",
       "2      100    56    56      56\n",
       "3     1000     2     2       2\n",
       "4     1001    23    23      23\n",
       "...    ...   ...   ...     ...\n",
       "2275   995     6     6       6\n",
       "2276   996     3     3       3\n",
       "2277   997     1     1       1\n",
       "2278   998     2     2       2\n",
       "2279   999     2     2       2\n",
       "\n",
       "[2280 rows x 4 columns]"
      ]
     },
     "execution_count": 25,
     "metadata": {},
     "output_type": "execute_result"
    }
   ],
   "source": [
    "df_working.groupby('user').count().reset_index()"
   ]
  },
  {
   "cell_type": "code",
   "execution_count": 26,
   "metadata": {},
   "outputs": [
    {
     "data": {
      "text/html": [
       "<div>\n",
       "<style scoped>\n",
       "    .dataframe tbody tr th:only-of-type {\n",
       "        vertical-align: middle;\n",
       "    }\n",
       "\n",
       "    .dataframe tbody tr th {\n",
       "        vertical-align: top;\n",
       "    }\n",
       "\n",
       "    .dataframe thead th {\n",
       "        text-align: right;\n",
       "    }\n",
       "</style>\n",
       "<table border=\"1\" class=\"dataframe\">\n",
       "  <thead>\n",
       "    <tr style=\"text-align: right;\">\n",
       "      <th></th>\n",
       "      <th>user</th>\n",
       "      <th>date</th>\n",
       "    </tr>\n",
       "  </thead>\n",
       "  <tbody>\n",
       "    <tr>\n",
       "      <th>0</th>\n",
       "      <td>1</td>\n",
       "      <td>444</td>\n",
       "    </tr>\n",
       "    <tr>\n",
       "      <th>1</th>\n",
       "      <td>10</td>\n",
       "      <td>1130</td>\n",
       "    </tr>\n",
       "    <tr>\n",
       "      <th>2</th>\n",
       "      <td>100</td>\n",
       "      <td>56</td>\n",
       "    </tr>\n",
       "    <tr>\n",
       "      <th>3</th>\n",
       "      <td>1000</td>\n",
       "      <td>2</td>\n",
       "    </tr>\n",
       "    <tr>\n",
       "      <th>4</th>\n",
       "      <td>1001</td>\n",
       "      <td>23</td>\n",
       "    </tr>\n",
       "    <tr>\n",
       "      <th>...</th>\n",
       "      <td>...</td>\n",
       "      <td>...</td>\n",
       "    </tr>\n",
       "    <tr>\n",
       "      <th>2275</th>\n",
       "      <td>995</td>\n",
       "      <td>6</td>\n",
       "    </tr>\n",
       "    <tr>\n",
       "      <th>2276</th>\n",
       "      <td>996</td>\n",
       "      <td>3</td>\n",
       "    </tr>\n",
       "    <tr>\n",
       "      <th>2277</th>\n",
       "      <td>997</td>\n",
       "      <td>1</td>\n",
       "    </tr>\n",
       "    <tr>\n",
       "      <th>2278</th>\n",
       "      <td>998</td>\n",
       "      <td>2</td>\n",
       "    </tr>\n",
       "    <tr>\n",
       "      <th>2279</th>\n",
       "      <td>999</td>\n",
       "      <td>2</td>\n",
       "    </tr>\n",
       "  </tbody>\n",
       "</table>\n",
       "<p>2280 rows × 2 columns</p>\n",
       "</div>"
      ],
      "text/plain": [
       "      user  date\n",
       "0        1   444\n",
       "1       10  1130\n",
       "2      100    56\n",
       "3     1000     2\n",
       "4     1001    23\n",
       "...    ...   ...\n",
       "2275   995     6\n",
       "2276   996     3\n",
       "2277   997     1\n",
       "2278   998     2\n",
       "2279   999     2\n",
       "\n",
       "[2280 rows x 2 columns]"
      ]
     },
     "execution_count": 26,
     "metadata": {},
     "output_type": "execute_result"
    }
   ],
   "source": [
    "df_working.groupby('user').count().reset_index() \\\n",
    "    .iloc[:,0:2]"
   ]
  },
  {
   "cell_type": "code",
   "execution_count": 27,
   "metadata": {},
   "outputs": [
    {
     "data": {
      "text/html": [
       "<div>\n",
       "<style scoped>\n",
       "    .dataframe tbody tr th:only-of-type {\n",
       "        vertical-align: middle;\n",
       "    }\n",
       "\n",
       "    .dataframe tbody tr th {\n",
       "        vertical-align: top;\n",
       "    }\n",
       "\n",
       "    .dataframe thead th {\n",
       "        text-align: right;\n",
       "    }\n",
       "</style>\n",
       "<table border=\"1\" class=\"dataframe\">\n",
       "  <thead>\n",
       "    <tr style=\"text-align: right;\">\n",
       "      <th></th>\n",
       "      <th>user</th>\n",
       "      <th>date</th>\n",
       "    </tr>\n",
       "  </thead>\n",
       "  <tbody>\n",
       "    <tr>\n",
       "      <th>1</th>\n",
       "      <td>10</td>\n",
       "      <td>1130</td>\n",
       "    </tr>\n",
       "    <tr>\n",
       "      <th>223</th>\n",
       "      <td>120</td>\n",
       "      <td>998</td>\n",
       "    </tr>\n",
       "    <tr>\n",
       "      <th>1462</th>\n",
       "      <td>26</td>\n",
       "      <td>992</td>\n",
       "    </tr>\n",
       "    <tr>\n",
       "      <th>1506</th>\n",
       "      <td>3</td>\n",
       "      <td>941</td>\n",
       "    </tr>\n",
       "    <tr>\n",
       "      <th>2236</th>\n",
       "      <td>96</td>\n",
       "      <td>900</td>\n",
       "    </tr>\n",
       "    <tr>\n",
       "      <th>1205</th>\n",
       "      <td>21</td>\n",
       "      <td>890</td>\n",
       "    </tr>\n",
       "    <tr>\n",
       "      <th>320</th>\n",
       "      <td>129</td>\n",
       "      <td>855</td>\n",
       "    </tr>\n",
       "    <tr>\n",
       "      <th>1895</th>\n",
       "      <td>65</td>\n",
       "      <td>837</td>\n",
       "    </tr>\n",
       "    <tr>\n",
       "      <th>1662</th>\n",
       "      <td>44</td>\n",
       "      <td>672</td>\n",
       "    </tr>\n",
       "    <tr>\n",
       "      <th>1507</th>\n",
       "      <td>30</td>\n",
       "      <td>671</td>\n",
       "    </tr>\n",
       "    <tr>\n",
       "      <th>288</th>\n",
       "      <td>126</td>\n",
       "      <td>641</td>\n",
       "    </tr>\n",
       "    <tr>\n",
       "      <th>1828</th>\n",
       "      <td>59</td>\n",
       "      <td>630</td>\n",
       "    </tr>\n",
       "    <tr>\n",
       "      <th>1851</th>\n",
       "      <td>61</td>\n",
       "      <td>621</td>\n",
       "    </tr>\n",
       "    <tr>\n",
       "      <th>549</th>\n",
       "      <td>15</td>\n",
       "      <td>618</td>\n",
       "    </tr>\n",
       "    <tr>\n",
       "      <th>78</th>\n",
       "      <td>107</td>\n",
       "      <td>523</td>\n",
       "    </tr>\n",
       "    <tr>\n",
       "      <th>2004</th>\n",
       "      <td>75</td>\n",
       "      <td>505</td>\n",
       "    </tr>\n",
       "    <tr>\n",
       "      <th>2181</th>\n",
       "      <td>91</td>\n",
       "      <td>483</td>\n",
       "    </tr>\n",
       "    <tr>\n",
       "      <th>2148</th>\n",
       "      <td>88</td>\n",
       "      <td>467</td>\n",
       "    </tr>\n",
       "    <tr>\n",
       "      <th>1884</th>\n",
       "      <td>64</td>\n",
       "      <td>455</td>\n",
       "    </tr>\n",
       "    <tr>\n",
       "      <th>1618</th>\n",
       "      <td>40</td>\n",
       "      <td>448</td>\n",
       "    </tr>\n",
       "  </tbody>\n",
       "</table>\n",
       "</div>"
      ],
      "text/plain": [
       "     user  date\n",
       "1      10  1130\n",
       "223   120   998\n",
       "1462   26   992\n",
       "1506    3   941\n",
       "2236   96   900\n",
       "1205   21   890\n",
       "320   129   855\n",
       "1895   65   837\n",
       "1662   44   672\n",
       "1507   30   671\n",
       "288   126   641\n",
       "1828   59   630\n",
       "1851   61   621\n",
       "549    15   618\n",
       "78    107   523\n",
       "2004   75   505\n",
       "2181   91   483\n",
       "2148   88   467\n",
       "1884   64   455\n",
       "1618   40   448"
      ]
     },
     "execution_count": 27,
     "metadata": {},
     "output_type": "execute_result"
    }
   ],
   "source": [
    "df_working.groupby('user').count().reset_index() \\\n",
    "    .iloc[:,0:2].sort_values(\"date\")[::-1][0:20]"
   ]
  },
  {
   "cell_type": "code",
   "execution_count": 28,
   "metadata": {},
   "outputs": [],
   "source": [
    "df_top20_freq = df_working.groupby('user').count()\\\n",
    "    .reset_index()\\\n",
    "    .iloc[:,0:2].sort_values(\"date\")[::-1][0:20]"
   ]
  },
  {
   "cell_type": "markdown",
   "metadata": {},
   "source": [
    "Perform a similar activity for the top spenders"
   ]
  },
  {
   "cell_type": "code",
   "execution_count": 29,
   "metadata": {},
   "outputs": [],
   "source": [
    "df_top20_spenders = df_working[['user', 'amount' ]] \\\n",
    "    .groupby('user').sum().reset_index()\\\n",
    "        .sort_values('amount') \\\n",
    "        [::-1][0:20]"
   ]
  },
  {
   "cell_type": "code",
   "execution_count": 30,
   "metadata": {},
   "outputs": [
    {
     "data": {
      "text/html": [
       "<div>\n",
       "<style scoped>\n",
       "    .dataframe tbody tr th:only-of-type {\n",
       "        vertical-align: middle;\n",
       "    }\n",
       "\n",
       "    .dataframe tbody tr th {\n",
       "        vertical-align: top;\n",
       "    }\n",
       "\n",
       "    .dataframe thead th {\n",
       "        text-align: right;\n",
       "    }\n",
       "</style>\n",
       "<table border=\"1\" class=\"dataframe\">\n",
       "  <thead>\n",
       "    <tr style=\"text-align: right;\">\n",
       "      <th></th>\n",
       "      <th>user</th>\n",
       "      <th>amount</th>\n",
       "    </tr>\n",
       "  </thead>\n",
       "  <tbody>\n",
       "    <tr>\n",
       "      <th>977</th>\n",
       "      <td>189</td>\n",
       "      <td>401531.93</td>\n",
       "    </tr>\n",
       "    <tr>\n",
       "      <th>682</th>\n",
       "      <td>162</td>\n",
       "      <td>168295.00</td>\n",
       "    </tr>\n",
       "    <tr>\n",
       "      <th>1873</th>\n",
       "      <td>63</td>\n",
       "      <td>151583.00</td>\n",
       "    </tr>\n",
       "    <tr>\n",
       "      <th>1471</th>\n",
       "      <td>268</td>\n",
       "      <td>135528.95</td>\n",
       "    </tr>\n",
       "    <tr>\n",
       "      <th>1550</th>\n",
       "      <td>339</td>\n",
       "      <td>116869.90</td>\n",
       "    </tr>\n",
       "  </tbody>\n",
       "</table>\n",
       "</div>"
      ],
      "text/plain": [
       "     user               amount\n",
       "977   189            401531.93\n",
       "682   162            168295.00\n",
       "1873   63            151583.00\n",
       "1471  268            135528.95\n",
       "1550  339            116869.90"
      ]
     },
     "execution_count": 30,
     "metadata": {},
     "output_type": "execute_result"
    }
   ],
   "source": [
    "df_top20_spenders.head()"
   ]
  },
  {
   "cell_type": "markdown",
   "metadata": {},
   "source": [
    "Plot Top 20 side-by-side (ncols=2)"
   ]
  },
  {
   "cell_type": "code",
   "execution_count": 31,
   "metadata": {},
   "outputs": [
    {
     "data": {
      "text/plain": [
       "<Axes: xlabel='amount', ylabel='user'>"
      ]
     },
     "execution_count": 31,
     "metadata": {},
     "output_type": "execute_result"
    },
    {
     "data": {
      "image/png": "[encoded data removed]",
      "text/plain": [
       "<Figure size 1500x500 with 2 Axes>"
      ]
     },
     "metadata": {},
     "output_type": "display_data"
    }
   ],
   "source": [
    "fig, ax = plt.subplots(ncols=2, figsize=(15, 5))\n",
    "\n",
    "sns.barplot(df_top20_freq, x='date', y='user', \n",
    "            ax = ax[0])\n",
    "sns.barplot(df_top20_spenders, x='amount', \n",
    "            y='user', ax=ax[1])"
   ]
  },
  {
   "cell_type": "markdown",
   "metadata": {},
   "source": [
    "The plot shows that the most frequent patrons are not the same as the patrons who deposit the most money\n"
   ]
  },
  {
   "cell_type": "markdown",
   "metadata": {},
   "source": [
    "Work the date column to see what can extracted from it\n",
    "Extract the hour from the date column\n",
    "Extract the day of the week from the date column\n",
    "Create new columns in the df for each of these elements\n",
    "The day of the week is initiall presented as integers 0-6 Mon-Sun\n",
    "Create dictionary to convert day of the week from int to day name and map to df"
   ]
  },
  {
   "cell_type": "code",
   "execution_count": 32,
   "metadata": {},
   "outputs": [],
   "source": [
    "df_working.date.dt.hour\n",
    "df_working['hour'] = df_working.date.dt.hour"
   ]
  },
  {
   "cell_type": "code",
   "execution_count": 33,
   "metadata": {},
   "outputs": [
    {
     "data": {
      "text/html": [
       "<div>\n",
       "<style scoped>\n",
       "    .dataframe tbody tr th:only-of-type {\n",
       "        vertical-align: middle;\n",
       "    }\n",
       "\n",
       "    .dataframe tbody tr th {\n",
       "        vertical-align: top;\n",
       "    }\n",
       "\n",
       "    .dataframe thead th {\n",
       "        text-align: right;\n",
       "    }\n",
       "</style>\n",
       "<table border=\"1\" class=\"dataframe\">\n",
       "  <thead>\n",
       "    <tr style=\"text-align: right;\">\n",
       "      <th></th>\n",
       "      <th>user</th>\n",
       "      <th>date</th>\n",
       "      <th>type</th>\n",
       "      <th>amount</th>\n",
       "      <th>hour</th>\n",
       "      <th>day_of_week</th>\n",
       "    </tr>\n",
       "  </thead>\n",
       "  <tbody>\n",
       "    <tr>\n",
       "      <th>0</th>\n",
       "      <td>1</td>\n",
       "      <td>2019-03-01 17:24:43+00:00</td>\n",
       "      <td>L2D</td>\n",
       "      <td>30.00</td>\n",
       "      <td>17</td>\n",
       "      <td>4</td>\n",
       "    </tr>\n",
       "    <tr>\n",
       "      <th>1</th>\n",
       "      <td>1</td>\n",
       "      <td>2019-03-01 19:54:04+00:00</td>\n",
       "      <td>L2D</td>\n",
       "      <td>50.00</td>\n",
       "      <td>19</td>\n",
       "      <td>4</td>\n",
       "    </tr>\n",
       "    <tr>\n",
       "      <th>2</th>\n",
       "      <td>1</td>\n",
       "      <td>2019-03-01 22:44:15+00:00</td>\n",
       "      <td>L2D</td>\n",
       "      <td>40.00</td>\n",
       "      <td>22</td>\n",
       "      <td>4</td>\n",
       "    </tr>\n",
       "    <tr>\n",
       "      <th>3</th>\n",
       "      <td>1</td>\n",
       "      <td>2019-03-02 02:44:20+00:00</td>\n",
       "      <td>L2D</td>\n",
       "      <td>100.00</td>\n",
       "      <td>2</td>\n",
       "      <td>5</td>\n",
       "    </tr>\n",
       "    <tr>\n",
       "      <th>4</th>\n",
       "      <td>1</td>\n",
       "      <td>2019-03-02 18:28:39+00:00</td>\n",
       "      <td>L2D</td>\n",
       "      <td>25.00</td>\n",
       "      <td>18</td>\n",
       "      <td>5</td>\n",
       "    </tr>\n",
       "    <tr>\n",
       "      <th>...</th>\n",
       "      <td>...</td>\n",
       "      <td>...</td>\n",
       "      <td>...</td>\n",
       "      <td>...</td>\n",
       "      <td>...</td>\n",
       "      <td>...</td>\n",
       "    </tr>\n",
       "    <tr>\n",
       "      <th>69729</th>\n",
       "      <td>997</td>\n",
       "      <td>2019-09-22 00:56:47+00:00</td>\n",
       "      <td>L2D</td>\n",
       "      <td>50.00</td>\n",
       "      <td>0</td>\n",
       "      <td>6</td>\n",
       "    </tr>\n",
       "    <tr>\n",
       "      <th>69730</th>\n",
       "      <td>998</td>\n",
       "      <td>2019-11-09 07:03:51+00:00</td>\n",
       "      <td>L2D</td>\n",
       "      <td>25.00</td>\n",
       "      <td>7</td>\n",
       "      <td>5</td>\n",
       "    </tr>\n",
       "    <tr>\n",
       "      <th>69731</th>\n",
       "      <td>998</td>\n",
       "      <td>2019-11-09 07:05:05+00:00</td>\n",
       "      <td>L2D</td>\n",
       "      <td>25.00</td>\n",
       "      <td>7</td>\n",
       "      <td>5</td>\n",
       "    </tr>\n",
       "    <tr>\n",
       "      <th>69732</th>\n",
       "      <td>999</td>\n",
       "      <td>2019-03-20 10:58:04+00:00</td>\n",
       "      <td>L2D</td>\n",
       "      <td>250.00</td>\n",
       "      <td>10</td>\n",
       "      <td>2</td>\n",
       "    </tr>\n",
       "    <tr>\n",
       "      <th>69733</th>\n",
       "      <td>999</td>\n",
       "      <td>2019-03-20 13:13:11+00:00</td>\n",
       "      <td>L2D</td>\n",
       "      <td>500.00</td>\n",
       "      <td>13</td>\n",
       "      <td>2</td>\n",
       "    </tr>\n",
       "  </tbody>\n",
       "</table>\n",
       "<p>69734 rows × 6 columns</p>\n",
       "</div>"
      ],
      "text/plain": [
       "      user                      date type               amount  hour  \\\n",
       "0        1 2019-03-01 17:24:43+00:00  L2D                30.00    17   \n",
       "1        1 2019-03-01 19:54:04+00:00  L2D                50.00    19   \n",
       "2        1 2019-03-01 22:44:15+00:00  L2D                40.00    22   \n",
       "3        1 2019-03-02 02:44:20+00:00  L2D               100.00     2   \n",
       "4        1 2019-03-02 18:28:39+00:00  L2D                25.00    18   \n",
       "...    ...                       ...  ...                  ...   ...   \n",
       "69729  997 2019-09-22 00:56:47+00:00  L2D                50.00     0   \n",
       "69730  998 2019-11-09 07:03:51+00:00  L2D                25.00     7   \n",
       "69731  998 2019-11-09 07:05:05+00:00  L2D                25.00     7   \n",
       "69732  999 2019-03-20 10:58:04+00:00  L2D               250.00    10   \n",
       "69733  999 2019-03-20 13:13:11+00:00  L2D               500.00    13   \n",
       "\n",
       "       day_of_week  \n",
       "0                4  \n",
       "1                4  \n",
       "2                4  \n",
       "3                5  \n",
       "4                5  \n",
       "...            ...  \n",
       "69729            6  \n",
       "69730            5  \n",
       "69731            5  \n",
       "69732            2  \n",
       "69733            2  \n",
       "\n",
       "[69734 rows x 6 columns]"
      ]
     },
     "execution_count": 33,
     "metadata": {},
     "output_type": "execute_result"
    }
   ],
   "source": [
    "df_working.date.dt.day_of_week\n",
    "df_working['day_of_week'] = df_working.date.dt\\\n",
    "    .day_of_week\n",
    "df_working"
   ]
  },
  {
   "cell_type": "code",
   "execution_count": 34,
   "metadata": {},
   "outputs": [],
   "source": [
    "day_of_the_week_dict = {0: 'Monday',\n",
    "                        1: 'Tuesday',\n",
    "                        2: 'Wednesday',\n",
    "                        3: 'Thursday',\n",
    "                        4: 'Friday',\n",
    "                        5: 'Saturday',\n",
    "                        6: 'Sunday',\n",
    "                        }"
   ]
  },
  {
   "cell_type": "code",
   "execution_count": 35,
   "metadata": {},
   "outputs": [
    {
     "data": {
      "text/html": [
       "<div>\n",
       "<style scoped>\n",
       "    .dataframe tbody tr th:only-of-type {\n",
       "        vertical-align: middle;\n",
       "    }\n",
       "\n",
       "    .dataframe tbody tr th {\n",
       "        vertical-align: top;\n",
       "    }\n",
       "\n",
       "    .dataframe thead th {\n",
       "        text-align: right;\n",
       "    }\n",
       "</style>\n",
       "<table border=\"1\" class=\"dataframe\">\n",
       "  <thead>\n",
       "    <tr style=\"text-align: right;\">\n",
       "      <th></th>\n",
       "      <th>user</th>\n",
       "      <th>date</th>\n",
       "      <th>type</th>\n",
       "      <th>amount</th>\n",
       "      <th>hour</th>\n",
       "      <th>day_of_week</th>\n",
       "    </tr>\n",
       "  </thead>\n",
       "  <tbody>\n",
       "    <tr>\n",
       "      <th>0</th>\n",
       "      <td>1</td>\n",
       "      <td>2019-03-01 17:24:43+00:00</td>\n",
       "      <td>L2D</td>\n",
       "      <td>30.00</td>\n",
       "      <td>17</td>\n",
       "      <td>Friday</td>\n",
       "    </tr>\n",
       "    <tr>\n",
       "      <th>1</th>\n",
       "      <td>1</td>\n",
       "      <td>2019-03-01 19:54:04+00:00</td>\n",
       "      <td>L2D</td>\n",
       "      <td>50.00</td>\n",
       "      <td>19</td>\n",
       "      <td>Friday</td>\n",
       "    </tr>\n",
       "    <tr>\n",
       "      <th>2</th>\n",
       "      <td>1</td>\n",
       "      <td>2019-03-01 22:44:15+00:00</td>\n",
       "      <td>L2D</td>\n",
       "      <td>40.00</td>\n",
       "      <td>22</td>\n",
       "      <td>Friday</td>\n",
       "    </tr>\n",
       "    <tr>\n",
       "      <th>3</th>\n",
       "      <td>1</td>\n",
       "      <td>2019-03-02 02:44:20+00:00</td>\n",
       "      <td>L2D</td>\n",
       "      <td>100.00</td>\n",
       "      <td>2</td>\n",
       "      <td>Saturday</td>\n",
       "    </tr>\n",
       "    <tr>\n",
       "      <th>4</th>\n",
       "      <td>1</td>\n",
       "      <td>2019-03-02 18:28:39+00:00</td>\n",
       "      <td>L2D</td>\n",
       "      <td>25.00</td>\n",
       "      <td>18</td>\n",
       "      <td>Saturday</td>\n",
       "    </tr>\n",
       "    <tr>\n",
       "      <th>...</th>\n",
       "      <td>...</td>\n",
       "      <td>...</td>\n",
       "      <td>...</td>\n",
       "      <td>...</td>\n",
       "      <td>...</td>\n",
       "      <td>...</td>\n",
       "    </tr>\n",
       "    <tr>\n",
       "      <th>69729</th>\n",
       "      <td>997</td>\n",
       "      <td>2019-09-22 00:56:47+00:00</td>\n",
       "      <td>L2D</td>\n",
       "      <td>50.00</td>\n",
       "      <td>0</td>\n",
       "      <td>Sunday</td>\n",
       "    </tr>\n",
       "    <tr>\n",
       "      <th>69730</th>\n",
       "      <td>998</td>\n",
       "      <td>2019-11-09 07:03:51+00:00</td>\n",
       "      <td>L2D</td>\n",
       "      <td>25.00</td>\n",
       "      <td>7</td>\n",
       "      <td>Saturday</td>\n",
       "    </tr>\n",
       "    <tr>\n",
       "      <th>69731</th>\n",
       "      <td>998</td>\n",
       "      <td>2019-11-09 07:05:05+00:00</td>\n",
       "      <td>L2D</td>\n",
       "      <td>25.00</td>\n",
       "      <td>7</td>\n",
       "      <td>Saturday</td>\n",
       "    </tr>\n",
       "    <tr>\n",
       "      <th>69732</th>\n",
       "      <td>999</td>\n",
       "      <td>2019-03-20 10:58:04+00:00</td>\n",
       "      <td>L2D</td>\n",
       "      <td>250.00</td>\n",
       "      <td>10</td>\n",
       "      <td>Wednesday</td>\n",
       "    </tr>\n",
       "    <tr>\n",
       "      <th>69733</th>\n",
       "      <td>999</td>\n",
       "      <td>2019-03-20 13:13:11+00:00</td>\n",
       "      <td>L2D</td>\n",
       "      <td>500.00</td>\n",
       "      <td>13</td>\n",
       "      <td>Wednesday</td>\n",
       "    </tr>\n",
       "  </tbody>\n",
       "</table>\n",
       "<p>69734 rows × 6 columns</p>\n",
       "</div>"
      ],
      "text/plain": [
       "      user                      date type               amount  hour  \\\n",
       "0        1 2019-03-01 17:24:43+00:00  L2D                30.00    17   \n",
       "1        1 2019-03-01 19:54:04+00:00  L2D                50.00    19   \n",
       "2        1 2019-03-01 22:44:15+00:00  L2D                40.00    22   \n",
       "3        1 2019-03-02 02:44:20+00:00  L2D               100.00     2   \n",
       "4        1 2019-03-02 18:28:39+00:00  L2D                25.00    18   \n",
       "...    ...                       ...  ...                  ...   ...   \n",
       "69729  997 2019-09-22 00:56:47+00:00  L2D                50.00     0   \n",
       "69730  998 2019-11-09 07:03:51+00:00  L2D                25.00     7   \n",
       "69731  998 2019-11-09 07:05:05+00:00  L2D                25.00     7   \n",
       "69732  999 2019-03-20 10:58:04+00:00  L2D               250.00    10   \n",
       "69733  999 2019-03-20 13:13:11+00:00  L2D               500.00    13   \n",
       "\n",
       "      day_of_week  \n",
       "0          Friday  \n",
       "1          Friday  \n",
       "2          Friday  \n",
       "3        Saturday  \n",
       "4        Saturday  \n",
       "...           ...  \n",
       "69729      Sunday  \n",
       "69730    Saturday  \n",
       "69731    Saturday  \n",
       "69732   Wednesday  \n",
       "69733   Wednesday  \n",
       "\n",
       "[69734 rows x 6 columns]"
      ]
     },
     "execution_count": 35,
     "metadata": {},
     "output_type": "execute_result"
    }
   ],
   "source": [
    "df_working['day_of_week'] = df_working['day_of_week']\\\n",
    "    .map(day_of_the_week_dict)\n",
    "df_working"
   ]
  },
  {
   "cell_type": "markdown",
   "metadata": {},
   "source": [
    "Using the day and time of day data are there any patterns that are evident by plotting these data.\n",
    "Create a heat map for this\n",
    "Creating a heat map requires some manipulation of the data into a 'confusion matrix' where the day of the week is the index with the hours of the day as the columns of the matrix\n",
    "Use the pivot table method from pandas to create the confusion matrix from the df we created"
   ]
  },
  {
   "cell_type": "code",
   "execution_count": 36,
   "metadata": {},
   "outputs": [
    {
     "data": {
      "text/html": [
       "<div>\n",
       "<style scoped>\n",
       "    .dataframe tbody tr th:only-of-type {\n",
       "        vertical-align: middle;\n",
       "    }\n",
       "\n",
       "    .dataframe tbody tr th {\n",
       "        vertical-align: top;\n",
       "    }\n",
       "\n",
       "    .dataframe thead th {\n",
       "        text-align: right;\n",
       "    }\n",
       "</style>\n",
       "<table border=\"1\" class=\"dataframe\">\n",
       "  <thead>\n",
       "    <tr style=\"text-align: right;\">\n",
       "      <th></th>\n",
       "      <th>hour</th>\n",
       "      <th>day_of_week</th>\n",
       "      <th>type</th>\n",
       "    </tr>\n",
       "  </thead>\n",
       "  <tbody>\n",
       "    <tr>\n",
       "      <th>0</th>\n",
       "      <td>0</td>\n",
       "      <td>Friday</td>\n",
       "      <td>334</td>\n",
       "    </tr>\n",
       "    <tr>\n",
       "      <th>1</th>\n",
       "      <td>0</td>\n",
       "      <td>Monday</td>\n",
       "      <td>369</td>\n",
       "    </tr>\n",
       "    <tr>\n",
       "      <th>2</th>\n",
       "      <td>0</td>\n",
       "      <td>Saturday</td>\n",
       "      <td>385</td>\n",
       "    </tr>\n",
       "    <tr>\n",
       "      <th>3</th>\n",
       "      <td>0</td>\n",
       "      <td>Sunday</td>\n",
       "      <td>407</td>\n",
       "    </tr>\n",
       "    <tr>\n",
       "      <th>4</th>\n",
       "      <td>0</td>\n",
       "      <td>Thursday</td>\n",
       "      <td>323</td>\n",
       "    </tr>\n",
       "    <tr>\n",
       "      <th>...</th>\n",
       "      <td>...</td>\n",
       "      <td>...</td>\n",
       "      <td>...</td>\n",
       "    </tr>\n",
       "    <tr>\n",
       "      <th>163</th>\n",
       "      <td>23</td>\n",
       "      <td>Saturday</td>\n",
       "      <td>439</td>\n",
       "    </tr>\n",
       "    <tr>\n",
       "      <th>164</th>\n",
       "      <td>23</td>\n",
       "      <td>Sunday</td>\n",
       "      <td>346</td>\n",
       "    </tr>\n",
       "    <tr>\n",
       "      <th>165</th>\n",
       "      <td>23</td>\n",
       "      <td>Thursday</td>\n",
       "      <td>377</td>\n",
       "    </tr>\n",
       "    <tr>\n",
       "      <th>166</th>\n",
       "      <td>23</td>\n",
       "      <td>Tuesday</td>\n",
       "      <td>349</td>\n",
       "    </tr>\n",
       "    <tr>\n",
       "      <th>167</th>\n",
       "      <td>23</td>\n",
       "      <td>Wednesday</td>\n",
       "      <td>350</td>\n",
       "    </tr>\n",
       "  </tbody>\n",
       "</table>\n",
       "<p>168 rows × 3 columns</p>\n",
       "</div>"
      ],
      "text/plain": [
       "     hour day_of_week  type\n",
       "0       0      Friday   334\n",
       "1       0      Monday   369\n",
       "2       0    Saturday   385\n",
       "3       0      Sunday   407\n",
       "4       0    Thursday   323\n",
       "..    ...         ...   ...\n",
       "163    23    Saturday   439\n",
       "164    23      Sunday   346\n",
       "165    23    Thursday   377\n",
       "166    23     Tuesday   349\n",
       "167    23   Wednesday   350\n",
       "\n",
       "[168 rows x 3 columns]"
      ]
     },
     "execution_count": 36,
     "metadata": {},
     "output_type": "execute_result"
    }
   ],
   "source": [
    "df_working[['hour', 'day_of_week', 'type']]\\\n",
    "    .groupby(['hour', 'day_of_week']).count().reset_index()"
   ]
  },
  {
   "cell_type": "code",
   "execution_count": 37,
   "metadata": {},
   "outputs": [
    {
     "data": {
      "text/html": [
       "<div>\n",
       "<style scoped>\n",
       "    .dataframe tbody tr th:only-of-type {\n",
       "        vertical-align: middle;\n",
       "    }\n",
       "\n",
       "    .dataframe tbody tr th {\n",
       "        vertical-align: top;\n",
       "    }\n",
       "\n",
       "    .dataframe thead th {\n",
       "        text-align: right;\n",
       "    }\n",
       "</style>\n",
       "<table border=\"1\" class=\"dataframe\">\n",
       "  <thead>\n",
       "    <tr style=\"text-align: right;\">\n",
       "      <th></th>\n",
       "      <th>hour</th>\n",
       "      <th>day_of_week</th>\n",
       "      <th>type</th>\n",
       "    </tr>\n",
       "  </thead>\n",
       "  <tbody>\n",
       "    <tr>\n",
       "      <th>0</th>\n",
       "      <td>0</td>\n",
       "      <td>Friday</td>\n",
       "      <td>334</td>\n",
       "    </tr>\n",
       "    <tr>\n",
       "      <th>1</th>\n",
       "      <td>0</td>\n",
       "      <td>Monday</td>\n",
       "      <td>369</td>\n",
       "    </tr>\n",
       "    <tr>\n",
       "      <th>2</th>\n",
       "      <td>0</td>\n",
       "      <td>Saturday</td>\n",
       "      <td>385</td>\n",
       "    </tr>\n",
       "    <tr>\n",
       "      <th>3</th>\n",
       "      <td>0</td>\n",
       "      <td>Sunday</td>\n",
       "      <td>407</td>\n",
       "    </tr>\n",
       "    <tr>\n",
       "      <th>4</th>\n",
       "      <td>0</td>\n",
       "      <td>Thursday</td>\n",
       "      <td>323</td>\n",
       "    </tr>\n",
       "    <tr>\n",
       "      <th>...</th>\n",
       "      <td>...</td>\n",
       "      <td>...</td>\n",
       "      <td>...</td>\n",
       "    </tr>\n",
       "    <tr>\n",
       "      <th>163</th>\n",
       "      <td>23</td>\n",
       "      <td>Saturday</td>\n",
       "      <td>439</td>\n",
       "    </tr>\n",
       "    <tr>\n",
       "      <th>164</th>\n",
       "      <td>23</td>\n",
       "      <td>Sunday</td>\n",
       "      <td>346</td>\n",
       "    </tr>\n",
       "    <tr>\n",
       "      <th>165</th>\n",
       "      <td>23</td>\n",
       "      <td>Thursday</td>\n",
       "      <td>377</td>\n",
       "    </tr>\n",
       "    <tr>\n",
       "      <th>166</th>\n",
       "      <td>23</td>\n",
       "      <td>Tuesday</td>\n",
       "      <td>349</td>\n",
       "    </tr>\n",
       "    <tr>\n",
       "      <th>167</th>\n",
       "      <td>23</td>\n",
       "      <td>Wednesday</td>\n",
       "      <td>350</td>\n",
       "    </tr>\n",
       "  </tbody>\n",
       "</table>\n",
       "<p>168 rows × 3 columns</p>\n",
       "</div>"
      ],
      "text/plain": [
       "     hour day_of_week  type\n",
       "0       0      Friday   334\n",
       "1       0      Monday   369\n",
       "2       0    Saturday   385\n",
       "3       0      Sunday   407\n",
       "4       0    Thursday   323\n",
       "..    ...         ...   ...\n",
       "163    23    Saturday   439\n",
       "164    23      Sunday   346\n",
       "165    23    Thursday   377\n",
       "166    23     Tuesday   349\n",
       "167    23   Wednesday   350\n",
       "\n",
       "[168 rows x 3 columns]"
      ]
     },
     "execution_count": 37,
     "metadata": {},
     "output_type": "execute_result"
    }
   ],
   "source": [
    "h_d_g = df_working[['hour', 'day_of_week', 'type']]\\\n",
    "    .groupby(['hour', 'day_of_week']).count().reset_index()\n",
    "    \n",
    "h_d_g"
   ]
  },
  {
   "cell_type": "code",
   "execution_count": 38,
   "metadata": {},
   "outputs": [],
   "source": [
    "df_heatmap = pd.pivot_table(h_d_g, values='type', index='day_of_week',\n",
    "                            columns='hour')"
   ]
  },
  {
   "cell_type": "code",
   "execution_count": 39,
   "metadata": {},
   "outputs": [
    {
     "data": {
      "text/plain": [
       "<Axes: xlabel='hour', ylabel='day_of_week'>"
      ]
     },
     "execution_count": 39,
     "metadata": {},
     "output_type": "execute_result"
    },
    {
     "data": {
      "image/png": "[encoded data removed]",
      "text/plain": [
       "<Figure size 640x480 with 2 Axes>"
      ]
     },
     "metadata": {},
     "output_type": "display_data"
    }
   ],
   "source": [
    "sns.heatmap(df_heatmap)"
   ]
  },
  {
   "cell_type": "markdown",
   "metadata": {},
   "source": [
    "Examine daily activity\n",
    "How patrons made deposits in a day \n",
    "and what were the values\n",
    "Plot the results"
   ]
  },
  {
   "cell_type": "code",
   "execution_count": 40,
   "metadata": {},
   "outputs": [
    {
     "data": {
      "text/plain": [
       "Index(['user', 'date', 'type', 'amount', 'hour', 'day_of_week'], dtype='object')"
      ]
     },
     "execution_count": 40,
     "metadata": {},
     "output_type": "execute_result"
    }
   ],
   "source": [
    "df_working.columns"
   ]
  },
  {
   "cell_type": "code",
   "execution_count": 41,
   "metadata": {},
   "outputs": [
    {
     "data": {
      "text/html": [
       "<div>\n",
       "<style scoped>\n",
       "    .dataframe tbody tr th:only-of-type {\n",
       "        vertical-align: middle;\n",
       "    }\n",
       "\n",
       "    .dataframe tbody tr th {\n",
       "        vertical-align: top;\n",
       "    }\n",
       "\n",
       "    .dataframe thead th {\n",
       "        text-align: right;\n",
       "    }\n",
       "</style>\n",
       "<table border=\"1\" class=\"dataframe\">\n",
       "  <thead>\n",
       "    <tr style=\"text-align: right;\">\n",
       "      <th></th>\n",
       "      <th>user</th>\n",
       "      <th>date</th>\n",
       "      <th>amount</th>\n",
       "      <th>type</th>\n",
       "    </tr>\n",
       "  </thead>\n",
       "  <tbody>\n",
       "    <tr>\n",
       "      <th>0</th>\n",
       "      <td>1</td>\n",
       "      <td>2019-03-01 17:24:43+00:00</td>\n",
       "      <td>30.00</td>\n",
       "      <td>1</td>\n",
       "    </tr>\n",
       "    <tr>\n",
       "      <th>1</th>\n",
       "      <td>1</td>\n",
       "      <td>2019-03-01 19:54:04+00:00</td>\n",
       "      <td>50.00</td>\n",
       "      <td>1</td>\n",
       "    </tr>\n",
       "    <tr>\n",
       "      <th>2</th>\n",
       "      <td>1</td>\n",
       "      <td>2019-03-01 22:44:15+00:00</td>\n",
       "      <td>40.00</td>\n",
       "      <td>1</td>\n",
       "    </tr>\n",
       "    <tr>\n",
       "      <th>3</th>\n",
       "      <td>1</td>\n",
       "      <td>2019-03-02 02:44:20+00:00</td>\n",
       "      <td>100.00</td>\n",
       "      <td>1</td>\n",
       "    </tr>\n",
       "    <tr>\n",
       "      <th>4</th>\n",
       "      <td>1</td>\n",
       "      <td>2019-03-02 18:28:39+00:00</td>\n",
       "      <td>25.00</td>\n",
       "      <td>1</td>\n",
       "    </tr>\n",
       "    <tr>\n",
       "      <th>...</th>\n",
       "      <td>...</td>\n",
       "      <td>...</td>\n",
       "      <td>...</td>\n",
       "      <td>...</td>\n",
       "    </tr>\n",
       "    <tr>\n",
       "      <th>69680</th>\n",
       "      <td>997</td>\n",
       "      <td>2019-09-22 00:56:47+00:00</td>\n",
       "      <td>50.00</td>\n",
       "      <td>1</td>\n",
       "    </tr>\n",
       "    <tr>\n",
       "      <th>69681</th>\n",
       "      <td>998</td>\n",
       "      <td>2019-11-09 07:03:51+00:00</td>\n",
       "      <td>25.00</td>\n",
       "      <td>1</td>\n",
       "    </tr>\n",
       "    <tr>\n",
       "      <th>69682</th>\n",
       "      <td>998</td>\n",
       "      <td>2019-11-09 07:05:05+00:00</td>\n",
       "      <td>25.00</td>\n",
       "      <td>1</td>\n",
       "    </tr>\n",
       "    <tr>\n",
       "      <th>69683</th>\n",
       "      <td>999</td>\n",
       "      <td>2019-03-20 10:58:04+00:00</td>\n",
       "      <td>250.00</td>\n",
       "      <td>1</td>\n",
       "    </tr>\n",
       "    <tr>\n",
       "      <th>69684</th>\n",
       "      <td>999</td>\n",
       "      <td>2019-03-20 13:13:11+00:00</td>\n",
       "      <td>500.00</td>\n",
       "      <td>1</td>\n",
       "    </tr>\n",
       "  </tbody>\n",
       "</table>\n",
       "<p>69685 rows × 4 columns</p>\n",
       "</div>"
      ],
      "text/plain": [
       "      user                      date               amount  type\n",
       "0        1 2019-03-01 17:24:43+00:00                30.00     1\n",
       "1        1 2019-03-01 19:54:04+00:00                50.00     1\n",
       "2        1 2019-03-01 22:44:15+00:00                40.00     1\n",
       "3        1 2019-03-02 02:44:20+00:00               100.00     1\n",
       "4        1 2019-03-02 18:28:39+00:00                25.00     1\n",
       "...    ...                       ...                  ...   ...\n",
       "69680  997 2019-09-22 00:56:47+00:00                50.00     1\n",
       "69681  998 2019-11-09 07:03:51+00:00                25.00     1\n",
       "69682  998 2019-11-09 07:05:05+00:00                25.00     1\n",
       "69683  999 2019-03-20 10:58:04+00:00               250.00     1\n",
       "69684  999 2019-03-20 13:13:11+00:00               500.00     1\n",
       "\n",
       "[69685 rows x 4 columns]"
      ]
     },
     "execution_count": 41,
     "metadata": {},
     "output_type": "execute_result"
    }
   ],
   "source": [
    "daily_activity = df_working.groupby(['user', 'date']) \\\n",
    "    .agg({'amount': 'sum', 'type': 'count'}) \\\n",
    "        .reset_index()\n",
    "        \n",
    "daily_activity"
   ]
  },
  {
   "cell_type": "code",
   "execution_count": 42,
   "metadata": {},
   "outputs": [
    {
     "data": {
      "text/html": [
       "<div>\n",
       "<style scoped>\n",
       "    .dataframe tbody tr th:only-of-type {\n",
       "        vertical-align: middle;\n",
       "    }\n",
       "\n",
       "    .dataframe tbody tr th {\n",
       "        vertical-align: top;\n",
       "    }\n",
       "\n",
       "    .dataframe thead th {\n",
       "        text-align: right;\n",
       "    }\n",
       "</style>\n",
       "<table border=\"1\" class=\"dataframe\">\n",
       "  <thead>\n",
       "    <tr style=\"text-align: right;\">\n",
       "      <th></th>\n",
       "      <th>user</th>\n",
       "      <th>date</th>\n",
       "      <th>amount</th>\n",
       "      <th>type</th>\n",
       "    </tr>\n",
       "  </thead>\n",
       "  <tbody>\n",
       "    <tr>\n",
       "      <th>0</th>\n",
       "      <td>1</td>\n",
       "      <td>2019-03-01 17:24:43+00:00</td>\n",
       "      <td>30.00</td>\n",
       "      <td>1</td>\n",
       "    </tr>\n",
       "    <tr>\n",
       "      <th>1</th>\n",
       "      <td>1</td>\n",
       "      <td>2019-03-01 19:54:04+00:00</td>\n",
       "      <td>50.00</td>\n",
       "      <td>1</td>\n",
       "    </tr>\n",
       "    <tr>\n",
       "      <th>2</th>\n",
       "      <td>1</td>\n",
       "      <td>2019-03-01 22:44:15+00:00</td>\n",
       "      <td>40.00</td>\n",
       "      <td>1</td>\n",
       "    </tr>\n",
       "    <tr>\n",
       "      <th>3</th>\n",
       "      <td>1</td>\n",
       "      <td>2019-03-02 02:44:20+00:00</td>\n",
       "      <td>100.00</td>\n",
       "      <td>1</td>\n",
       "    </tr>\n",
       "    <tr>\n",
       "      <th>4</th>\n",
       "      <td>1</td>\n",
       "      <td>2019-03-02 18:28:39+00:00</td>\n",
       "      <td>25.00</td>\n",
       "      <td>1</td>\n",
       "    </tr>\n",
       "    <tr>\n",
       "      <th>...</th>\n",
       "      <td>...</td>\n",
       "      <td>...</td>\n",
       "      <td>...</td>\n",
       "      <td>...</td>\n",
       "    </tr>\n",
       "    <tr>\n",
       "      <th>69680</th>\n",
       "      <td>997</td>\n",
       "      <td>2019-09-22 00:56:47+00:00</td>\n",
       "      <td>50.00</td>\n",
       "      <td>1</td>\n",
       "    </tr>\n",
       "    <tr>\n",
       "      <th>69681</th>\n",
       "      <td>998</td>\n",
       "      <td>2019-11-09 07:03:51+00:00</td>\n",
       "      <td>25.00</td>\n",
       "      <td>1</td>\n",
       "    </tr>\n",
       "    <tr>\n",
       "      <th>69682</th>\n",
       "      <td>998</td>\n",
       "      <td>2019-11-09 07:05:05+00:00</td>\n",
       "      <td>25.00</td>\n",
       "      <td>1</td>\n",
       "    </tr>\n",
       "    <tr>\n",
       "      <th>69683</th>\n",
       "      <td>999</td>\n",
       "      <td>2019-03-20 10:58:04+00:00</td>\n",
       "      <td>250.00</td>\n",
       "      <td>1</td>\n",
       "    </tr>\n",
       "    <tr>\n",
       "      <th>69684</th>\n",
       "      <td>999</td>\n",
       "      <td>2019-03-20 13:13:11+00:00</td>\n",
       "      <td>500.00</td>\n",
       "      <td>1</td>\n",
       "    </tr>\n",
       "  </tbody>\n",
       "</table>\n",
       "<p>69685 rows × 4 columns</p>\n",
       "</div>"
      ],
      "text/plain": [
       "      user                      date               amount  type\n",
       "0        1 2019-03-01 17:24:43+00:00                30.00     1\n",
       "1        1 2019-03-01 19:54:04+00:00                50.00     1\n",
       "2        1 2019-03-01 22:44:15+00:00                40.00     1\n",
       "3        1 2019-03-02 02:44:20+00:00               100.00     1\n",
       "4        1 2019-03-02 18:28:39+00:00                25.00     1\n",
       "...    ...                       ...                  ...   ...\n",
       "69680  997 2019-09-22 00:56:47+00:00                50.00     1\n",
       "69681  998 2019-11-09 07:03:51+00:00                25.00     1\n",
       "69682  998 2019-11-09 07:05:05+00:00                25.00     1\n",
       "69683  999 2019-03-20 10:58:04+00:00               250.00     1\n",
       "69684  999 2019-03-20 13:13:11+00:00               500.00     1\n",
       "\n",
       "[69685 rows x 4 columns]"
      ]
     },
     "execution_count": 42,
     "metadata": {},
     "output_type": "execute_result"
    }
   ],
   "source": [
    "daily_activity[daily_activity.user==\"customer1\"][0:20]\n",
    "\n",
    "daily_activity"
   ]
  },
  {
   "cell_type": "code",
   "execution_count": 43,
   "metadata": {},
   "outputs": [
    {
     "data": {
      "text/html": [
       "<div>\n",
       "<style scoped>\n",
       "    .dataframe tbody tr th:only-of-type {\n",
       "        vertical-align: middle;\n",
       "    }\n",
       "\n",
       "    .dataframe tbody tr th {\n",
       "        vertical-align: top;\n",
       "    }\n",
       "\n",
       "    .dataframe thead th {\n",
       "        text-align: right;\n",
       "    }\n",
       "</style>\n",
       "<table border=\"1\" class=\"dataframe\">\n",
       "  <thead>\n",
       "    <tr style=\"text-align: right;\">\n",
       "      <th></th>\n",
       "      <th>user</th>\n",
       "      <th>date</th>\n",
       "      <th>amount</th>\n",
       "      <th>type</th>\n",
       "    </tr>\n",
       "  </thead>\n",
       "  <tbody>\n",
       "    <tr>\n",
       "      <th>0</th>\n",
       "      <td>1</td>\n",
       "      <td>2019-03-01 17:24:43+00:00</td>\n",
       "      <td>30.00</td>\n",
       "      <td>1</td>\n",
       "    </tr>\n",
       "    <tr>\n",
       "      <th>1</th>\n",
       "      <td>1</td>\n",
       "      <td>2019-03-01 19:54:04+00:00</td>\n",
       "      <td>50.00</td>\n",
       "      <td>1</td>\n",
       "    </tr>\n",
       "    <tr>\n",
       "      <th>2</th>\n",
       "      <td>1</td>\n",
       "      <td>2019-03-01 22:44:15+00:00</td>\n",
       "      <td>40.00</td>\n",
       "      <td>1</td>\n",
       "    </tr>\n",
       "    <tr>\n",
       "      <th>3</th>\n",
       "      <td>1</td>\n",
       "      <td>2019-03-02 02:44:20+00:00</td>\n",
       "      <td>100.00</td>\n",
       "      <td>1</td>\n",
       "    </tr>\n",
       "    <tr>\n",
       "      <th>4</th>\n",
       "      <td>1</td>\n",
       "      <td>2019-03-02 18:28:39+00:00</td>\n",
       "      <td>25.00</td>\n",
       "      <td>1</td>\n",
       "    </tr>\n",
       "    <tr>\n",
       "      <th>5</th>\n",
       "      <td>1</td>\n",
       "      <td>2019-03-03 03:35:28+00:00</td>\n",
       "      <td>100.00</td>\n",
       "      <td>1</td>\n",
       "    </tr>\n",
       "    <tr>\n",
       "      <th>6</th>\n",
       "      <td>1</td>\n",
       "      <td>2019-03-03 18:13:42+00:00</td>\n",
       "      <td>100.00</td>\n",
       "      <td>1</td>\n",
       "    </tr>\n",
       "    <tr>\n",
       "      <th>7</th>\n",
       "      <td>1</td>\n",
       "      <td>2019-03-04 02:06:51+00:00</td>\n",
       "      <td>60.00</td>\n",
       "      <td>1</td>\n",
       "    </tr>\n",
       "    <tr>\n",
       "      <th>8</th>\n",
       "      <td>1</td>\n",
       "      <td>2019-03-04 02:41:59+00:00</td>\n",
       "      <td>50.00</td>\n",
       "      <td>1</td>\n",
       "    </tr>\n",
       "    <tr>\n",
       "      <th>9</th>\n",
       "      <td>1</td>\n",
       "      <td>2019-03-04 07:39:37+00:00</td>\n",
       "      <td>50.00</td>\n",
       "      <td>1</td>\n",
       "    </tr>\n",
       "    <tr>\n",
       "      <th>10</th>\n",
       "      <td>1</td>\n",
       "      <td>2019-03-05 04:49:11+00:00</td>\n",
       "      <td>80.00</td>\n",
       "      <td>1</td>\n",
       "    </tr>\n",
       "    <tr>\n",
       "      <th>11</th>\n",
       "      <td>1</td>\n",
       "      <td>2019-03-05 17:26:06+00:00</td>\n",
       "      <td>60.00</td>\n",
       "      <td>1</td>\n",
       "    </tr>\n",
       "    <tr>\n",
       "      <th>12</th>\n",
       "      <td>1</td>\n",
       "      <td>2019-03-05 20:44:59+00:00</td>\n",
       "      <td>100.00</td>\n",
       "      <td>1</td>\n",
       "    </tr>\n",
       "    <tr>\n",
       "      <th>13</th>\n",
       "      <td>1</td>\n",
       "      <td>2019-03-06 00:25:06+00:00</td>\n",
       "      <td>50.00</td>\n",
       "      <td>1</td>\n",
       "    </tr>\n",
       "    <tr>\n",
       "      <th>14</th>\n",
       "      <td>1</td>\n",
       "      <td>2019-03-06 05:26:24+00:00</td>\n",
       "      <td>100.00</td>\n",
       "      <td>1</td>\n",
       "    </tr>\n",
       "    <tr>\n",
       "      <th>15</th>\n",
       "      <td>1</td>\n",
       "      <td>2019-03-06 09:03:26+00:00</td>\n",
       "      <td>50.00</td>\n",
       "      <td>1</td>\n",
       "    </tr>\n",
       "    <tr>\n",
       "      <th>16</th>\n",
       "      <td>1</td>\n",
       "      <td>2019-03-06 17:33:58+00:00</td>\n",
       "      <td>100.00</td>\n",
       "      <td>1</td>\n",
       "    </tr>\n",
       "    <tr>\n",
       "      <th>17</th>\n",
       "      <td>1</td>\n",
       "      <td>2019-03-07 00:27:17+00:00</td>\n",
       "      <td>100.00</td>\n",
       "      <td>1</td>\n",
       "    </tr>\n",
       "    <tr>\n",
       "      <th>18</th>\n",
       "      <td>1</td>\n",
       "      <td>2019-03-07 17:19:01+00:00</td>\n",
       "      <td>100.00</td>\n",
       "      <td>1</td>\n",
       "    </tr>\n",
       "    <tr>\n",
       "      <th>19</th>\n",
       "      <td>1</td>\n",
       "      <td>2019-03-08 04:36:36+00:00</td>\n",
       "      <td>100.00</td>\n",
       "      <td>1</td>\n",
       "    </tr>\n",
       "  </tbody>\n",
       "</table>\n",
       "</div>"
      ],
      "text/plain": [
       "   user                      date               amount  type\n",
       "0     1 2019-03-01 17:24:43+00:00                30.00     1\n",
       "1     1 2019-03-01 19:54:04+00:00                50.00     1\n",
       "2     1 2019-03-01 22:44:15+00:00                40.00     1\n",
       "3     1 2019-03-02 02:44:20+00:00               100.00     1\n",
       "4     1 2019-03-02 18:28:39+00:00                25.00     1\n",
       "5     1 2019-03-03 03:35:28+00:00               100.00     1\n",
       "6     1 2019-03-03 18:13:42+00:00               100.00     1\n",
       "7     1 2019-03-04 02:06:51+00:00                60.00     1\n",
       "8     1 2019-03-04 02:41:59+00:00                50.00     1\n",
       "9     1 2019-03-04 07:39:37+00:00                50.00     1\n",
       "10    1 2019-03-05 04:49:11+00:00                80.00     1\n",
       "11    1 2019-03-05 17:26:06+00:00                60.00     1\n",
       "12    1 2019-03-05 20:44:59+00:00               100.00     1\n",
       "13    1 2019-03-06 00:25:06+00:00                50.00     1\n",
       "14    1 2019-03-06 05:26:24+00:00               100.00     1\n",
       "15    1 2019-03-06 09:03:26+00:00                50.00     1\n",
       "16    1 2019-03-06 17:33:58+00:00               100.00     1\n",
       "17    1 2019-03-07 00:27:17+00:00               100.00     1\n",
       "18    1 2019-03-07 17:19:01+00:00               100.00     1\n",
       "19    1 2019-03-08 04:36:36+00:00               100.00     1"
      ]
     },
     "execution_count": 43,
     "metadata": {},
     "output_type": "execute_result"
    }
   ],
   "source": [
    "c1 = daily_activity[daily_activity.user == '1'][0:20]\n",
    "c1"
   ]
  },
  {
   "cell_type": "markdown",
   "metadata": {},
   "source": [
    "looking at customer 1 there are gaps in the time line \n",
    "where this customer was not active\n",
    "This gap will not let us plot the data\n",
    "Create new df for customer 1 and fill in the gaps"
   ]
  },
  {
   "cell_type": "code",
   "execution_count": 44,
   "metadata": {},
   "outputs": [
    {
     "data": {
      "text/html": [
       "<div>\n",
       "<style scoped>\n",
       "    .dataframe tbody tr th:only-of-type {\n",
       "        vertical-align: middle;\n",
       "    }\n",
       "\n",
       "    .dataframe tbody tr th {\n",
       "        vertical-align: top;\n",
       "    }\n",
       "\n",
       "    .dataframe thead th {\n",
       "        text-align: right;\n",
       "    }\n",
       "</style>\n",
       "<table border=\"1\" class=\"dataframe\">\n",
       "  <thead>\n",
       "    <tr style=\"text-align: right;\">\n",
       "      <th></th>\n",
       "      <th>user</th>\n",
       "      <th>date</th>\n",
       "      <th>amount</th>\n",
       "      <th>type</th>\n",
       "    </tr>\n",
       "  </thead>\n",
       "  <tbody>\n",
       "    <tr>\n",
       "      <th>0</th>\n",
       "      <td>1</td>\n",
       "      <td>2019-03-01 17:24:43+00:00</td>\n",
       "      <td>30.00</td>\n",
       "      <td>1</td>\n",
       "    </tr>\n",
       "    <tr>\n",
       "      <th>1</th>\n",
       "      <td>1</td>\n",
       "      <td>2019-03-01 19:54:04+00:00</td>\n",
       "      <td>50.00</td>\n",
       "      <td>1</td>\n",
       "    </tr>\n",
       "    <tr>\n",
       "      <th>2</th>\n",
       "      <td>1</td>\n",
       "      <td>2019-03-01 22:44:15+00:00</td>\n",
       "      <td>40.00</td>\n",
       "      <td>1</td>\n",
       "    </tr>\n",
       "    <tr>\n",
       "      <th>3</th>\n",
       "      <td>1</td>\n",
       "      <td>2019-03-02 02:44:20+00:00</td>\n",
       "      <td>100.00</td>\n",
       "      <td>1</td>\n",
       "    </tr>\n",
       "    <tr>\n",
       "      <th>4</th>\n",
       "      <td>1</td>\n",
       "      <td>2019-03-02 18:28:39+00:00</td>\n",
       "      <td>25.00</td>\n",
       "      <td>1</td>\n",
       "    </tr>\n",
       "    <tr>\n",
       "      <th>...</th>\n",
       "      <td>...</td>\n",
       "      <td>...</td>\n",
       "      <td>...</td>\n",
       "      <td>...</td>\n",
       "    </tr>\n",
       "    <tr>\n",
       "      <th>439</th>\n",
       "      <td>1</td>\n",
       "      <td>2020-02-14 23:52:49+00:00</td>\n",
       "      <td>50.00</td>\n",
       "      <td>1</td>\n",
       "    </tr>\n",
       "    <tr>\n",
       "      <th>440</th>\n",
       "      <td>1</td>\n",
       "      <td>2020-02-15 08:25:20+00:00</td>\n",
       "      <td>30.00</td>\n",
       "      <td>1</td>\n",
       "    </tr>\n",
       "    <tr>\n",
       "      <th>441</th>\n",
       "      <td>1</td>\n",
       "      <td>2020-02-15 18:37:41+00:00</td>\n",
       "      <td>20.00</td>\n",
       "      <td>1</td>\n",
       "    </tr>\n",
       "    <tr>\n",
       "      <th>442</th>\n",
       "      <td>1</td>\n",
       "      <td>2020-02-15 21:17:59+00:00</td>\n",
       "      <td>20.00</td>\n",
       "      <td>1</td>\n",
       "    </tr>\n",
       "    <tr>\n",
       "      <th>443</th>\n",
       "      <td>1</td>\n",
       "      <td>2020-02-28 15:35:47+00:00</td>\n",
       "      <td>100.00</td>\n",
       "      <td>1</td>\n",
       "    </tr>\n",
       "  </tbody>\n",
       "</table>\n",
       "<p>444 rows × 4 columns</p>\n",
       "</div>"
      ],
      "text/plain": [
       "    user                      date               amount  type\n",
       "0      1 2019-03-01 17:24:43+00:00                30.00     1\n",
       "1      1 2019-03-01 19:54:04+00:00                50.00     1\n",
       "2      1 2019-03-01 22:44:15+00:00                40.00     1\n",
       "3      1 2019-03-02 02:44:20+00:00               100.00     1\n",
       "4      1 2019-03-02 18:28:39+00:00                25.00     1\n",
       "..   ...                       ...                  ...   ...\n",
       "439    1 2020-02-14 23:52:49+00:00                50.00     1\n",
       "440    1 2020-02-15 08:25:20+00:00                30.00     1\n",
       "441    1 2020-02-15 18:37:41+00:00                20.00     1\n",
       "442    1 2020-02-15 21:17:59+00:00                20.00     1\n",
       "443    1 2020-02-28 15:35:47+00:00               100.00     1\n",
       "\n",
       "[444 rows x 4 columns]"
      ]
     },
     "execution_count": 44,
     "metadata": {},
     "output_type": "execute_result"
    }
   ],
   "source": [
    "user_1_df = daily_activity[daily_activity.user == '1']\n",
    "user_1_df"
   ]
  },
  {
   "cell_type": "code",
   "execution_count": 45,
   "metadata": {},
   "outputs": [],
   "source": [
    "full_customer_df = pd.DataFrame()\n",
    "\n",
    "for customer_id in daily_activity.user.unique():\n",
    "    customer_df = daily_activity[daily_activity\\\n",
    "        .user == customer_id]\n",
    "    \n",
    "    full_range = pd.date_range(customer_df.date.min(),\n",
    "                           customer_df.date.max(), freq='D')\n",
    "    \n",
    "    customer_df = customer_df.set_index(keys = 'date')\n",
    "    \n",
    "    customer_df = customer_df.reindex(list(full_range), \n",
    "                                      fill_value=0)\n",
    "    customer_df.user = [customer_id]*len(customer_df)\n",
    "    \n",
    "    customer_df = customer_df.reset_index()\n",
    "    full_customer_df = pd.concat([full_customer_df, customer_df])\n",
    "    \n",
    "full_customer_df = full_customer_df.reset_index(drop=True)"
   ]
  },
  {
   "cell_type": "code",
   "execution_count": 46,
   "metadata": {},
   "outputs": [
    {
     "data": {
      "text/html": [
       "<div>\n",
       "<style scoped>\n",
       "    .dataframe tbody tr th:only-of-type {\n",
       "        vertical-align: middle;\n",
       "    }\n",
       "\n",
       "    .dataframe tbody tr th {\n",
       "        vertical-align: top;\n",
       "    }\n",
       "\n",
       "    .dataframe thead th {\n",
       "        text-align: right;\n",
       "    }\n",
       "</style>\n",
       "<table border=\"1\" class=\"dataframe\">\n",
       "  <thead>\n",
       "    <tr style=\"text-align: right;\">\n",
       "      <th></th>\n",
       "      <th>date</th>\n",
       "      <th>user</th>\n",
       "      <th>amount</th>\n",
       "      <th>type</th>\n",
       "    </tr>\n",
       "  </thead>\n",
       "  <tbody>\n",
       "    <tr>\n",
       "      <th>0</th>\n",
       "      <td>2019-03-01 17:24:43+00:00</td>\n",
       "      <td>1</td>\n",
       "      <td>30.00</td>\n",
       "      <td>1</td>\n",
       "    </tr>\n",
       "    <tr>\n",
       "      <th>1</th>\n",
       "      <td>2019-03-02 17:24:43+00:00</td>\n",
       "      <td>1</td>\n",
       "      <td>0.00</td>\n",
       "      <td>0</td>\n",
       "    </tr>\n",
       "    <tr>\n",
       "      <th>2</th>\n",
       "      <td>2019-03-03 17:24:43+00:00</td>\n",
       "      <td>1</td>\n",
       "      <td>0.00</td>\n",
       "      <td>0</td>\n",
       "    </tr>\n",
       "    <tr>\n",
       "      <th>3</th>\n",
       "      <td>2019-03-04 17:24:43+00:00</td>\n",
       "      <td>1</td>\n",
       "      <td>0.00</td>\n",
       "      <td>0</td>\n",
       "    </tr>\n",
       "    <tr>\n",
       "      <th>4</th>\n",
       "      <td>2019-03-05 17:24:43+00:00</td>\n",
       "      <td>1</td>\n",
       "      <td>0.00</td>\n",
       "      <td>0</td>\n",
       "    </tr>\n",
       "    <tr>\n",
       "      <th>...</th>\n",
       "      <td>...</td>\n",
       "      <td>...</td>\n",
       "      <td>...</td>\n",
       "      <td>...</td>\n",
       "    </tr>\n",
       "    <tr>\n",
       "      <th>164079</th>\n",
       "      <td>2019-09-11 09:31:02+00:00</td>\n",
       "      <td>996</td>\n",
       "      <td>0.00</td>\n",
       "      <td>0</td>\n",
       "    </tr>\n",
       "    <tr>\n",
       "      <th>164080</th>\n",
       "      <td>2019-09-12 09:31:02+00:00</td>\n",
       "      <td>996</td>\n",
       "      <td>0.00</td>\n",
       "      <td>0</td>\n",
       "    </tr>\n",
       "    <tr>\n",
       "      <th>164081</th>\n",
       "      <td>2019-09-22 00:56:47+00:00</td>\n",
       "      <td>997</td>\n",
       "      <td>50.00</td>\n",
       "      <td>1</td>\n",
       "    </tr>\n",
       "    <tr>\n",
       "      <th>164082</th>\n",
       "      <td>2019-11-09 07:03:51+00:00</td>\n",
       "      <td>998</td>\n",
       "      <td>25.00</td>\n",
       "      <td>1</td>\n",
       "    </tr>\n",
       "    <tr>\n",
       "      <th>164083</th>\n",
       "      <td>2019-03-20 10:58:04+00:00</td>\n",
       "      <td>999</td>\n",
       "      <td>250.00</td>\n",
       "      <td>1</td>\n",
       "    </tr>\n",
       "  </tbody>\n",
       "</table>\n",
       "<p>164084 rows × 4 columns</p>\n",
       "</div>"
      ],
      "text/plain": [
       "                            date user               amount  type\n",
       "0      2019-03-01 17:24:43+00:00    1                30.00     1\n",
       "1      2019-03-02 17:24:43+00:00    1                 0.00     0\n",
       "2      2019-03-03 17:24:43+00:00    1                 0.00     0\n",
       "3      2019-03-04 17:24:43+00:00    1                 0.00     0\n",
       "4      2019-03-05 17:24:43+00:00    1                 0.00     0\n",
       "...                          ...  ...                  ...   ...\n",
       "164079 2019-09-11 09:31:02+00:00  996                 0.00     0\n",
       "164080 2019-09-12 09:31:02+00:00  996                 0.00     0\n",
       "164081 2019-09-22 00:56:47+00:00  997                50.00     1\n",
       "164082 2019-11-09 07:03:51+00:00  998                25.00     1\n",
       "164083 2019-03-20 10:58:04+00:00  999               250.00     1\n",
       "\n",
       "[164084 rows x 4 columns]"
      ]
     },
     "execution_count": 46,
     "metadata": {},
     "output_type": "execute_result"
    }
   ],
   "source": [
    "full_customer_df"
   ]
  },
  {
   "cell_type": "markdown",
   "metadata": {},
   "source": [
    "Work up a Sankey plot"
   ]
  },
  {
   "cell_type": "code",
   "execution_count": 47,
   "metadata": {},
   "outputs": [
    {
     "name": "stderr",
     "output_type": "stream",
     "text": [
      "/tmp/ipykernel_29170/1831215148.py:2: UserWarning: Converting to PeriodArray/Index representation will drop timezone information.\n",
      "  to_period('M')\n"
     ]
    },
    {
     "data": {
      "text/html": [
       "<div>\n",
       "<style scoped>\n",
       "    .dataframe tbody tr th:only-of-type {\n",
       "        vertical-align: middle;\n",
       "    }\n",
       "\n",
       "    .dataframe tbody tr th {\n",
       "        vertical-align: top;\n",
       "    }\n",
       "\n",
       "    .dataframe thead th {\n",
       "        text-align: right;\n",
       "    }\n",
       "</style>\n",
       "<table border=\"1\" class=\"dataframe\">\n",
       "  <thead>\n",
       "    <tr style=\"text-align: right;\">\n",
       "      <th></th>\n",
       "      <th>user</th>\n",
       "      <th>month_x</th>\n",
       "      <th>month_y</th>\n",
       "    </tr>\n",
       "  </thead>\n",
       "  <tbody>\n",
       "    <tr>\n",
       "      <th>0</th>\n",
       "      <td>1</td>\n",
       "      <td>2019-03</td>\n",
       "      <td>2020-02</td>\n",
       "    </tr>\n",
       "    <tr>\n",
       "      <th>1</th>\n",
       "      <td>10</td>\n",
       "      <td>2019-03</td>\n",
       "      <td>2020-02</td>\n",
       "    </tr>\n",
       "    <tr>\n",
       "      <th>2</th>\n",
       "      <td>100</td>\n",
       "      <td>2019-06</td>\n",
       "      <td>2020-02</td>\n",
       "    </tr>\n",
       "    <tr>\n",
       "      <th>3</th>\n",
       "      <td>1000</td>\n",
       "      <td>2019-05</td>\n",
       "      <td>2019-05</td>\n",
       "    </tr>\n",
       "    <tr>\n",
       "      <th>4</th>\n",
       "      <td>1001</td>\n",
       "      <td>2019-07</td>\n",
       "      <td>2020-02</td>\n",
       "    </tr>\n",
       "    <tr>\n",
       "      <th>...</th>\n",
       "      <td>...</td>\n",
       "      <td>...</td>\n",
       "      <td>...</td>\n",
       "    </tr>\n",
       "    <tr>\n",
       "      <th>2275</th>\n",
       "      <td>995</td>\n",
       "      <td>2019-05</td>\n",
       "      <td>2020-02</td>\n",
       "    </tr>\n",
       "    <tr>\n",
       "      <th>2276</th>\n",
       "      <td>996</td>\n",
       "      <td>2019-03</td>\n",
       "      <td>2019-09</td>\n",
       "    </tr>\n",
       "    <tr>\n",
       "      <th>2277</th>\n",
       "      <td>997</td>\n",
       "      <td>2019-09</td>\n",
       "      <td>2019-09</td>\n",
       "    </tr>\n",
       "    <tr>\n",
       "      <th>2278</th>\n",
       "      <td>998</td>\n",
       "      <td>2019-11</td>\n",
       "      <td>2019-11</td>\n",
       "    </tr>\n",
       "    <tr>\n",
       "      <th>2279</th>\n",
       "      <td>999</td>\n",
       "      <td>2019-03</td>\n",
       "      <td>2019-03</td>\n",
       "    </tr>\n",
       "  </tbody>\n",
       "</table>\n",
       "<p>2280 rows × 3 columns</p>\n",
       "</div>"
      ],
      "text/plain": [
       "      user  month_x  month_y\n",
       "0        1  2019-03  2020-02\n",
       "1       10  2019-03  2020-02\n",
       "2      100  2019-06  2020-02\n",
       "3     1000  2019-05  2019-05\n",
       "4     1001  2019-07  2020-02\n",
       "...    ...      ...      ...\n",
       "2275   995  2019-05  2020-02\n",
       "2276   996  2019-03  2019-09\n",
       "2277   997  2019-09  2019-09\n",
       "2278   998  2019-11  2019-11\n",
       "2279   999  2019-03  2019-03\n",
       "\n",
       "[2280 rows x 3 columns]"
      ]
     },
     "execution_count": 47,
     "metadata": {},
     "output_type": "execute_result"
    }
   ],
   "source": [
    "full_customer_df['month'] = full_customer_df.date.dt.\\\n",
    "    to_period('M')\n",
    "\n",
    "customer_month = full_customer_df.groupby(['month', 'user']) \\\n",
    "    .count().reset_index().iloc[:, :2]\n",
    "    \n",
    "start_ = customer_month.groupby('user').min().reset_index()\n",
    "\n",
    "end_ = customer_month.groupby('user').max().reset_index()\n",
    "\n",
    "start_end_df = pd.merge(start_, end_, on='user')\n",
    "\n",
    "start_end_df\n"
   ]
  },
  {
   "cell_type": "code",
   "execution_count": 48,
   "metadata": {},
   "outputs": [],
   "source": [
    "source_target_value = start_end_df.groupby(['month_x', 'month_y']) \\\n",
    "    .count().reset_index()"
   ]
  },
  {
   "cell_type": "code",
   "execution_count": 49,
   "metadata": {},
   "outputs": [
    {
     "data": {
      "text/html": [
       "<div>\n",
       "<style scoped>\n",
       "    .dataframe tbody tr th:only-of-type {\n",
       "        vertical-align: middle;\n",
       "    }\n",
       "\n",
       "    .dataframe tbody tr th {\n",
       "        vertical-align: top;\n",
       "    }\n",
       "\n",
       "    .dataframe thead th {\n",
       "        text-align: right;\n",
       "    }\n",
       "</style>\n",
       "<table border=\"1\" class=\"dataframe\">\n",
       "  <thead>\n",
       "    <tr style=\"text-align: right;\">\n",
       "      <th></th>\n",
       "      <th>month_x</th>\n",
       "      <th>month_y</th>\n",
       "      <th>user</th>\n",
       "    </tr>\n",
       "  </thead>\n",
       "  <tbody>\n",
       "    <tr>\n",
       "      <th>0</th>\n",
       "      <td>2019-03</td>\n",
       "      <td>2019-03</td>\n",
       "      <td>278</td>\n",
       "    </tr>\n",
       "    <tr>\n",
       "      <th>1</th>\n",
       "      <td>2019-03</td>\n",
       "      <td>2019-04</td>\n",
       "      <td>57</td>\n",
       "    </tr>\n",
       "    <tr>\n",
       "      <th>2</th>\n",
       "      <td>2019-03</td>\n",
       "      <td>2019-05</td>\n",
       "      <td>49</td>\n",
       "    </tr>\n",
       "    <tr>\n",
       "      <th>3</th>\n",
       "      <td>2019-03</td>\n",
       "      <td>2019-06</td>\n",
       "      <td>32</td>\n",
       "    </tr>\n",
       "    <tr>\n",
       "      <th>4</th>\n",
       "      <td>2019-03</td>\n",
       "      <td>2019-07</td>\n",
       "      <td>27</td>\n",
       "    </tr>\n",
       "    <tr>\n",
       "      <th>...</th>\n",
       "      <td>...</td>\n",
       "      <td>...</td>\n",
       "      <td>...</td>\n",
       "    </tr>\n",
       "    <tr>\n",
       "      <th>73</th>\n",
       "      <td>2019-12</td>\n",
       "      <td>2020-01</td>\n",
       "      <td>17</td>\n",
       "    </tr>\n",
       "    <tr>\n",
       "      <th>74</th>\n",
       "      <td>2019-12</td>\n",
       "      <td>2020-02</td>\n",
       "      <td>30</td>\n",
       "    </tr>\n",
       "    <tr>\n",
       "      <th>75</th>\n",
       "      <td>2020-01</td>\n",
       "      <td>2020-01</td>\n",
       "      <td>135</td>\n",
       "    </tr>\n",
       "    <tr>\n",
       "      <th>76</th>\n",
       "      <td>2020-01</td>\n",
       "      <td>2020-02</td>\n",
       "      <td>37</td>\n",
       "    </tr>\n",
       "    <tr>\n",
       "      <th>77</th>\n",
       "      <td>2020-02</td>\n",
       "      <td>2020-02</td>\n",
       "      <td>123</td>\n",
       "    </tr>\n",
       "  </tbody>\n",
       "</table>\n",
       "<p>78 rows × 3 columns</p>\n",
       "</div>"
      ],
      "text/plain": [
       "    month_x  month_y  user\n",
       "0   2019-03  2019-03   278\n",
       "1   2019-03  2019-04    57\n",
       "2   2019-03  2019-05    49\n",
       "3   2019-03  2019-06    32\n",
       "4   2019-03  2019-07    27\n",
       "..      ...      ...   ...\n",
       "73  2019-12  2020-01    17\n",
       "74  2019-12  2020-02    30\n",
       "75  2020-01  2020-01   135\n",
       "76  2020-01  2020-02    37\n",
       "77  2020-02  2020-02   123\n",
       "\n",
       "[78 rows x 3 columns]"
      ]
     },
     "execution_count": 49,
     "metadata": {},
     "output_type": "execute_result"
    }
   ],
   "source": [
    "source_target_value"
   ]
  },
  {
   "cell_type": "markdown",
   "metadata": {},
   "source": [
    "Use LabelEncoder to get data into shape for Sankey plot"
   ]
  },
  {
   "cell_type": "code",
   "execution_count": 50,
   "metadata": {},
   "outputs": [
    {
     "data": {
      "text/plain": [
       "array([ 0,  1,  2,  3,  4,  5,  6,  7,  8,  9, 10, 11])"
      ]
     },
     "execution_count": 50,
     "metadata": {},
     "output_type": "execute_result"
    }
   ],
   "source": [
    "le = LabelEncoder()\n",
    "le.fit_transform(source_target_value.month_x.unique())"
   ]
  },
  {
   "cell_type": "code",
   "execution_count": 52,
   "metadata": {},
   "outputs": [
    {
     "data": {
      "application/vnd.plotly.v1+json": {
       "config": {
        "plotlyServerURL": "https://plot.ly"
       },
       "data": [
        {
         "link": {
          "source": [
           0,
           0,
           0,
           0,
           0,
           0,
           0,
           0,
           0,
           0,
           0,
           0,
           1,
           1,
           1,
           1,
           1,
           1,
           1,
           1,
           1,
           1,
           1,
           2,
           2,
           2,
           2,
           2,
           2,
           2,
           2,
           2,
           2,
           3,
           3,
           3,
           3,
           3,
           3,
           3,
           3,
           3,
           4,
           4,
           4,
           4,
           4,
           4,
           4,
           4,
           5,
           5,
           5,
           5,
           5,
           5,
           5,
           6,
           6,
           6,
           6,
           6,
           6,
           7,
           7,
           7,
           7,
           7,
           8,
           8,
           8,
           8,
           9,
           9,
           9,
           10,
           10,
           11
          ],
          "target": [
           0,
           1,
           2,
           3,
           4,
           5,
           6,
           7,
           8,
           9,
           10,
           11,
           1,
           2,
           3,
           4,
           5,
           6,
           7,
           8,
           9,
           10,
           11,
           2,
           3,
           4,
           5,
           6,
           7,
           8,
           9,
           10,
           11,
           3,
           4,
           5,
           6,
           7,
           8,
           9,
           10,
           11,
           4,
           5,
           6,
           7,
           8,
           9,
           10,
           11,
           5,
           6,
           7,
           8,
           9,
           10,
           11,
           6,
           7,
           8,
           9,
           10,
           11,
           7,
           8,
           9,
           10,
           11,
           8,
           9,
           10,
           11,
           9,
           10,
           11,
           10,
           11,
           11
          ],
          "value": [
           278,
           57,
           49,
           32,
           27,
           31,
           19,
           25,
           24,
           32,
           28,
           141,
           93,
           19,
           16,
           13,
           10,
           9,
           7,
           6,
           10,
           7,
           15,
           106,
           15,
           6,
           4,
           8,
           4,
           6,
           3,
           5,
           20,
           82,
           18,
           6,
           3,
           5,
           3,
           6,
           3,
           18,
           94,
           8,
           6,
           9,
           2,
           4,
           2,
           13,
           80,
           9,
           5,
           6,
           3,
           4,
           15,
           70,
           11,
           5,
           6,
           4,
           10,
           62,
           9,
           2,
           10,
           22,
           66,
           18,
           5,
           22,
           87,
           17,
           30,
           135,
           37,
           123
          ]
         },
         "node": {
          "color": "orange",
          "label": [
           "Mar",
           "Apr",
           "May",
           "Jun",
           "Jul",
           "Aug",
           "Sep",
           "Oct",
           "Nov",
           "Dec",
           "Jan",
           "Feb"
          ],
          "line": {
           "color": "gray",
           "width": 0.5
          },
          "pad": 100,
          "thickness": 10
         },
         "type": "sankey"
        }
       ],
       "layout": {
        "font": {
         "size": 10
        },
        "template": {
         "data": {
          "bar": [
           {
            "error_x": {
             "color": "#2a3f5f"
            },
            "error_y": {
             "color": "#2a3f5f"
            },
            "marker": {
             "line": {
              "color": "#E5ECF6",
              "width": 0.5
             },
             "pattern": {
              "fillmode": "overlay",
              "size": 10,
              "solidity": 0.2
             }
            },
            "type": "bar"
           }
          ],
          "barpolar": [
           {
            "marker": {
             "line": {
              "color": "#E5ECF6",
              "width": 0.5
             },
             "pattern": {
              "fillmode": "overlay",
              "size": 10,
              "solidity": 0.2
             }
            },
            "type": "barpolar"
           }
          ],
          "carpet": [
           {
            "aaxis": {
             "endlinecolor": "#2a3f5f",
             "gridcolor": "white",
             "linecolor": "white",
             "minorgridcolor": "white",
             "startlinecolor": "#2a3f5f"
            },
            "baxis": {
             "endlinecolor": "#2a3f5f",
             "gridcolor": "white",
             "linecolor": "white",
             "minorgridcolor": "white",
             "startlinecolor": "#2a3f5f"
            },
            "type": "carpet"
           }
          ],
          "choropleth": [
           {
            "colorbar": {
             "outlinewidth": 0,
             "ticks": ""
            },
            "type": "choropleth"
           }
          ],
          "contour": [
           {
            "colorbar": {
             "outlinewidth": 0,
             "ticks": ""
            },
            "colorscale": [
             [
              0,
              "#0d0887"
             ],
             [
              0.1111111111111111,
              "#46039f"
             ],
             [
              0.2222222222222222,
              "#7201a8"
             ],
             [
              0.3333333333333333,
              "#9c179e"
             ],
             [
              0.4444444444444444,
              "#bd3786"
             ],
             [
              0.5555555555555556,
              "#d8576b"
             ],
             [
              0.6666666666666666,
              "#ed7953"
             ],
             [
              0.7777777777777778,
              "#fb9f3a"
             ],
             [
              0.8888888888888888,
              "#fdca26"
             ],
             [
              1,
              "#f0f921"
             ]
            ],
            "type": "contour"
           }
          ],
          "contourcarpet": [
           {
            "colorbar": {
             "outlinewidth": 0,
             "ticks": ""
            },
            "type": "contourcarpet"
           }
          ],
          "heatmap": [
           {
            "colorbar": {
             "outlinewidth": 0,
             "ticks": ""
            },
            "colorscale": [
             [
              0,
              "#0d0887"
             ],
             [
              0.1111111111111111,
              "#46039f"
             ],
             [
              0.2222222222222222,
              "#7201a8"
             ],
             [
              0.3333333333333333,
              "#9c179e"
             ],
             [
              0.4444444444444444,
              "#bd3786"
             ],
             [
              0.5555555555555556,
              "#d8576b"
             ],
             [
              0.6666666666666666,
              "#ed7953"
             ],
             [
              0.7777777777777778,
              "#fb9f3a"
             ],
             [
              0.8888888888888888,
              "#fdca26"
             ],
             [
              1,
              "#f0f921"
             ]
            ],
            "type": "heatmap"
           }
          ],
          "heatmapgl": [
           {
            "colorbar": {
             "outlinewidth": 0,
             "ticks": ""
            },
            "colorscale": [
             [
              0,
              "#0d0887"
             ],
             [
              0.1111111111111111,
              "#46039f"
             ],
             [
              0.2222222222222222,
              "#7201a8"
             ],
             [
              0.3333333333333333,
              "#9c179e"
             ],
             [
              0.4444444444444444,
              "#bd3786"
             ],
             [
              0.5555555555555556,
              "#d8576b"
             ],
             [
              0.6666666666666666,
              "#ed7953"
             ],
             [
              0.7777777777777778,
              "#fb9f3a"
             ],
             [
              0.8888888888888888,
              "#fdca26"
             ],
             [
              1,
              "#f0f921"
             ]
            ],
            "type": "heatmapgl"
           }
          ],
          "histogram": [
           {
            "marker": {
             "pattern": {
              "fillmode": "overlay",
              "size": 10,
              "solidity": 0.2
             }
            },
            "type": "histogram"
           }
          ],
          "histogram2d": [
           {
            "colorbar": {
             "outlinewidth": 0,
             "ticks": ""
            },
            "colorscale": [
             [
              0,
              "#0d0887"
             ],
             [
              0.1111111111111111,
              "#46039f"
             ],
             [
              0.2222222222222222,
              "#7201a8"
             ],
             [
              0.3333333333333333,
              "#9c179e"
             ],
             [
              0.4444444444444444,
              "#bd3786"
             ],
             [
              0.5555555555555556,
              "#d8576b"
             ],
             [
              0.6666666666666666,
              "#ed7953"
             ],
             [
              0.7777777777777778,
              "#fb9f3a"
             ],
             [
              0.8888888888888888,
              "#fdca26"
             ],
             [
              1,
              "#f0f921"
             ]
            ],
            "type": "histogram2d"
           }
          ],
          "histogram2dcontour": [
           {
            "colorbar": {
             "outlinewidth": 0,
             "ticks": ""
            },
            "colorscale": [
             [
              0,
              "#0d0887"
             ],
             [
              0.1111111111111111,
              "#46039f"
             ],
             [
              0.2222222222222222,
              "#7201a8"
             ],
             [
              0.3333333333333333,
              "#9c179e"
             ],
             [
              0.4444444444444444,
              "#bd3786"
             ],
             [
              0.5555555555555556,
              "#d8576b"
             ],
             [
              0.6666666666666666,
              "#ed7953"
             ],
             [
              0.7777777777777778,
              "#fb9f3a"
             ],
             [
              0.8888888888888888,
              "#fdca26"
             ],
             [
              1,
              "#f0f921"
             ]
            ],
            "type": "histogram2dcontour"
           }
          ],
          "mesh3d": [
           {
            "colorbar": {
             "outlinewidth": 0,
             "ticks": ""
            },
            "type": "mesh3d"
           }
          ],
          "parcoords": [
           {
            "line": {
             "colorbar": {
              "outlinewidth": 0,
              "ticks": ""
             }
            },
            "type": "parcoords"
           }
          ],
          "pie": [
           {
            "automargin": true,
            "type": "pie"
           }
          ],
          "scatter": [
           {
            "fillpattern": {
             "fillmode": "overlay",
             "size": 10,
             "solidity": 0.2
            },
            "type": "scatter"
           }
          ],
          "scatter3d": [
           {
            "line": {
             "colorbar": {
              "outlinewidth": 0,
              "ticks": ""
             }
            },
            "marker": {
             "colorbar": {
              "outlinewidth": 0,
              "ticks": ""
             }
            },
            "type": "scatter3d"
           }
          ],
          "scattercarpet": [
           {
            "marker": {
             "colorbar": {
              "outlinewidth": 0,
              "ticks": ""
             }
            },
            "type": "scattercarpet"
           }
          ],
          "scattergeo": [
           {
            "marker": {
             "colorbar": {
              "outlinewidth": 0,
              "ticks": ""
             }
            },
            "type": "scattergeo"
           }
          ],
          "scattergl": [
           {
            "marker": {
             "colorbar": {
              "outlinewidth": 0,
              "ticks": ""
             }
            },
            "type": "scattergl"
           }
          ],
          "scattermapbox": [
           {
            "marker": {
             "colorbar": {
              "outlinewidth": 0,
              "ticks": ""
             }
            },
            "type": "scattermapbox"
           }
          ],
          "scatterpolar": [
           {
            "marker": {
             "colorbar": {
              "outlinewidth": 0,
              "ticks": ""
             }
            },
            "type": "scatterpolar"
           }
          ],
          "scatterpolargl": [
           {
            "marker": {
             "colorbar": {
              "outlinewidth": 0,
              "ticks": ""
             }
            },
            "type": "scatterpolargl"
           }
          ],
          "scatterternary": [
           {
            "marker": {
             "colorbar": {
              "outlinewidth": 0,
              "ticks": ""
             }
            },
            "type": "scatterternary"
           }
          ],
          "surface": [
           {
            "colorbar": {
             "outlinewidth": 0,
             "ticks": ""
            },
            "colorscale": [
             [
              0,
              "#0d0887"
             ],
             [
              0.1111111111111111,
              "#46039f"
             ],
             [
              0.2222222222222222,
              "#7201a8"
             ],
             [
              0.3333333333333333,
              "#9c179e"
             ],
             [
              0.4444444444444444,
              "#bd3786"
             ],
             [
              0.5555555555555556,
              "#d8576b"
             ],
             [
              0.6666666666666666,
              "#ed7953"
             ],
             [
              0.7777777777777778,
              "#fb9f3a"
             ],
             [
              0.8888888888888888,
              "#fdca26"
             ],
             [
              1,
              "#f0f921"
             ]
            ],
            "type": "surface"
           }
          ],
          "table": [
           {
            "cells": {
             "fill": {
              "color": "#EBF0F8"
             },
             "line": {
              "color": "white"
             }
            },
            "header": {
             "fill": {
              "color": "#C8D4E3"
             },
             "line": {
              "color": "white"
             }
            },
            "type": "table"
           }
          ]
         },
         "layout": {
          "annotationdefaults": {
           "arrowcolor": "#2a3f5f",
           "arrowhead": 0,
           "arrowwidth": 1
          },
          "autotypenumbers": "strict",
          "coloraxis": {
           "colorbar": {
            "outlinewidth": 0,
            "ticks": ""
           }
          },
          "colorscale": {
           "diverging": [
            [
             0,
             "#8e0152"
            ],
            [
             0.1,
             "#c51b7d"
            ],
            [
             0.2,
             "#de77ae"
            ],
            [
             0.3,
             "#f1b6da"
            ],
            [
             0.4,
             "#fde0ef"
            ],
            [
             0.5,
             "#f7f7f7"
            ],
            [
             0.6,
             "#e6f5d0"
            ],
            [
             0.7,
             "#b8e186"
            ],
            [
             0.8,
             "#7fbc41"
            ],
            [
             0.9,
             "#4d9221"
            ],
            [
             1,
             "#276419"
            ]
           ],
           "sequential": [
            [
             0,
             "#0d0887"
            ],
            [
             0.1111111111111111,
             "#46039f"
            ],
            [
             0.2222222222222222,
             "#7201a8"
            ],
            [
             0.3333333333333333,
             "#9c179e"
            ],
            [
             0.4444444444444444,
             "#bd3786"
            ],
            [
             0.5555555555555556,
             "#d8576b"
            ],
            [
             0.6666666666666666,
             "#ed7953"
            ],
            [
             0.7777777777777778,
             "#fb9f3a"
            ],
            [
             0.8888888888888888,
             "#fdca26"
            ],
            [
             1,
             "#f0f921"
            ]
           ],
           "sequentialminus": [
            [
             0,
             "#0d0887"
            ],
            [
             0.1111111111111111,
             "#46039f"
            ],
            [
             0.2222222222222222,
             "#7201a8"
            ],
            [
             0.3333333333333333,
             "#9c179e"
            ],
            [
             0.4444444444444444,
             "#bd3786"
            ],
            [
             0.5555555555555556,
             "#d8576b"
            ],
            [
             0.6666666666666666,
             "#ed7953"
            ],
            [
             0.7777777777777778,
             "#fb9f3a"
            ],
            [
             0.8888888888888888,
             "#fdca26"
            ],
            [
             1,
             "#f0f921"
            ]
           ]
          },
          "colorway": [
           "#636efa",
           "#EF553B",
           "#00cc96",
           "#ab63fa",
           "#FFA15A",
           "#19d3f3",
           "#FF6692",
           "#B6E880",
           "#FF97FF",
           "#FECB52"
          ],
          "font": {
           "color": "#2a3f5f"
          },
          "geo": {
           "bgcolor": "white",
           "lakecolor": "white",
           "landcolor": "#E5ECF6",
           "showlakes": true,
           "showland": true,
           "subunitcolor": "white"
          },
          "hoverlabel": {
           "align": "left"
          },
          "hovermode": "closest",
          "mapbox": {
           "style": "light"
          },
          "paper_bgcolor": "white",
          "plot_bgcolor": "#E5ECF6",
          "polar": {
           "angularaxis": {
            "gridcolor": "white",
            "linecolor": "white",
            "ticks": ""
           },
           "bgcolor": "#E5ECF6",
           "radialaxis": {
            "gridcolor": "white",
            "linecolor": "white",
            "ticks": ""
           }
          },
          "scene": {
           "xaxis": {
            "backgroundcolor": "#E5ECF6",
            "gridcolor": "white",
            "gridwidth": 2,
            "linecolor": "white",
            "showbackground": true,
            "ticks": "",
            "zerolinecolor": "white"
           },
           "yaxis": {
            "backgroundcolor": "#E5ECF6",
            "gridcolor": "white",
            "gridwidth": 2,
            "linecolor": "white",
            "showbackground": true,
            "ticks": "",
            "zerolinecolor": "white"
           },
           "zaxis": {
            "backgroundcolor": "#E5ECF6",
            "gridcolor": "white",
            "gridwidth": 2,
            "linecolor": "white",
            "showbackground": true,
            "ticks": "",
            "zerolinecolor": "white"
           }
          },
          "shapedefaults": {
           "line": {
            "color": "#2a3f5f"
           }
          },
          "ternary": {
           "aaxis": {
            "gridcolor": "white",
            "linecolor": "white",
            "ticks": ""
           },
           "baxis": {
            "gridcolor": "white",
            "linecolor": "white",
            "ticks": ""
           },
           "bgcolor": "#E5ECF6",
           "caxis": {
            "gridcolor": "white",
            "linecolor": "white",
            "ticks": ""
           }
          },
          "title": {
           "x": 0.05
          },
          "xaxis": {
           "automargin": true,
           "gridcolor": "white",
           "linecolor": "white",
           "ticks": "",
           "title": {
            "standoff": 15
           },
           "zerolinecolor": "white",
           "zerolinewidth": 2
          },
          "yaxis": {
           "automargin": true,
           "gridcolor": "white",
           "linecolor": "white",
           "ticks": "",
           "title": {
            "standoff": 15
           },
           "zerolinecolor": "white",
           "zerolinewidth": 2
          }
         }
        },
        "title": {
         "text": "Customer Lifetime: Mar - Feb"
        }
       }
      }
     },
     "metadata": {},
     "output_type": "display_data"
    }
   ],
   "source": [
    "fig = go.Figure(data=[go.Sankey(node=dict(\n",
    "    pad=100,\n",
    "    thickness = 10,\n",
    "    line = dict(color = 'gray', width = 0.5),\n",
    "    label = ['Mar', 'Apr', 'May', 'Jun', 'Jul', 'Aug',\n",
    "            'Sep', 'Oct', 'Nov', 'Dec', 'Jan', 'Feb' ],\n",
    "    color = 'orange'),\n",
    "                  link = dict(\n",
    "                      source = le.transform(source_target_value.month_x.tolist()),\n",
    "                      target = le.transform(source_target_value.month_y.tolist()),\n",
    "                      value = source_target_value.user.tolist(),\n",
    "                      #hovercolor=['black']\n",
    "))])\n",
    "\n",
    "fig.update_layout(title_text=\"Customer Lifetime: Mar - Feb\",\n",
    "                  font_size=10)\n",
    "fig.show()"
   ]
  }
 ],
 "metadata": {
  "kernelspec": {
   "display_name": "Python 3",
   "language": "python",
   "name": "python3"
  },
  "language_info": {
   "codemirror_mode": {
    "name": "ipython",
    "version": 3
   },
   "file_extension": ".py",
   "mimetype": "text/x-python",
   "name": "python",
   "nbconvert_exporter": "python",
   "pygments_lexer": "ipython3",
   "version": "3.10.12"
  }
 },
 "nbformat": 4,
 "nbformat_minor": 2
}
