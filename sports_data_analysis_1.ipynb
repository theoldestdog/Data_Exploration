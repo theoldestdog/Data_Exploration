{
 "cells": [
  {
   "cell_type": "code",
   "execution_count": null,
   "metadata": {},
   "outputs": [],
   "source": [
    "import pandas as pd\n",
    "import numpy as np\n",
    "from datetime import datetime as dt\n",
    "pd.options.mode.chained_assignment = None\n",
    "from sklearn.preprocessing import LabelEncoder"
   ]
  },
  {
   "cell_type": "code",
   "execution_count": null,
   "metadata": {},
   "outputs": [],
   "source": [
    "import seaborn as sns\n",
    "import plotly.graph_objects as go \n",
    "import matplotlib.pyplot as plt"
   ]
  },
  {
   "cell_type": "markdown",
   "metadata": {},
   "source": [
    "Use the online sports gaming data set to perform data analysis and determine preliminary features"
   ]
  },
  {
   "cell_type": "code",
   "execution_count": null,
   "metadata": {},
   "outputs": [],
   "source": [
    "df_raw = pd.read_csv('Online_sports_DIB.csv')"
   ]
  },
  {
   "cell_type": "markdown",
   "metadata": {},
   "source": [
    "Do basic data gathering in the df\n",
    "1. ReqTimeUTC is type obj so convert to datetime\n",
    "2. 4 columns are 447853 but Status is only 447847 - find out why\n",
    "3. Shorten up the column titles to something more manageable\n",
    "4. The data period ends 2020-02-29 exclude any lines past that date and there are some\n",
    "5. Re-code the Transaction type into shorter and meaningful length\n",
    "6. Strip of 'customer' from the user column leaving only the customer number\n"
   ]
  },
  {
   "cell_type": "code",
   "execution_count": null,
   "metadata": {},
   "outputs": [],
   "source": [
    "df = df_raw.copy()"
   ]
  },
  {
   "cell_type": "code",
   "execution_count": null,
   "metadata": {},
   "outputs": [],
   "source": [
    "df.head()"
   ]
  },
  {
   "cell_type": "code",
   "execution_count": null,
   "metadata": {},
   "outputs": [],
   "source": [
    "df.dtypes"
   ]
  },
  {
   "cell_type": "code",
   "execution_count": null,
   "metadata": {},
   "outputs": [],
   "source": [
    "df.info()"
   ]
  },
  {
   "cell_type": "code",
   "execution_count": null,
   "metadata": {},
   "outputs": [],
   "source": [
    "df.describe()"
   ]
  },
  {
   "cell_type": "code",
   "execution_count": null,
   "metadata": {},
   "outputs": [],
   "source": [
    "df.describe(include='O')"
   ]
  },
  {
   "cell_type": "code",
   "execution_count": null,
   "metadata": {},
   "outputs": [],
   "source": [
    "# Change dtype\n",
    "\n",
    "df.ReqTimeUTC = pd.to_datetime(df.ReqTimeUTC)\n",
    "df.dtypes"
   ]
  },
  {
   "cell_type": "code",
   "execution_count": null,
   "metadata": {},
   "outputs": [],
   "source": [
    "# Remove dates after end of Feb\n",
    "\n",
    "df = df[df.ReqTimeUTC <= '2020-02-29 00:00:00+00:00'].copy()\n",
    "df.head()"
   ]
  },
  {
   "cell_type": "code",
   "execution_count": null,
   "metadata": {},
   "outputs": [],
   "source": [
    "#find missing entries in Status\n",
    "\n",
    "missing_entries = df[df['Status'].isna()]\n",
    "print(missing_entries)"
   ]
  },
  {
   "cell_type": "code",
   "execution_count": null,
   "metadata": {},
   "outputs": [],
   "source": [
    "# Drop rows with missing values in 'your_column'\n",
    "df = df.dropna(subset=['Status'])\n",
    "df.info()\n"
   ]
  },
  {
   "cell_type": "code",
   "execution_count": null,
   "metadata": {},
   "outputs": [],
   "source": [
    "df.TransactionType.unique()"
   ]
  },
  {
   "cell_type": "markdown",
   "metadata": {},
   "source": [
    "Mapping for TransactionType \n",
    "LOYALTYCARDCREDITACH: L1D, LOYALTYCARDCREDITCL: L1D,\n",
    "LOYALTYCARDDEBIT: L2D,  LOYALTYCARDCREDIT: L2W"
   ]
  },
  {
   "cell_type": "code",
   "execution_count": null,
   "metadata": {},
   "outputs": [],
   "source": [
    "df.TransactionType = df.TransactionType.map({'LOYALTYCARDCREDITACH':'L1D', 'LOYALTYCARDCREDITCL':'L1D',\n",
    "'LOYALTYCARDDEBIT':'L2D', 'LOYALTYCARDCREDIT':'L2W'})\n",
    "\n",
    "df"
   ]
  },
  {
   "cell_type": "code",
   "execution_count": null,
   "metadata": {},
   "outputs": [],
   "source": [
    "# Rename the columns\n",
    "\n",
    "df.rename(columns= {'AccountIdentifier':'user', 'ReqTimeUTC':'date', 'Status':'status',\n",
    "                     'TransactionType':'type', 'TransactionAmount':'amount'}, inplace=True)\n",
    "\n",
    "df"
   ]
  },
  {
   "cell_type": "code",
   "execution_count": null,
   "metadata": {},
   "outputs": [],
   "source": [
    "# Strip off the 'Customer' prefix in the user column. Leave just the id number\n",
    "\n",
    "df['user'] = df['user'].str.replace('customer', '', regex=True)\n",
    "\n",
    "df"
   ]
  },
  {
   "cell_type": "code",
   "execution_count": null,
   "metadata": {},
   "outputs": [],
   "source": [
    "# Group the df by user and type to see what we've got"
   ]
  },
  {
   "cell_type": "code",
   "execution_count": null,
   "metadata": {},
   "outputs": [],
   "source": [
    "df.groupby(['user', 'type']).count().reset_index()"
   ]
  },
  {
   "cell_type": "code",
   "execution_count": null,
   "metadata": {},
   "outputs": [],
   "source": [
    "user_type_ =df.groupby(['user', 'type']).count().reset_index()"
   ]
  },
  {
   "cell_type": "markdown",
   "metadata": {},
   "source": [
    "Plot the result using a cumulative "
   ]
  },
  {
   "cell_type": "code",
   "execution_count": null,
   "metadata": {},
   "outputs": [],
   "source": [
    "sns.histplot(data=user_type_, x='date', hue='type',\n",
    "             cumulative=True, stat='density',\n",
    "             element='step', fill=False)"
   ]
  },
  {
   "cell_type": "markdown",
   "metadata": {},
   "source": [
    "As for the casino data the L1D and L2D map closely together and the L2W plot is closer than the casino plot\n",
    "but still not useful.\n",
    "Drop the L1D data and keep the L1D APPROVED data for analysis"
   ]
  },
  {
   "cell_type": "code",
   "execution_count": null,
   "metadata": {},
   "outputs": [],
   "source": [
    "df_working = df.copy()\n",
    "df_working.head(2)"
   ]
  },
  {
   "cell_type": "code",
   "execution_count": null,
   "metadata": {},
   "outputs": [],
   "source": [
    "df_working = df_working[(df_working['type'] == 'L2D') & \\\n",
    "                        (df_working['status'] == 'APPROVED')].reset_index(drop=True)\n",
    "df_working.head(2)"
   ]
  },
  {
   "cell_type": "code",
   "execution_count": null,
   "metadata": {},
   "outputs": [],
   "source": [
    "df_working = df_working[['user', 'date', 'type', 'amount']]\n",
    "df_working = df_working.sort_values(['user', 'date']) \\\n",
    ".reset_index(drop=True)\n",
    "\n",
    "df_working.head()"
   ]
  },
  {
   "cell_type": "markdown",
   "metadata": {},
   "source": [
    "Find the top 20 dollar depositors and the top most frequent depositors\n",
    "1. get a frequency count\n",
    "2. reset indices\n",
    "3. select first 2 cols\n",
    "4. sort by date, reverse the sort and take top 20 values\n",
    "5. put the top 20 in a new df and clean it up"
   ]
  },
  {
   "cell_type": "code",
   "execution_count": null,
   "metadata": {},
   "outputs": [],
   "source": [
    "df_working.groupby('user').count()"
   ]
  },
  {
   "cell_type": "code",
   "execution_count": null,
   "metadata": {},
   "outputs": [],
   "source": [
    "df_working.groupby('user').count().reset_index()"
   ]
  },
  {
   "cell_type": "code",
   "execution_count": null,
   "metadata": {},
   "outputs": [],
   "source": [
    "# add iloc :=all rows, 0:2 cols 0 and 1 to isolate user and date\n",
    "\n",
    "df_working.groupby('user').count().reset_index()\\\n",
    "    .iloc[:,0:2]\n"
   ]
  },
  {
   "cell_type": "code",
   "execution_count": null,
   "metadata": {},
   "outputs": [],
   "source": [
    "# sort the value -1 is high to low, then pick top 20 rows\n",
    "\n",
    "df_working.groupby('user').count().reset_index()\\\n",
    "    .iloc[:,0:2].sort_values('date')[::-1][0:20]\n"
   ]
  },
  {
   "cell_type": "code",
   "execution_count": null,
   "metadata": {},
   "outputs": [],
   "source": [
    "top_20freq_df = df_working.groupby('user').count().reset_index()\\\n",
    "    .iloc[:,0:2].sort_values('date')[::-1][0:20]\n",
    "\n",
    "top_20freq_df"
   ]
  },
  {
   "cell_type": "markdown",
   "metadata": {},
   "source": [
    "Repeat for the top 20 dollar value depositors"
   ]
  },
  {
   "cell_type": "code",
   "execution_count": null,
   "metadata": {},
   "outputs": [],
   "source": [
    "top_20dep_df = df_working[['user', 'amount']] \\\n",
    "    .groupby('user').sum().reset_index() \\\n",
    "    .sort_values('amount')[::-1][0:20]\n",
    "\n",
    "top_20dep_df"
   ]
  },
  {
   "cell_type": "markdown",
   "metadata": {},
   "source": [
    "Plot freq and dep df's side by side to see how they match up"
   ]
  },
  {
   "cell_type": "code",
   "execution_count": null,
   "metadata": {},
   "outputs": [],
   "source": [
    "fig, ax = plt.subplots(ncols=2, figsize=(15, 5))\n",
    "\n",
    "sns.barplot(top_20freq_df, x='date', y='user',\n",
    "            ax = ax[0])\n",
    "sns.barplot(top_20dep_df, x='amount', y='user',\n",
    "            ax = ax[1])\n"
   ]
  },
  {
   "cell_type": "markdown",
   "metadata": {},
   "source": [
    "Use pd.merge to find the common user in both the frequency and deposit value df's and print them out"
   ]
  },
  {
   "cell_type": "code",
   "execution_count": null,
   "metadata": {},
   "outputs": [],
   "source": [
    "common_customers = pd.merge(top_20freq_df, top_20dep_df, on='user') \n",
    "print(common_customers)"
   ]
  },
  {
   "cell_type": "markdown",
   "metadata": {},
   "source": [
    "There are only four customers who appear as top-20' on both lists. The suggests that the relationship\n",
    "between number of deposits and the value of those deposits is not strong"
   ]
  },
  {
   "cell_type": "markdown",
   "metadata": {},
   "source": [
    "The data contains date/time information on the transactions.\n",
    "Use this data to see if there is a  disceranble pattern to patron activity using a heatmap"
   ]
  },
  {
   "cell_type": "code",
   "execution_count": null,
   "metadata": {},
   "outputs": [],
   "source": [
    "# extract 'hour' from the datetime group\n",
    "\n",
    "df_working.date.dt.hour\n",
    "df_working['hour'] = df_working.date.dt.hour"
   ]
  },
  {
   "cell_type": "code",
   "execution_count": null,
   "metadata": {},
   "outputs": [],
   "source": [
    "# extract the day of the week\n",
    "\n",
    "df_working.date.dt.day_of_week\n",
    "df_working['day_of_week'] = df_working.date.dt \\\n",
    "    .day_of_week\n",
    "\n",
    "df_working"
   ]
  },
  {
   "cell_type": "code",
   "execution_count": null,
   "metadata": {},
   "outputs": [],
   "source": [
    "# the day of the week is presented as an integer.\n",
    "#create a dictionary to map names to the integers\n",
    "\n",
    "day_of_the_week_dict = {0: 'Monday',\n",
    "                        1: 'Tuesday',\n",
    "                        2: 'Wednesday',\n",
    "                        3: 'Thursday',\n",
    "                        4: 'Friday',\n",
    "                        5: 'Saturday',\n",
    "                        6: 'Sunday',\n",
    "                        }\n",
    "\n",
    "df_working.day_of_week = df_working['day_of_week']\\\n",
    "    .map(day_of_the_week_dict)\n",
    "\n",
    "df_working"
   ]
  },
  {
   "cell_type": "markdown",
   "metadata": {},
   "source": [
    "Create the data for the heatmap.\n",
    "Need a confusion matrix with day of the week as index and hours of the day as the cols.\n",
    "Panda pivot_table to organize the data"
   ]
  },
  {
   "cell_type": "code",
   "execution_count": null,
   "metadata": {},
   "outputs": [],
   "source": [
    "df_working[['hour', 'day_of_week', 'type']] \\\n",
    ".groupby(['hour', 'day_of_week']).count().reset_index()"
   ]
  },
  {
   "cell_type": "code",
   "execution_count": null,
   "metadata": {},
   "outputs": [],
   "source": [
    "h_d_g = df_working[['hour', 'day_of_week', 'type']] \\\n",
    ".groupby(['hour', 'day_of_week']).count().reset_index()\n",
    "\n",
    "h_d_g"
   ]
  },
  {
   "cell_type": "code",
   "execution_count": null,
   "metadata": {},
   "outputs": [],
   "source": [
    "df_heatmap = pd.pivot_table(h_d_g, values='type', index='day_of_week',\n",
    "                                columns='hour')"
   ]
  },
  {
   "cell_type": "code",
   "execution_count": null,
   "metadata": {},
   "outputs": [],
   "source": [
    "sns.heatmap(df_heatmap)"
   ]
  },
  {
   "cell_type": "markdown",
   "metadata": {},
   "source": [
    "The heatmap shows that deposit activity is concentrated in the am and diminishes significantly in the pm. \n",
    "This is consistent with patrons replenishing their accounts before gaming.\n",
    "\n",
    "Consider developing the data for a heatmap of L2W to see if that shows similar patterns"
   ]
  },
  {
   "cell_type": "markdown",
   "metadata": {},
   "source": [
    "We can look at patron daily activity but there are likely gaps that will prevent plotting this.\n",
    "Confirm on one patron and fill in gaps as necessary"
   ]
  },
  {
   "cell_type": "code",
   "execution_count": null,
   "metadata": {},
   "outputs": [],
   "source": [
    "df_working.columns"
   ]
  },
  {
   "cell_type": "code",
   "execution_count": null,
   "metadata": {},
   "outputs": [],
   "source": [
    "daily_activity = df_working.groupby(['user', 'date']) \\\n",
    ".agg({'amount':'sum', 'type':'count'}) \\\n",
    ".reset_index()\n",
    "\n",
    "daily_activity"
   ]
  },
  {
   "cell_type": "code",
   "execution_count": null,
   "metadata": {},
   "outputs": [],
   "source": [
    "# change the digit to whatever patron you want from 0-20\n",
    "\n",
    "c4 = daily_activity[daily_activity.user == '4'][0:20]\n",
    "c4"
   ]
  },
  {
   "cell_type": "markdown",
   "metadata": {},
   "source": [
    "Fill the gaps in the dates"
   ]
  },
  {
   "cell_type": "code",
   "execution_count": null,
   "metadata": {},
   "outputs": [],
   "source": [
    "full_customer_df = pd.DataFrame()\n",
    "\n",
    "for customer_id in daily_activity.user.unique():\n",
    "    customer_df = daily_activity[daily_activity.user == customer_id]\n",
    "\n",
    "    full_range = pd.date_range(customer_df.date.min(),customer_df.date.max(), freq='D')\n",
    "\n",
    "    customer_df = customer_df.set_index(keys='date')\n",
    "\n",
    "    customer_df = customer_df.reindex(list(full_range), fill_value=0)\n",
    "\n",
    "    customer_df.user = [customer_id] * len(customer_df)\n",
    "\n",
    "    customer_df = customer_df.reset_index()\n",
    "\n",
    "    full_customer_df = pd.concat([full_customer_df, customer_df])\n",
    "\n",
    "full_customer_df = full_customer_df.reset_index(drop=True)"
   ]
  },
  {
   "cell_type": "code",
   "execution_count": null,
   "metadata": {},
   "outputs": [],
   "source": [
    "print(full_customer_df.isnull().sum())"
   ]
  },
  {
   "cell_type": "markdown",
   "metadata": {},
   "source": [
    "Try the Sankey plot again. Lots of checks on the way"
   ]
  },
  {
   "cell_type": "code",
   "execution_count": null,
   "metadata": {},
   "outputs": [],
   "source": [
    "full_customer_df['month'] = full_customer_df.date.dt.to_period('M')"
   ]
  },
  {
   "cell_type": "code",
   "execution_count": null,
   "metadata": {},
   "outputs": [],
   "source": [
    "customer_month = full_customer_df.groupby(['month', 'user']).count().reset_index().iloc[:, :2]"
   ]
  },
  {
   "cell_type": "code",
   "execution_count": null,
   "metadata": {},
   "outputs": [],
   "source": [
    "start_ = customer_month.groupby('user').min().reset_index()"
   ]
  },
  {
   "cell_type": "code",
   "execution_count": null,
   "metadata": {},
   "outputs": [],
   "source": [
    "end_ = customer_month.groupby('user').max().reset_index()"
   ]
  },
  {
   "cell_type": "code",
   "execution_count": null,
   "metadata": {},
   "outputs": [],
   "source": [
    "start_end_df = pd.merge(start_, end_, on='user')"
   ]
  },
  {
   "cell_type": "code",
   "execution_count": null,
   "metadata": {},
   "outputs": [],
   "source": [
    "source_target_value = start_end_df.groupby(['month_x', 'month_y']).count().reset_index()"
   ]
  },
  {
   "cell_type": "code",
   "execution_count": null,
   "metadata": {},
   "outputs": [],
   "source": [
    "source_target_value"
   ]
  },
  {
   "cell_type": "markdown",
   "metadata": {},
   "source": [
    "Use LabelEncoder to set up the Sankey data"
   ]
  },
  {
   "cell_type": "code",
   "execution_count": null,
   "metadata": {},
   "outputs": [],
   "source": [
    "le = LabelEncoder()\n",
    "le.fit_transform(source_target_value.month_x.unique())"
   ]
  },
  {
   "cell_type": "code",
   "execution_count": null,
   "metadata": {},
   "outputs": [],
   "source": [
    "fig = go.Figure(data=[go.Sankey(node=dict(\n",
    "    pad=100,\n",
    "    thickness=10,\n",
    "    line=dict(color = 'gray', width = 0.5),\n",
    "    label = ['Mar', 'Apr', 'May', 'Jun', 'Jul', 'Aug', 'Sep',\n",
    "            'Oct', 'Nov', 'Dec', 'Jan', 'Feb' ],\n",
    "\n",
    "    color = 'orange'),\n",
    "                    link = dict(\n",
    "                        source = le.transform(source_target_value.month_x.tolist()),\n",
    "                        target = le.transform(source_target_value.month_y.tolist()),\n",
    "                        value = source_target_value.user.tolist(),\n",
    "                        #hovercolor =['black']\n",
    "                    \n",
    "))])\n",
    "\n",
    "fig.update_layout(title_text='Customer Activity: Mar-Feb')\n",
    "\n",
    "fig.show()"
   ]
  },
  {
   "cell_type": "markdown",
   "metadata": {},
   "source": [
    "Who in the data exits gaming the quickest"
   ]
  },
  {
   "cell_type": "code",
   "execution_count": null,
   "metadata": {},
   "outputs": [],
   "source": [
    "source_target_value"
   ]
  },
  {
   "cell_type": "code",
   "execution_count": null,
   "metadata": {},
   "outputs": [],
   "source": [
    "fast_quiter_ = source_target_value[source_target_value.month_x == source_target_value.month_y]\n",
    "\n",
    "source_target_value = source_target_value[source_target_value.month_x != source_target_value.month_y]"
   ]
  },
  {
   "cell_type": "code",
   "execution_count": null,
   "metadata": {},
   "outputs": [],
   "source": [
    "fast_quiter_"
   ]
  },
  {
   "cell_type": "code",
   "execution_count": null,
   "metadata": {},
   "outputs": [],
   "source": [
    "source_target_value"
   ]
  },
  {
   "cell_type": "code",
   "execution_count": null,
   "metadata": {},
   "outputs": [],
   "source": [
    "tc_df = customer_month.groupby('month').count().reset_index()\n",
    "\n",
    "tc_df"
   ]
  },
  {
   "cell_type": "code",
   "execution_count": null,
   "metadata": {},
   "outputs": [],
   "source": [
    "fq_df = fast_quiter_[['month_x', 'user']]\n",
    "\n",
    "fq_df\n"
   ]
  },
  {
   "cell_type": "code",
   "execution_count": null,
   "metadata": {},
   "outputs": [],
   "source": [
    "q_t = pd.merge(tc_df, fq_df, right_on = 'month_x', left_on = 'month')[['month', 'user_x', 'user_y']]\n",
    "\n",
    "q_t.rename(columns = {'month': 'month', 'user_x': 'total', 'user_y': 'quit'}, inplace=True)\n",
    "\n",
    "q_t"
   ]
  },
  {
   "cell_type": "code",
   "execution_count": null,
   "metadata": {},
   "outputs": [],
   "source": [
    "fig, ax=plt.subplots(figsize=(15, 5))\n",
    "sns.barplot(q_t.melt(id_vars = ['month']), x= 'month', y='value', hue='variable')"
   ]
  }
 ],
 "metadata": {
  "kernelspec": {
   "display_name": "Python 3",
   "language": "python",
   "name": "python3"
  },
  "language_info": {
   "codemirror_mode": {
    "name": "ipython",
    "version": 3
   },
   "file_extension": ".py",
   "mimetype": "text/x-python",
   "name": "python",
   "nbconvert_exporter": "python",
   "pygments_lexer": "ipython3",
   "version": "3.10.12"
  }
 },
 "nbformat": 4,
 "nbformat_minor": 2
}
